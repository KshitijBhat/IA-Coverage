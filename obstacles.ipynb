{
 "cells": [
  {
   "cell_type": "code",
   "execution_count": 10,
   "metadata": {},
   "outputs": [],
   "source": [
    "from Interval import *\n",
    "import cv2\n",
    "from sympy.geometry import Line"
   ]
  },
  {
   "cell_type": "code",
   "execution_count": 3,
   "metadata": {},
   "outputs": [],
   "source": [
    "class Robot(Interval):\n",
    "    radius = 30\n",
    "    bot_color = 'r'\n",
    "    color = 'red'\n",
    "    Δt = 1\n",
    "    \n",
    "    def __init__(self,x_bot,y_bot,yaw,*args):\n",
    "        \n",
    "        self.x_bot = x_bot\n",
    "        self.y_bot = y_bot\n",
    "        self.yaw = yaw\n",
    "        if len(args)==4:\n",
    "            vi,vj,wi,wj = args\n",
    "            self.theta1 = yaw\n",
    "            self.theta2 = yaw + (wi - wj)*self.Δt\n",
    "            self.origin = (x_bot+self.radius*(np.cos(self.theta1)+np.cos(self.theta2))/(1e-6 + np.sin(self.theta1-self.theta2)),\n",
    "                           y_bot+self.radius*(np.sin(self.theta1)+np.sin(self.theta2))/(1e-6 + np.sin(self.theta1-self.theta2)))\n",
    "            self.r1 = 0\n",
    "            self.r2 = (vi-vj)*self.Δt\n",
    "            n = self.radius/np.sin(1e-6+(self.theta2-self.theta1)/2)\n",
    "            self.nu1 = n - self.radius\n",
    "            self.nu2 = n + self.radius + self.r2\n",
    "            super(Robot,self).__init__(self.nu1,self.nu2,self.theta1,self.theta2,self.origin)\n",
    "                       \n",
    "    \n",
    "    def plot(self,ax):\n",
    "        bot_circle = plt.Circle( (self.x_bot, self.y_bot),self.radius,color=self.bot_color)\n",
    "        arrow = ax.arrow(self.x_bot,self.y_bot,self.radius*np.cos(self.yaw),self.radius*np.sin(self.yaw))\n",
    "        patch = ax.add_patch(bot_circle)\n",
    "        return [bot_circle,arrow]\n",
    "                           \n",
    "    def plot_interval(self,ax):\n",
    "        return super(Robot,self).draw(ax,self.color)"
   ]
  },
  {
   "cell_type": "code",
   "execution_count": 4,
   "metadata": {},
   "outputs": [
    {
     "data": {
      "text/plain": [
       "<matplotlib.image.AxesImage at 0x926e710>"
      ]
     },
     "execution_count": 4,
     "metadata": {},
     "output_type": "execute_result"
    },
    {
     "data": {
      "image/png": "[encoded data removed]",
      "text/plain": [
       "<Figure size 360x360 with 1 Axes>"
      ]
     },
     "metadata": {
      "needs_background": "light"
     },
     "output_type": "display_data"
    }
   ],
   "source": [
    "arena = cv2.imread(\"arena1.png\")\n",
    "arena = (1-cv2.cvtColor(arena,cv2.COLOR_RGB2GRAY)/255).astype('int')\n",
    "fig,ax = plt.subplots(figsize=(5,5))\n",
    "ax.imshow(arena,cmap = plt.cm.Dark2)"
   ]
  },
  {
   "cell_type": "code",
   "execution_count": 25,
   "metadata": {},
   "outputs": [
    {
     "data": {
      "image/png": "[encoded data removed]",
      "text/plain": [
       "<Figure size 576x576 with 1 Axes>"
      ]
     },
     "metadata": {
      "needs_background": "light"
     },
     "output_type": "display_data"
    }
   ],
   "source": [
    "robot = Robot(200,800,0,5,-20,0,-0.78)\n",
    "fig,ax = plt.subplots(figsize=(8,8))\n",
    "ax.imshow(arena,cmap = plt.cm.Dark2,origin = 'lower')\n",
    "robot.plot(ax)\n",
    "robot.plot_interval(ax)"
   ]
  },
  {
   "cell_type": "code",
   "execution_count": 5,
   "metadata": {},
   "outputs": [],
   "source": [
    "arena_c = cv2.imread(\"arenap.png\")\n"
   ]
  },
  {
   "cell_type": "code",
   "execution_count": 6,
   "metadata": {},
   "outputs": [
    {
     "name": "stdout",
     "output_type": "stream",
     "text": [
      "[[(820, 463), (875, 409), (876, 518), (930, 463)], [(443, 200), (489, 246), (490, 155), (535, 200)], [(155, 679), (210, 776), (267, 679)], [(29, 270), (240, 34)], [(568, 834), (629, 852), (700, 821), (734, 771)], [(33, 983), (988, 981), (995, 32)]]\n"
     ]
    }
   ],
   "source": [
    "entities = [[],[],[],[],[],[]]\n",
    "points = {\n",
    "    (255,0,0) : 0,\n",
    "    (0,255,0) : 1,\n",
    "    (0,0,255) : 2,\n",
    "    (128,128,0)  : 3,\n",
    "    (128,0,128) : 4,\n",
    "    (0,128,128) : 5 \n",
    "}\n",
    "\n",
    "for i in range(len(arena_c)):\n",
    "    for j in range(len(arena_c)):\n",
    "        try:\n",
    "            entities[int(points[tuple(arena_c[i,j])])].append((i,j))\n",
    "        except KeyError:\n",
    "            pass\n",
    "\n",
    "\n",
    "print(entities)        \n",
    "        "
   ]
  },
  {
   "cell_type": "code",
   "execution_count": 7,
   "metadata": {},
   "outputs": [
    {
     "data": {
      "image/png": "[encoded data removed]",
      "text/plain": [
       "<Figure size 360x360 with 1 Axes>"
      ]
     },
     "metadata": {
      "needs_background": "light"
     },
     "output_type": "display_data"
    }
   ],
   "source": [
    "fig,ax = plt.subplots(figsize=(5,5))\n",
    "ax.imshow(arena,cmap = plt.cm.Dark2,origin='lower')\n",
    "colors = {\n",
    "    0:\"red\",\n",
    "    1:\"blue\",\n",
    "    2:\"green\",\n",
    "    3:\"cyan\",\n",
    "    4: \"yellow\",\n",
    "    5: \"white\"\n",
    "}\n",
    "for i in range(6):\n",
    "    for point in entities[i]:\n",
    "        ax.scatter(point[1],point[0], marker = \".\", color = colors[i], s = 10)"
   ]
  },
  {
   "cell_type": "code",
   "execution_count": 8,
   "metadata": {},
   "outputs": [
    {
     "data": {
      "image/png": "[encoded data removed]",
      "text/plain": [
       "<Figure size 360x360 with 1 Axes>"
      ]
     },
     "metadata": {
      "needs_background": "light"
     },
     "output_type": "display_data"
    }
   ],
   "source": [
    "\n",
    "fig,ax = plt.subplots(figsize=(5,5))\n",
    "ax.imshow(arena,cmap = plt.cm.Dark2,origin='lower')\n",
    "i = 0\n",
    "for point in entities[5]:\n",
    "        ax.scatter(point[1],point[0], marker = \".\", color = colors[i], s = 10)\n",
    "        i+=1\n",
    "       \n",
    "      "
   ]
  },
  {
   "cell_type": "code",
   "execution_count": 99,
   "metadata": {},
   "outputs": [
    {
     "name": "stdout",
     "output_type": "stream",
     "text": [
      "radius = 54.751146764861105, center = (463.0, 875.5)\n"
     ]
    },
    {
     "data": {
      "image/png": "[encoded data removed]",
      "text/plain": [
       "<Figure size 360x360 with 1 Axes>"
      ]
     },
     "metadata": {
      "needs_background": "light"
     },
     "output_type": "display_data"
    }
   ],
   "source": [
    "\n",
    "fig,ax = plt.subplots(figsize=(5,5))\n",
    "ax.imshow(arena,cmap = plt.cm.Dark2,origin='lower')\n",
    "circle = entities[0]\n",
    "r1 = np.linalg.norm(np.array(circle[1])-np.array(circle[2]))\n",
    "r2 = np.linalg.norm(np.array(circle[0])-np.array(circle[3]))\n",
    "r = (r1+r2)/4\n",
    "center = ((circle[3][1]+circle[0][1])/2,(circle[2][0]+circle[1][0])/2)\n",
    "circle1 = Interval(0,r,0,6.2831,center)\n",
    "circle1.draw(ax,'red')\n",
    "print(f\"radius = {r}, center = {center}\")"
   ]
  },
  {
   "cell_type": "code",
   "execution_count": 100,
   "metadata": {},
   "outputs": [
    {
     "name": "stdout",
     "output_type": "stream",
     "text": [
      "radius = 45.751373584906915, center = (200.0, 489.5)\n"
     ]
    },
    {
     "data": {
      "image/png": "[encoded data removed]",
      "text/plain": [
       "<Figure size 360x360 with 1 Axes>"
      ]
     },
     "metadata": {
      "needs_background": "light"
     },
     "output_type": "display_data"
    }
   ],
   "source": [
    "\n",
    "fig,ax = plt.subplots(figsize=(5,5))\n",
    "ax.imshow(arena,cmap = plt.cm.Dark2,origin='lower')\n",
    "circle = entities[1]\n",
    "r1 = np.linalg.norm(np.array(circle[1])-np.array(circle[2]))\n",
    "r2 = np.linalg.norm(np.array(circle[0])-np.array(circle[3]))\n",
    "r = (r1+r2)/4\n",
    "center = ((circle[3][1]+circle[0][1])/2,(circle[2][0]+circle[1][0])/2)\n",
    "circle1 = Interval(0,r,0,6.2831,center)\n",
    "circle1.draw(ax,'red')\n",
    "print(f\"radius = {r}, center = {center}\")"
   ]
  },
  {
   "cell_type": "code",
   "execution_count": 117,
   "metadata": {},
   "outputs": [
    {
     "name": "stdout",
     "output_type": "stream",
     "text": [
      "radius = 112.00781238321308, theta1 = 2.6257835681132704,theta2 = 3.6728660674316074 center = (776, 210)\n"
     ]
    },
    {
     "data": {
      "image/png": "[encoded data removed]",
      "text/plain": [
       "<Figure size 360x360 with 1 Axes>"
      ]
     },
     "metadata": {
      "needs_background": "light"
     },
     "output_type": "display_data"
    }
   ],
   "source": [
    "fig,ax = plt.subplots(figsize=(5,5))\n",
    "ax.imshow(arena,cmap = plt.cm.Dark2,origin='lower')\n",
    "sector = entities[2]\n",
    "r1 = np.linalg.norm(np.array(sector[0])-np.array(sector[1]))\n",
    "r2 = np.linalg.norm(np.array(sector[1])-np.array(sector[2]))\n",
    "r = (r1+r2)/2\n",
    "center = sector[1][::-1]\n",
    "xp1,yp1 = np.array(sector[1])-np.array(sector[2])\n",
    "theta1 = np.arctan2(yp1,xp1) if yp1>=0 else 2*np.pi + np.arctan2(yp1,xp1)\n",
    "xp2,yp2 = np.array(sector[0])-np.array(sector[1])\n",
    "theta2 = np.arctan2(yp2,xp2) if yp2>=0 else 2*np.pi + np.arctan2(yp2,xp2)\n",
    "\n",
    "circle1 = Interval(0,r,theta1+np.pi/2,theta2-np.pi/2,center)\n",
    "circle1.draw(ax,'red')\n",
    "print(f\"radius = {r}, theta1 = {circle1.theta1},theta2 = {circle1.theta2} center = {center}\")"
   ]
  },
  {
   "cell_type": "code",
   "execution_count": 170,
   "metadata": {},
   "outputs": [
    {
     "name": "stdout",
     "output_type": "stream",
     "text": [
      "radius = 316.5706872090339, theta1 = 2.412064696573217,theta2 = 2.412064696573217 center = (29, 270)\n"
     ]
    },
    {
     "data": {
      "image/png": "[encoded data removed]",
      "text/plain": [
       "<Figure size 360x360 with 1 Axes>"
      ]
     },
     "metadata": {
      "needs_background": "light"
     },
     "output_type": "display_data"
    }
   ],
   "source": [
    "fig,ax = plt.subplots(figsize=(5,5))\n",
    "ax.imshow(arena,cmap = plt.cm.Dark2,origin='lower')\n",
    "sector = entities[3]\n",
    "r = np.linalg.norm(np.array(sector[0])-np.array(sector[1]))\n",
    "\n",
    "center = sector[0] #[::-1]\n",
    "\n",
    "line1 = Line(sector[0],sector[1])\n",
    "\n",
    "line3 = Line(center,(center[0]+2,center[1]))\n",
    "theta1 = float(line1.angle_between(line3))\n",
    "circle1 = Interval(0,r,np.pi/2+theta1,np.pi/2+theta1,center[::-1])\n",
    "circle1.draw(ax,'red')\n",
    "print(f\"radius = {r}, theta1 = {circle1.theta1},theta2 = {circle1.theta2} center = {center}\")"
   ]
  },
  {
   "cell_type": "code",
   "execution_count": 166,
   "metadata": {},
   "outputs": [
    {
     "name": "stdout",
     "output_type": "stream",
     "text": [
      "0.973619668702219\n",
      "r1 = 47.83718524347152, r2 = 109.86977539144914, theta1 = 2.5444159954971157,theta2 = 4.42545022745392 center = (864.2687056253413, 670.5772801747679)\n"
     ]
    },
    {
     "data": {
      "image/png": "[encoded data removed]",
      "text/plain": [
       "<Figure size 360x360 with 1 Axes>"
      ]
     },
     "metadata": {
      "needs_background": "light"
     },
     "output_type": "display_data"
    }
   ],
   "source": [
    "\n",
    "fig,ax = plt.subplots(figsize=(5,5))\n",
    "ax.imshow(arena,cmap = plt.cm.Dark2,origin='lower')\n",
    "asector = entities[4]\n",
    "line1 = Line(asector[0],asector[1])\n",
    "line2 = Line(asector[2],asector[3])\n",
    "\n",
    "center = intersection(line1,line2)[0]\n",
    "line3 = Line(center,(center.x+2,center.y))\n",
    "theta1 = float(line2.angle_between(line3))\n",
    "theta2 = float(line1.angle_between(line3))\n",
    "sector = [asector[0],(float(center.x),float(center.y)),asector[3]]\n",
    "r1 = np.linalg.norm(np.array(sector[0])-np.array(sector[1]))\n",
    "r2 = np.linalg.norm(np.array(sector[1])-np.array(sector[2]))\n",
    "r = (r1+r2)/2\n",
    "r11 = np.linalg.norm(np.array(asector[1])-np.array(sector[1]))\n",
    "r22 = np.linalg.norm(np.array(asector[2])-np.array(sector[1]))\n",
    "ra = (r11+r22)/2\n",
    "center = sector[1][::-1]\n",
    "\n",
    "print((theta1))\n",
    "\n",
    "circle1 = Interval(ra,r,theta1+np.pi/2,3*np.pi/2-theta2,center)\n",
    "circle1.draw(ax,'red')\n",
    "print(f\"r1 = {ra}, r2 = {r}, theta1 = {circle1.theta1},theta2 = {circle1.theta2} center = {center}\")"
   ]
  },
  {
   "cell_type": "code",
   "execution_count": 16,
   "metadata": {},
   "outputs": [
    {
     "name": "stdout",
     "output_type": "stream",
     "text": [
      "radius = 713.0112201080709, theta1 = -0.005610039321912508,theta2 = -0.005610039321912508 center = (29, 270)\n"
     ]
    },
    {
     "data": {
      "image/png": "[encoded data removed]",
      "text/plain": [
       "<Figure size 360x360 with 1 Axes>"
      ]
     },
     "metadata": {
      "needs_background": "light"
     },
     "output_type": "display_data"
    }
   ],
   "source": [
    "fig,ax = plt.subplots(figsize=(5,5))\n",
    "ax.imshow(arena,cmap = plt.cm.Dark2,origin='lower')\n",
    "sector = [(29,270),entities[5][0]]\n",
    "r = np.linalg.norm(np.array(sector[0])-np.array(sector[1]))\n",
    "\n",
    "center = sector[0] #[::-1]\n",
    "\n",
    "line1 = Line(sector[0],sector[1])\n",
    "\n",
    "line3 = Line(center,(center[0]+2,center[1]))\n",
    "theta1 = float(line1.angle_between(line3))\n",
    "circle1 = Interval(0,r,0-np.pi/2+theta1,0-np.pi/2+theta1,center[::-1])\n",
    "circle1.draw(ax,'red')\n",
    "print(f\"radius = {r}, theta1 = {circle1.theta1},theta2 = {circle1.theta2} center = {center}\")"
   ]
  },
  {
   "cell_type": "code",
   "execution_count": 18,
   "metadata": {},
   "outputs": [
    {
     "name": "stdout",
     "output_type": "stream",
     "text": [
      "radius = 955.0020942385414, theta1 = 1.5728905645709292,theta2 = 1.5728905645709292 center = (33, 983)\n"
     ]
    },
    {
     "data": {
      "image/png": "[encoded data removed]",
      "text/plain": [
       "<Figure size 360x360 with 1 Axes>"
      ]
     },
     "metadata": {
      "needs_background": "light"
     },
     "output_type": "display_data"
    }
   ],
   "source": [
    "fig,ax = plt.subplots(figsize=(5,5))\n",
    "ax.imshow(arena,cmap = plt.cm.Dark2,origin='lower')\n",
    "sector = [entities[5][0],entities[5][1]]\n",
    "r = np.linalg.norm(np.array(sector[0])-np.array(sector[1]))\n",
    "\n",
    "center = sector[0] #[::-1]\n",
    "\n",
    "line1 = Line(sector[0],sector[1])\n",
    "\n",
    "line3 = Line(center,(center[0]+2,center[1]))\n",
    "theta1 = float(line1.angle_between(line3))\n",
    "circle1 = Interval(0,r,np.pi/2+theta1,np.pi/2+theta1,center[::-1])\n",
    "circle1.draw(ax,'red')\n",
    "print(f\"radius = {r}, theta1 = {circle1.theta1},theta2 = {circle1.theta2} center = {center}\")"
   ]
  },
  {
   "cell_type": "code",
   "execution_count": 20,
   "metadata": {
    "scrolled": true
   },
   "outputs": [
    {
     "name": "stdout",
     "output_type": "stream",
     "text": [
      "radius = 949.0258162979551, theta1 = 3.134216601901824,theta2 = 3.134216601901824 center = (988, 981)\n"
     ]
    },
    {
     "data": {
      "image/png": "[encoded data removed]",
      "text/plain": [
       "<Figure size 360x360 with 1 Axes>"
      ]
     },
     "metadata": {
      "needs_background": "light"
     },
     "output_type": "display_data"
    }
   ],
   "source": [
    "fig,ax = plt.subplots(figsize=(5,5))\n",
    "ax.imshow(arena,cmap = plt.cm.Dark2,origin='lower')\n",
    "sector = [entities[5][1],entities[5][2]]\n",
    "r = np.linalg.norm(np.array(sector[0])-np.array(sector[1]))\n",
    "\n",
    "center = sector[0] #[::-1]\n",
    "\n",
    "line1 = Line(sector[0],sector[1])\n",
    "\n",
    "line3 = Line(center,(center[0]+2,center[1]))\n",
    "theta1 = float(line1.angle_between(line3))\n",
    "circle1 = Interval(0,r,np.pi/2+theta1,np.pi/2+theta1,center[::-1])\n",
    "circle1.draw(ax,'red')\n",
    "print(f\"radius = {r}, theta1 = {circle1.theta1},theta2 = {circle1.theta2} center = {center}\")"
   ]
  },
  {
   "cell_type": "code",
   "execution_count": 25,
   "metadata": {
    "scrolled": true
   },
   "outputs": [
    {
     "name": "stdout",
     "output_type": "stream",
     "text": [
      "radius = 755.0026490019753, theta1 = 4.709739979958382,theta2 = 4.709739979958382 center = (995, 32)\n"
     ]
    },
    {
     "data": {
      "image/png": "[encoded data removed]",
      "text/plain": [
       "<Figure size 360x360 with 1 Axes>"
      ]
     },
     "metadata": {
      "needs_background": "light"
     },
     "output_type": "display_data"
    }
   ],
   "source": [
    "fig,ax = plt.subplots(figsize=(5,5))\n",
    "ax.imshow(arena,cmap = plt.cm.Dark2,origin='lower')\n",
    "sector = [entities[5][2],entities[3][1]]\n",
    "r = np.linalg.norm(np.array(sector[0])-np.array(sector[1]))\n",
    "\n",
    "center = sector[0] #[::-1]\n",
    "\n",
    "line1 = Line(sector[0],sector[1])\n",
    "\n",
    "line3 = Line(center,(center[0]+2,center[1]))\n",
    "theta1 = float(line1.angle_between(line3))\n",
    "circle1 = Interval(0,r,np.pi/2+theta1,np.pi/2+theta1,center[::-1])\n",
    "circle1.draw(ax,'red')\n",
    "print(f\"radius = {r}, theta1 = {circle1.theta1},theta2 = {circle1.theta2} center = {center}\")"
   ]
  },
  {
   "cell_type": "code",
   "execution_count": 26,
   "metadata": {},
   "outputs": [
    {
     "data": {
      "image/png": "[encoded data removed]",
      "text/plain": [
       "<Figure size 360x360 with 1 Axes>"
      ]
     },
     "metadata": {
      "needs_background": "light"
     },
     "output_type": "display_data"
    }
   ],
   "source": [
    "circle1 = Interval(0,45.751373584906915,0,6.283185307, (200.0, 489.5))\n",
    "circle2 = Interval(0,54.751146764861105, 0,6.283185307, (463.0, 875.5))\n",
    "sector = Interval(0,112.00781238321308, 2.6257835681132704,3.6728660674316074,(776, 210))\n",
    "asector = Interval(47.83718524347152,109.86977539144914,2.5444159954971157,4.42545022745392,(864.2687056253413, 670.5772801747679))\n",
    "wall1 = Interval(0,316.5706872090339,2.412064696573217,2.412064696573217,(270,29))\n",
    "wall2 = Interval(0,713.0112201080709,0.00,0.00,(270,29))\n",
    "wall3 = Interval(0,955.0020942385414,1.5728905645709292,1.5728905645709292,(983,33))\n",
    "wall4 = Interval(0,949.0258162979551,3.134216601901824,3.134216601901824,(981,988))\n",
    "wall5 = Interval(0,755.0026490019753,4.709739979958382,4.709739979958382,(32,995))\n",
    "fig,ax = plt.subplots(figsize=(5,5))\n",
    "ax.imshow(arena,cmap = plt.cm.Dark2,origin='lower')\n",
    "circle1.draw(ax,'blue')\n",
    "circle2.draw(ax,'blue')\n",
    "sector.draw(ax,'blue')\n",
    "asector.draw(ax,'blue')\n",
    "wall1.draw(ax,'red')\n",
    "wall2.draw(ax,'red')\n",
    "wall3.draw(ax,'red')\n",
    "wall4.draw(ax,'red')\n",
    "wall5.draw(ax,'red')\n"
   ]
  },
  {
   "cell_type": "code",
   "execution_count": 32,
   "metadata": {},
   "outputs": [],
   "source": [
    "json_string = '''\n",
    "{\n",
    "    \"obstacles\" : [\n",
    "        {\n",
    "        \"name\":\"circle1\",\n",
    "        \"params\":[0,45.751373584906915,0,6.283185307],\n",
    "        \"center\":[200.0, 489.5]\n",
    "        },\n",
    "        {\n",
    "        \"name\":\"circle2\",\n",
    "        \"params\":[0,54.751146764861105, 0,6.283185307],\n",
    "        \"center\":[463.0, 875.5]\n",
    "        },\n",
    "        {\n",
    "        \"name\":\"sector\",\n",
    "        \"params\":[0,112.00781238321308, 2.6257835681132704,3.6728660674316074],\n",
    "        \"center\":[776, 210]\n",
    "        },\n",
    "        {\n",
    "        \"name\":\"asector\",\n",
    "        \"params\":[47.83718524347152,109.86977539144914,2.5444159954971157,4.42545022745392],\n",
    "        \"center\":[864.2687056253413, 670.5772801747679]\n",
    "        },\n",
    "        {\n",
    "        \"name\":\"wall1\",\n",
    "        \"params\":[0,316.5706872090339,2.412064696573217,2.412064696573217],\n",
    "        \"center\":[270,29]\n",
    "        },\n",
    "        {\n",
    "        \"name\":\"wall2\",\n",
    "        \"params\":[0,713.0112201080709,0.00,0.00],\n",
    "        \"center\":[270,29]\n",
    "        },\n",
    "        {\n",
    "        \"name\":\"wall3\",\n",
    "        \"params\":[0,955.0020942385414,1.5728905645709292,1.5728905645709292],\n",
    "        \"center\":[983,33]\n",
    "        },\n",
    "        {\n",
    "        \"name\":\"wall4\",\n",
    "        \"params\":[0,949.0258162979551,3.134216601901824,3.134216601901824],\n",
    "        \"center\":[981,988]\n",
    "        },\n",
    "        {\n",
    "        \"name\":\"wall5\",\n",
    "        \"params\":[0,755.0026490019753,4.709739979958382,4.709739979958382],\n",
    "        \"center\":[32,995]\n",
    "        }  \n",
    "    ]\n",
    "}    \n",
    "'''"
   ]
  },
  {
   "cell_type": "code",
   "execution_count": 27,
   "metadata": {},
   "outputs": [],
   "source": [
    "import json"
   ]
  },
  {
   "cell_type": "code",
   "execution_count": 37,
   "metadata": {},
   "outputs": [],
   "source": [
    "with open('obstacles.json') as f:   \n",
    "    data = json.load(f)\n",
    "obstacles = []\n",
    "for obstacle in data['obstacles']:\n",
    "    params,center = obstacle['params'],obstacle['center']\n",
    "    obstacles.append(Interval(*params,center))   "
   ]
  },
  {
   "cell_type": "code",
   "execution_count": 38,
   "metadata": {},
   "outputs": [
    {
     "data": {
      "image/png": "[encoded data removed]",
      "text/plain": [
       "<Figure size 360x360 with 1 Axes>"
      ]
     },
     "metadata": {
      "needs_background": "light"
     },
     "output_type": "display_data"
    }
   ],
   "source": [
    "fig,ax = plt.subplots(figsize=(5,5))\n",
    "ax.imshow(arena,cmap = plt.cm.Dark2,origin='lower')\n",
    "for obstacle in obstacles:\n",
    "    obstacle.draw(ax,'red')"
   ]
  },
  {
   "cell_type": "code",
   "execution_count": 127,
   "metadata": {},
   "outputs": [
    {
     "data": {
      "text/latex": [
       "$\\displaystyle \\frac{1582476}{1831}$"
      ],
      "text/plain": [
       "1582476/1831"
      ]
     },
     "execution_count": 127,
     "metadata": {},
     "output_type": "execute_result"
    }
   ],
   "source": [
    "center[0].y\n"
   ]
  },
  {
   "cell_type": "code",
   "execution_count": 53,
   "metadata": {},
   "outputs": [
    {
     "name": "stdout",
     "output_type": "stream",
     "text": [
      "23 23\n"
     ]
    }
   ],
   "source": [
    "aa = (23,23)\n",
    "print(*aa)"
   ]
  }
 ],
 "metadata": {
  "kernelspec": {
   "display_name": "Python 3",
   "language": "python",
   "name": "python3"
  },
  "language_info": {
   "codemirror_mode": {
    "name": "ipython",
    "version": 3
   },
   "file_extension": ".py",
   "mimetype": "text/x-python",
   "name": "python",
   "nbconvert_exporter": "python",
   "pygments_lexer": "ipython3",
   "version": "3.7.6"
  }
 },
 "nbformat": 4,
 "nbformat_minor": 4
}
