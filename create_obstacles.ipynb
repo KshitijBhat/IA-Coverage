{
 "cells": [
  {
   "cell_type": "code",
   "execution_count": 1,
   "id": "a0429770",
   "metadata": {},
   "outputs": [],
   "source": [
    "import json\n",
    "from Interval import *\n",
    "import cv2"
   ]
  },
  {
   "cell_type": "code",
   "execution_count": 2,
   "id": "069747bb",
   "metadata": {},
   "outputs": [],
   "source": [
    "json_string = '''\n",
    "{\n",
    "    \"obstacles\" : [\n",
    "        {\n",
    "        \"name\":\"circle1\",\n",
    "        \"params\":[0,45.751373584906915,0,6.283185307],\n",
    "        \"center\":[200.0, 489.5]\n",
    "        },\n",
    "        {\n",
    "        \"name\":\"circle2\",\n",
    "        \"params\":[0,54.751146764861105, 0,6.283185307],\n",
    "        \"center\":[463.0, 875.5]\n",
    "        },\n",
    "        {\n",
    "        \"name\":\"sector\",\n",
    "        \"params\":[0,112.00781238321308, 2.6257835681132704,3.6728660674316074],\n",
    "        \"center\":[776, 210]\n",
    "        },\n",
    "        {\n",
    "        \"name\":\"asector\",\n",
    "        \"params\":[47.83718524347152,109.86977539144914,2.5444159954971157,4.42545022745392],\n",
    "        \"center\":[864.2687056253413, 670.5772801747679]\n",
    "        },\n",
    "        {\n",
    "        \"name\":\"wall1\",\n",
    "        \"params\":[0,316.5706872090339,2.412064696573217,2.412064696573217],\n",
    "        \"center\":[270,29]\n",
    "        },\n",
    "        {\n",
    "        \"name\":\"wall2\",\n",
    "        \"params\":[0,713.0112201080709,0.00,0.00],\n",
    "        \"center\":[270,29]\n",
    "        },\n",
    "        {\n",
    "        \"name\":\"wall3\",\n",
    "        \"params\":[0,955.0020942385414,1.5728905645709292,1.5728905645709292],\n",
    "        \"center\":[983,33]\n",
    "        },\n",
    "        {\n",
    "        \"name\":\"wall4\",\n",
    "        \"params\":[0,949.0258162979551,3.134216601901824,3.134216601901824],\n",
    "        \"center\":[981,988]\n",
    "        },\n",
    "        {\n",
    "        \"name\":\"wall5\",\n",
    "        \"params\":[0,755.0026490019753,4.709739979958382,4.709739979958382],\n",
    "        \"center\":[32,995]\n",
    "        }  \n",
    "    ]\n",
    "}    \n",
    "'''"
   ]
  },
  {
   "cell_type": "code",
   "execution_count": 14,
   "id": "ccddfcdb",
   "metadata": {},
   "outputs": [],
   "source": [
    "# with open('obstacles.json') as f:   \n",
    "#     data = json.load(f)\n",
    "data = json.loads(json_string)\n",
    "obstacles = []\n",
    "for obstacle in data['obstacles']:\n",
    "    params,center = obstacle['params'],obstacle['center']\n",
    "    obstacles.append(Interval(*params,center))  "
   ]
  },
  {
   "cell_type": "code",
   "execution_count": 6,
   "id": "6b43cfcd",
   "metadata": {},
   "outputs": [
    {
     "name": "stdout",
     "output_type": "stream",
     "text": [
      "[Interval(0,45.751373584906915,0.0,6.283185307,[200.0, 489.5]), Interval(0,54.751146764861105,0.0,6.283185307,[463.0, 875.5]), Interval(0,112.00781238321308,2.6257835681132704,3.6728660674316074,[776, 210]), Interval(47.83718524347152,109.86977539144914,2.5444159954971157,4.42545022745392,[864.2687056253413, 670.5772801747679]), Interval(0,316.5706872090339,2.412064696573217,2.412064696573217,[270, 29]), Interval(0,713.0112201080709,0.0,0.0,[270, 29]), Interval(0,955.0020942385414,1.5728905645709292,1.5728905645709292,[983, 33]), Interval(0,949.0258162979551,3.134216601901824,3.134216601901824,[981, 988]), Interval(0,755.0026490019753,-1.5734453272212046,-1.5734453272212046,[32, 995])]\n"
     ]
    }
   ],
   "source": [
    "print(obstacles)"
   ]
  },
  {
   "cell_type": "code",
   "execution_count": 15,
   "id": "5a150f2f",
   "metadata": {},
   "outputs": [
    {
     "data": {
      "image/png": "[encoded data removed]",
      "text/plain": [
       "<Figure size 360x360 with 1 Axes>"
      ]
     },
     "metadata": {
      "needs_background": "light"
     },
     "output_type": "display_data"
    }
   ],
   "source": [
    "# arena = cv2.imread(\"arena1.png\")\n",
    "# arena = (1-cv2.cvtColor(arena,cv2.COLOR_RGB2GRAY)/255).astype('int')\n",
    "\n",
    "fig,ax = plt.subplots(figsize=(5,5))\n",
    "ax.imshow(arena,cmap = plt.cm.Dark2,origin='lower')\n",
    "for obstacle in obstacles:\n",
    "    obstacle.draw(ax,'red')"
   ]
  },
  {
   "cell_type": "code",
   "execution_count": null,
   "id": "97b6e1df",
   "metadata": {},
   "outputs": [],
   "source": [
    "room_string = '''\n",
    "{\n",
    "    \"obstacles\" : [\n",
    "        {\n",
    "        \"name\":\"wall1\",\n",
    "        \"params\":[0,316.5706872090339,2.412064696573217,2.412064696573217],\n",
    "        \"center\":[270,29]\n",
    "        },\n",
    "        {\n",
    "        \"name\":\"wall2\",\n",
    "        \"params\":[0,713.0112201080709,0.00,0.00],\n",
    "        \"center\":[270,29]\n",
    "        },\n",
    "        {\n",
    "        \"name\":\"wall3\",\n",
    "        \"params\":[0,955.0020942385414,1.5728905645709292,1.5728905645709292],\n",
    "        \"center\":[983,33]\n",
    "        },\n",
    "        {\n",
    "        \"name\":\"wall4\",\n",
    "        \"params\":[0,949.0258162979551,3.134216601901824,3.134216601901824],\n",
    "        \"center\":[981,988]\n",
    "        },\n",
    "        {\n",
    "        \"name\":\"wall5\",\n",
    "        \"params\":[0,755.0026490019753,4.709739979958382,4.709739979958382],\n",
    "        \"center\":[32,995]\n",
    "        }  \n",
    "    ]\n",
    "}    \n",
    "'''\n",
    "data = json.loads(room_string)\n",
    "obstacles = []\n",
    "for obstacle in data['obstacles']:\n",
    "    params,center = obstacle['params'],obstacle['center']\n",
    "    obstacles.append(Interval(*params,center))"
   ]
  },
  {
   "cell_type": "code",
   "execution_count": null,
   "id": "d0769c99",
   "metadata": {},
   "outputs": [],
   "source": []
  }
 ],
 "metadata": {
  "kernelspec": {
   "display_name": "Python 3 (ipykernel)",
   "language": "python",
   "name": "python3"
  },
  "language_info": {
   "codemirror_mode": {
    "name": "ipython",
    "version": 3
   },
   "file_extension": ".py",
   "mimetype": "text/x-python",
   "name": "python",
   "nbconvert_exporter": "python",
   "pygments_lexer": "ipython3",
   "version": "3.8.13"
  }
 },
 "nbformat": 4,
 "nbformat_minor": 5
}
