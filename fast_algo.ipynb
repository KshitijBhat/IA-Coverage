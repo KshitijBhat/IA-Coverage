{
 "cells": [
  {
   "cell_type": "code",
   "execution_count": 1,
   "id": "52445c0e",
   "metadata": {},
   "outputs": [],
   "source": [
    "import numpy as np\n",
    "from sympy.geometry import Point,Circle,Segment,intersection\n",
    "import matplotlib.pyplot as plt\n",
    "from matplotlib.patches import Arc as Arc_patch\n",
    "from matplotlib import collections  as mc\n"
   ]
  },
  {
   "cell_type": "code",
   "execution_count": 2,
   "id": "90f48394",
   "metadata": {},
   "outputs": [],
   "source": [
    "class Arc:\n",
    "    def __init__(self,r,theta1,theta2,origin = (0,0)):\n",
    "        x,y = origin\n",
    "        self.x = x\n",
    "        self.y = y\n",
    "        self.r = r\n",
    "        self.theta1 = theta1\n",
    "        self.theta2 = theta2\n",
    "        self.endpoints = [Point(self.x+r*np.cos(theta1),self.y+r*np.sin(theta1)),Point(self.x+r*np.cos(theta2),self.y+r*np.sin(theta2))]\n",
    "        self.circle = Circle(Point(x,y),r)  \n",
    "        \n",
    "    def encloses(self,point):\n",
    "        xp,yp = float(point.x)-self.x,float(point.y)-self.y\n",
    "        theta = np.arctan2(yp,xp) if yp>=0 else 2*np.pi + np.arctan2(yp,xp)\n",
    "        if (theta>=self.theta1 and theta<=self.theta2) or \\\n",
    "           (theta>=self.theta2 and theta<=self.theta1):\n",
    "            return True\n",
    "        else:\n",
    "            return False\n",
    "\n",
    "    def draw(self,ax,color):\n",
    "        ax.add_patch(Arc_patch((self.x, self.y), 2*self.r,2*self.r, theta1=np.rad2deg(self.theta1), theta2=np.rad2deg(self.theta2), linewidth=1, color=color))       \n"
   ]
  },
  {
   "cell_type": "code",
   "execution_count": 3,
   "id": "5f696bdf",
   "metadata": {},
   "outputs": [],
   "source": [
    "def arc_arc(gamma2,gamma2prime):\n",
    "    eta,etaprime = gamma2.circle,gamma2prime.circle\n",
    "    intersect = intersection(eta,etaprime)\n",
    "    pts = []\n",
    "    if len(intersect) > 0:\n",
    "        if gamma2.encloses(intersect[0]) and gamma2prime.encloses(intersect[0]):\n",
    "            pts.append(intersect[0])\n",
    "    if len(intersect) > 1:\n",
    "        if gamma2.encloses(intersect[1]) and gamma2prime.encloses(intersect[1]):\n",
    "            pts.append(intersect[1])    \n",
    "        \n",
    "    return pts"
   ]
  },
  {
   "cell_type": "code",
   "execution_count": null,
   "id": "46fd8db2",
   "metadata": {},
   "outputs": [],
   "source": [
    "def line_line(l1,l2):\n",
    "    return intersection(l1,l2)"
   ]
  },
  {
   "cell_type": "code",
   "execution_count": null,
   "id": "36aa464e",
   "metadata": {},
   "outputs": [],
   "source": [
    "def line_arc(l1prime,gamma2):\n",
    "    intersect = intersection(l1prime,gamma2.circle)\n",
    "    pts = []\n",
    "    if len(intersect)>0:\n",
    "        if gamma2.encloses(intersect[0]):\n",
    "            pts.append(intersect[0])\n",
    "    if len(intersect)>1:\n",
    "        if gamma2.encloses(intersect[1]):\n",
    "            pts.append(intersect[1]) \n",
    "    return pts        \n",
    "        "
   ]
  },
  {
   "cell_type": "code",
   "execution_count": null,
   "id": "8d05fc45",
   "metadata": {},
   "outputs": [],
   "source": [
    "class Interval:\n",
    "    def __init__(self,r1,r2,theta1,theta2,origin=(0,0)):\n",
    "        \n",
    "        if r1>r2:\n",
    "            r1,r2 = r2,r1\n",
    "        \n",
    "        if theta1>theta2:\n",
    "            theta1,theta2 = thata2,theta1\n",
    "            \n",
    "        not_zero = lambda x: x if x != 0.0 else 1e-6    \n",
    "        r1,r2,theta1,theta2 =  list(map(not_zero,[r1,r2,theta1,theta2]))  \n",
    "        \n",
    "        self.r1 = r1\n",
    "        self.r2 = r2  \n",
    "        self.theta1 = theta1\n",
    "        self.theta2 = theta2\n",
    "        x,y = origin\n",
    "        self.x = x\n",
    "        self.y = y\n",
    "        self.gamma1 = Arc(r1,theta1,theta2,origin=origin)\n",
    "        self.gamma2 = Arc(r2,theta1,theta2,origin=origin)\n",
    "        self.l1 = Segment((x+r1*np.cos(theta1),y+r1*np.sin(theta1)),(x+r2*np.cos(theta1),y+r2*np.sin(theta1)))\n",
    "        self.l2 = Segment((x+r1*np.cos(theta2),y+r1*np.sin(theta2)),(x+r2*np.cos(theta2),y+r2*np.sin(theta2)))\n",
    "        self.l = [self.l1,self.l2]\n",
    "        self.gamma = [self.gamma1,self.gamma2]\n",
    "        \n",
    "    def draw(self,ax,color):\n",
    "        try:\n",
    "            l11, l12 = tuple(self.l1.points[0]),tuple(self.l1.points[1])\n",
    "            l21, l22 = tuple(self.l2.points[0]),tuple(self.l2.points[1])\n",
    "            lc = mc.LineCollection([[l11,l12],[l21,l22]], colors = color, linewidths=1)\n",
    "            self.gamma1.draw(ax,color)\n",
    "            self.gamma2.draw(ax,color)\n",
    "            ax.add_collection(lc) \n",
    "            \n",
    "        except AttributeError:\n",
    "            self.gamma1.draw(ax,color)\n",
    "            self.gamma2.draw(ax,color)"
   ]
  },
  {
   "cell_type": "code",
   "execution_count": null,
   "id": "9f198dd8",
   "metadata": {},
   "outputs": [],
   "source": [
    "def fast_inclusion(I,Iprime):\n",
    "    "
   ]
  }
 ],
 "metadata": {
  "kernelspec": {
   "display_name": "Python 3",
   "language": "python",
   "name": "python3"
  },
  "language_info": {
   "codemirror_mode": {
    "name": "ipython",
    "version": 3
   },
   "file_extension": ".py",
   "mimetype": "text/x-python",
   "name": "python",
   "nbconvert_exporter": "python",
   "pygments_lexer": "ipython3",
   "version": "3.6.9"
  }
 },
 "nbformat": 4,
 "nbformat_minor": 5
}
