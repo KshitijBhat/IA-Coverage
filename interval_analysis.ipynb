{
 "cells": [
  {
   "cell_type": "code",
   "execution_count": 1,
   "metadata": {},
   "outputs": [],
   "source": [
    "import numpy as np\n",
    "\n",
    "import matplotlib.pyplot as plt\n",
    "\n",
    "from matplotlib.patches import Arc as Arc_patch"
   ]
  },
  {
   "cell_type": "code",
   "execution_count": 6,
   "metadata": {},
   "outputs": [],
   "source": [
    "from sympy.geometry import *\n",
    "from sympy import *\n",
    "from sympy.abc import t"
   ]
  },
  {
   "cell_type": "code",
   "execution_count": 24,
   "metadata": {},
   "outputs": [],
   "source": [
    "s1 = Segment((0,0),(1,1))\n",
    "s2 = Segment((0,-1),(1,0))"
   ]
  },
  {
   "cell_type": "code",
   "execution_count": 25,
   "metadata": {},
   "outputs": [
    {
     "data": {
      "text/plain": [
       "[]"
      ]
     },
     "execution_count": 25,
     "metadata": {},
     "output_type": "execute_result"
    }
   ],
   "source": [
    "intersection(s1,s2)"
   ]
  },
  {
   "cell_type": "code",
   "execution_count": 21,
   "metadata": {},
   "outputs": [],
   "source": [
    "C2 = Curve((0.75*cos(t),0.2+0.75*sin(t)),(t,0,2))"
   ]
  },
  {
   "cell_type": "code",
   "execution_count": 68,
   "metadata": {},
   "outputs": [],
   "source": [
    "C1 = Circle(Point(0,0),0.75)"
   ]
  },
  {
   "cell_type": "code",
   "execution_count": 45,
   "metadata": {},
   "outputs": [],
   "source": [
    "x,y = symbols(\"x y\")"
   ]
  },
  {
   "cell_type": "code",
   "execution_count": 53,
   "metadata": {},
   "outputs": [
    {
     "data": {
      "text/latex": [
       "$\\displaystyle x^{2} + y^{2} - \\frac{9}{16}$"
      ],
      "text/plain": [
       "x**2 + y**2 - 9/16"
      ]
     },
     "execution_count": 53,
     "metadata": {},
     "output_type": "execute_result"
    }
   ],
   "source": [
    "exp = C1.equation()\n",
    "exp.subs([(x,0),(y,0)])"
   ]
  },
  {
   "cell_type": "code",
   "execution_count": 26,
   "metadata": {},
   "outputs": [
    {
     "data": {
      "image/svg+xml": [
       "<svg xmlns=\"http://www.w3.org/2000/svg\"\n",
       "            xmlns:xlink=\"http://www.w3.org/1999/xlink\"\n",
       "            width=\"100.0\" height=\"100.0\" viewBox=\"-0.100000000000000 -0.100000000000000 1.20000000000000 1.20000000000000\"\n",
       "            preserveAspectRatio=\"xMinYMin meet\">\n",
       "            <defs>\n",
       "                <marker id=\"markerCircle\" markerWidth=\"8\" markerHeight=\"8\"\n",
       "                    refx=\"5\" refy=\"5\" markerUnits=\"strokeWidth\">\n",
       "                    <circle cx=\"5\" cy=\"5\" r=\"1.5\" style=\"stroke: none; fill:#000000;\"/>\n",
       "                </marker>\n",
       "                <marker id=\"markerArrow\" markerWidth=\"13\" markerHeight=\"13\" refx=\"2\" refy=\"4\"\n",
       "                       orient=\"auto\" markerUnits=\"strokeWidth\">\n",
       "                    <path d=\"M2,2 L2,6 L6,4\" style=\"fill: #000000;\" />\n",
       "                </marker>\n",
       "                <marker id=\"markerReverseArrow\" markerWidth=\"13\" markerHeight=\"13\" refx=\"6\" refy=\"4\"\n",
       "                       orient=\"auto\" markerUnits=\"strokeWidth\">\n",
       "                    <path d=\"M6,2 L6,6 L2,4\" style=\"fill: #000000;\" />\n",
       "                </marker>\n",
       "            </defs><g transform=\"matrix(1,0,0,-1,0,1.00000000000000)\"><path fill-rule=\"evenodd\" fill=\"#66cc99\" stroke=\"#555555\" stroke-width=\"0.0240000000000000\" opacity=\"0.6\" d=\"M 0,0 L 1.00000000000000,1.00000000000000\" /></g></svg>"
      ],
      "text/latex": [
       "$\\displaystyle Segment2D\\left(Point2D\\left(0, 0\\right), Point2D\\left(1, 1\\right)\\right)$"
      ],
      "text/plain": [
       "Segment2D(Point2D(0, 0), Point2D(1, 1))"
      ]
     },
     "execution_count": 26,
     "metadata": {},
     "output_type": "execute_result"
    }
   ],
   "source": [
    "s1"
   ]
  },
  {
   "cell_type": "code",
   "execution_count": 60,
   "metadata": {},
   "outputs": [
    {
     "data": {
      "text/latex": [
       "$\\displaystyle Point2D\\left(0, 0\\right)$"
      ],
      "text/plain": [
       "Point2D(0, 0)"
      ]
     },
     "execution_count": 60,
     "metadata": {},
     "output_type": "execute_result"
    }
   ],
   "source": [
    "C1.center"
   ]
  },
  {
   "cell_type": "code",
   "execution_count": 4,
   "metadata": {},
   "outputs": [],
   "source": [
    "def cart2pol(x, y):\n",
    "    rho = np.sqrt(x**2 + y**2)\n",
    "    phi = np.arctan2(y,x) if y>=0 else 2*np.pi + np.arctan2(y,x)\n",
    "    return(rho, phi)\n",
    "\n",
    "def pol2cart(rho, phi):\n",
    "    x = rho * np.cos(phi)\n",
    "    y = rho * np.sin(phi)\n",
    "    return(x, y)"
   ]
  },
  {
   "cell_type": "code",
   "execution_count": 13,
   "metadata": {},
   "outputs": [
    {
     "data": {
      "text/plain": [
       "(1.4142135623730951, 3.9269908169872414)"
      ]
     },
     "execution_count": 13,
     "metadata": {},
     "output_type": "execute_result"
    }
   ],
   "source": [
    "cart2pol(-1,-1)"
   ]
  },
  {
   "cell_type": "code",
   "execution_count": 22,
   "metadata": {},
   "outputs": [],
   "source": [
    "class Arc:\n",
    "    def __init__(self,r,theta1,theta2,origin=(0,0)):\n",
    "        x,y = origin\n",
    "        self.x = x\n",
    "        self.y = y\n",
    "        self.r = r\n",
    "        self.theta1 = theta1\n",
    "        self.theta2 = theta2\n",
    "        self.endpoints = [Point(x+r*np.cos(theta1),y+r*np.sin(theta1)),Point(x+r*np.cos(theta2),y+r*np.sin(theta2))]\n",
    "        self.circle = Circle(Point(x,y),r)  \n",
    "        \n",
    "    def encloses(self,point):\n",
    "        xp,yp = float(point.x),float(point.y)\n",
    "        theta = np.arctan2(yp,xp) if yp>=0 else 2*np.pi + np.arctan2(yp,xp)\n",
    "        if (theta>=self.theta1 and theta<=self.theta2) or \\\n",
    "           (theta>=self.theta2 and theta<=self.theta1):\n",
    "            return True\n",
    "        else:\n",
    "            return False\n",
    "    \n",
    "    def draw(self,ax,color):\n",
    "        ax.add_patch(Arc_patch((self.x, self.y), 2*self.r,2*self.r, theta1=np.rad2deg(self.theta1), theta2=np.rad2deg(self.theta2), linewidth=1, color=color))\n",
    "        \n",
    "        \n",
    "    \n",
    "    "
   ]
  },
  {
   "cell_type": "code",
   "execution_count": 24,
   "metadata": {},
   "outputs": [
    {
     "data": {
      "image/png": "[encoded data removed]",
      "text/plain": [
       "<matplotlib.figure.Figure at 0x7fcf5ae2d208>"
      ]
     },
     "metadata": {
      "needs_background": "light"
     },
     "output_type": "display_data"
    }
   ],
   "source": [
    "arc1 = Arc(1,0,3.14,(1,1))\n",
    "arc2 = Arc(2,0,3.14,(1,1))\n",
    "fig,ax = plt.subplots() \n",
    "arc1.draw(ax,'red')\n",
    "arc2.draw(ax,'blue')\n",
    "plt.axis('equal')\n",
    "plt.grid()\n",
    "plt.show()"
   ]
  },
  {
   "cell_type": "code",
   "execution_count": 56,
   "metadata": {},
   "outputs": [
    {
     "data": {
      "text/plain": [
       "[Point2D(3, 0),\n",
       " Point2D(53033008588991/25000000000000, 53033008588991/25000000000000)]"
      ]
     },
     "execution_count": 56,
     "metadata": {},
     "output_type": "execute_result"
    }
   ],
   "source": [
    "Arc(3,0,np.pi/4).endpoints"
   ]
  },
  {
   "cell_type": "code",
   "execution_count": 73,
   "metadata": {},
   "outputs": [
    {
     "data": {
      "image/svg+xml": [
       "<svg xmlns=\"http://www.w3.org/2000/svg\"\n",
       "            xmlns:xlink=\"http://www.w3.org/1999/xlink\"\n",
       "            width=\"100.0\" height=\"100.0\" viewBox=\"-0.900000000000000 -0.900000000000000 1.80000000000000 1.80000000000000\"\n",
       "            preserveAspectRatio=\"xMinYMin meet\">\n",
       "            <defs>\n",
       "                <marker id=\"markerCircle\" markerWidth=\"8\" markerHeight=\"8\"\n",
       "                    refx=\"5\" refy=\"5\" markerUnits=\"strokeWidth\">\n",
       "                    <circle cx=\"5\" cy=\"5\" r=\"1.5\" style=\"stroke: none; fill:#000000;\"/>\n",
       "                </marker>\n",
       "                <marker id=\"markerArrow\" markerWidth=\"13\" markerHeight=\"13\" refx=\"2\" refy=\"4\"\n",
       "                       orient=\"auto\" markerUnits=\"strokeWidth\">\n",
       "                    <path d=\"M2,2 L2,6 L6,4\" style=\"fill: #000000;\" />\n",
       "                </marker>\n",
       "                <marker id=\"markerReverseArrow\" markerWidth=\"13\" markerHeight=\"13\" refx=\"6\" refy=\"4\"\n",
       "                       orient=\"auto\" markerUnits=\"strokeWidth\">\n",
       "                    <path d=\"M6,2 L6,6 L2,4\" style=\"fill: #000000;\" />\n",
       "                </marker>\n",
       "            </defs><g transform=\"matrix(1,0,0,-1,0,0)\"><ellipse fill=\"#66cc99\" stroke=\"#555555\" stroke-width=\"0.0360000000000000\" opacity=\"0.6\" cx=\"0\" cy=\"0\" rx=\"0.750000000000000\" ry=\"0.750000000000000\"/></g></svg>"
      ],
      "text/latex": [
       "$\\displaystyle Circle\\left(Point2D\\left(0, 0\\right), \\frac{3}{4}\\right)$"
      ],
      "text/plain": [
       "Circle(Point2D(0, 0), 3/4)"
      ]
     },
     "execution_count": 73,
     "metadata": {},
     "output_type": "execute_result"
    }
   ],
   "source": [
    "somept = Point(0.75,0.75)\n",
    "C1"
   ]
  },
  {
   "cell_type": "code",
   "execution_count": 77,
   "metadata": {},
   "outputs": [
    {
     "data": {
      "text/plain": [
       "False"
      ]
     },
     "execution_count": 77,
     "metadata": {},
     "output_type": "execute_result"
    }
   ],
   "source": [
    "C1.encloses(somept)"
   ]
  },
  {
   "cell_type": "code",
   "execution_count": 89,
   "metadata": {},
   "outputs": [
    {
     "data": {
      "text/plain": [
       "3.9269908169872414"
      ]
     },
     "execution_count": 89,
     "metadata": {},
     "output_type": "execute_result"
    }
   ],
   "source": []
  },
  {
   "cell_type": "code",
   "execution_count": 5,
   "metadata": {},
   "outputs": [],
   "source": [
    "def arc_circle(gamma2,etaprime)->int:\n",
    "    if len(intersection(etaprime,gamma2.circle))>0:\n",
    "        [endpt1,endpt2] = gamma2.endpoints\n",
    "        incl = [etaprime.encloses(endpt1),etaprime.encloses(endpt2)]\n",
    "        thetas = (gamma2.theta1,gamma2.theta2) if gamma2.theta2>gamma2.theta1 else (gamma2.theta2,gamma2.theta1)\n",
    "        x,y = float(etaprime.center.x),float(etaprime.center.y)\n",
    "        center_angle = np.arctan2(y,x) if y>=0 else 2*np.pi + np.arctan2(y,x)\n",
    "\n",
    "        if any(incl) and not all(incl):\n",
    "            return 1\n",
    "        elif (center_angle<=thetas[1] and center_angle>=thetas[0]):\n",
    "            if not any(incl) and center_angle<=np.pi:\n",
    "                return 2\n",
    "            if all(incl) and center_angle>=np.pi:\n",
    "                return 2\n",
    "    else:\n",
    "        return 0\n",
    "    \n",
    "    "
   ]
  },
  {
   "cell_type": "code",
   "execution_count": 29,
   "metadata": {},
   "outputs": [],
   "source": [
    "gamma2x = Arc(1,np.pi/2,np.pi+0.5)"
   ]
  },
  {
   "cell_type": "code",
   "execution_count": 33,
   "metadata": {},
   "outputs": [
    {
     "data": {
      "text/plain": [
       "True"
      ]
     },
     "execution_count": 33,
     "metadata": {},
     "output_type": "execute_result"
    }
   ],
   "source": [
    "gamma2x.encloses(Point(0,67))"
   ]
  },
  {
   "cell_type": "code",
   "execution_count": 112,
   "metadata": {},
   "outputs": [
    {
     "data": {
      "text/plain": [
       "[Point2D(612323399573677/10000000000000000000000000000000, 1),\n",
       " Point2D(-1, 24492935982947/200000000000000000000000000000)]"
      ]
     },
     "execution_count": 112,
     "metadata": {},
     "output_type": "execute_result"
    }
   ],
   "source": [
    "gamma2x.endpoints"
   ]
  },
  {
   "cell_type": "code",
   "execution_count": 184,
   "metadata": {},
   "outputs": [],
   "source": [
    "etaprimex = Circle(Point(-2,0),0.99)\n"
   ]
  },
  {
   "cell_type": "code",
   "execution_count": 193,
   "metadata": {},
   "outputs": [
    {
     "name": "stdout",
     "output_type": "stream",
     "text": [
      "0hhaahhaa\n"
     ]
    }
   ],
   "source": [
    "print(arc_circle(gamma2x,etaprimex))"
   ]
  },
  {
   "cell_type": "code",
   "execution_count": null,
   "metadata": {},
   "outputs": [],
   "source": [
    "x = np.linspace()\n",
    "plt.figure()\n",
    "plt.plot(np.arctan(x))\n",
    "plt.show"
   ]
  },
  {
   "cell_type": "code",
   "execution_count": 6,
   "metadata": {},
   "outputs": [],
   "source": [
    "def arc_arc(gamma2,gamma2prime)->bool:\n",
    "    \"\"\"\n",
    "    Returns True if gamma1 includes gamma2 partially or wholly\n",
    "    Else returns False\n",
    "    \"\"\"\n",
    "    eta,etaprime = gamma2.circle,gamma2prime.circle\n",
    "    if len(intersection(eta,etaprime))==0:\n",
    "        return False\n",
    "    # Lemma 3.3 and 3.4\n",
    "    if (arc_circle(gamma2,etaprime)==2 and arc_circle(gamma2prime,eta)==2) or \\\n",
    "       (arc_circle(gamma2,etaprime)==2 and arc_circle(gamma2prime,eta)==1) or \\\n",
    "       (arc_circle(gamma2,etaprime)==1 and arc_circle(gamma2prime,eta)==2):\n",
    "        return True\n",
    "    if (arc_circle(gamma2,etaprime)==1 and arc_circle(gamma2prime,eta)==1) and \\\n",
    "       (gamma2.theta1+gamma2.theta2>=0 and gamma2.theta1+gamma2.theta2<=2*np.pi) and \\\n",
    "       (gamma2prime.theta1+gamma2prime.theta2>=0 and gamma2prime.theta1+gamma2prime.theta2<=2*np.pi):\n",
    "        return True\n",
    "    else:\n",
    "        return False     \n",
    "        \n",
    "    \n",
    "    \n",
    "    "
   ]
  },
  {
   "cell_type": "code",
   "execution_count": 12,
   "metadata": {},
   "outputs": [],
   "source": [
    "def line_arc(gamma2,l1prime)->bool:\n",
    "    \"\"\"\n",
    "    Returns True if gamma2 includes l1prime partially or wholly\n",
    "    Else returns False\n",
    "    \"\"\"\n",
    "    intersect = intersection(l1prime,gamma2.circle)\n",
    "    if len(intersect)>0:\n",
    "        if gamma2.encloses(intersect[0]):\n",
    "            return True\n",
    "        try:\n",
    "            if gamma2.encloses(intersect[1]):\n",
    "                return True\n",
    "            else:\n",
    "                return False\n",
    "        except IndexError:\n",
    "            return False\n",
    "    return False"
   ]
  },
  {
   "cell_type": "code",
   "execution_count": 8,
   "metadata": {},
   "outputs": [],
   "source": [
    "def line_line(l1,l2)->bool:\n",
    "    \"\"\"\n",
    "    Returns True if l1 includes l2 partially or wholly\n",
    "    Else returns False\n",
    "    \"\"\"\n",
    "    intersect = intersection(l1,l2)\n",
    "    if len(intersect)>0:\n",
    "        return True\n",
    "    else:\n",
    "        return False"
   ]
  },
  {
   "cell_type": "code",
   "execution_count": 22,
   "metadata": {},
   "outputs": [],
   "source": [
    "segment1 = Segment((3,-5),(3,5))\n",
    "gammax = Arc(5,np.pi,3*np.pi/2)"
   ]
  },
  {
   "cell_type": "code",
   "execution_count": 23,
   "metadata": {},
   "outputs": [
    {
     "data": {
      "text/plain": [
       "False"
      ]
     },
     "execution_count": 23,
     "metadata": {},
     "output_type": "execute_result"
    }
   ],
   "source": [
    "line_arc(gammax,segment1)"
   ]
  }
 ],
 "metadata": {
  "kernelspec": {
   "display_name": "Python 3",
   "language": "python",
   "name": "python3"
  },
  "language_info": {
   "codemirror_mode": {
    "name": "ipython",
    "version": 3
   },
   "file_extension": ".py",
   "mimetype": "text/x-python",
   "name": "python",
   "nbconvert_exporter": "python",
   "pygments_lexer": "ipython3",
   "version": "3.7.6"
  },
  "metadata": {
   "interpreter": {
    "hash": "31f2aee4e71d21fbe5cf8b01ff0e069b9275f58929596ceb00d14d90e3e16cd6"
   }
  }
 },
 "nbformat": 4,
 "nbformat_minor": 2
}
