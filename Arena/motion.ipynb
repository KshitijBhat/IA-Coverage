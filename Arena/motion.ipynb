{
 "cells": [
  {
   "cell_type": "code",
   "execution_count": 20,
   "metadata": {},
   "outputs": [],
   "source": [
    "from Interval import *\n",
    "import cv2\n",
    "import json\n",
    "import concurrent.futures\n",
    "from itertools import repeat"
   ]
  },
  {
   "cell_type": "code",
   "execution_count": 2,
   "metadata": {},
   "outputs": [],
   "source": [
    "with open('obstacles.json') as f:   \n",
    "    data = json.load(f)\n",
    "obstacles = []\n",
    "for obstacle in data['obstacles']:\n",
    "    params,center = obstacle['params'],obstacle['center']\n",
    "    obstacles.append(Interval(*params,center))"
   ]
  },
  {
   "cell_type": "code",
   "execution_count": 33,
   "metadata": {},
   "outputs": [],
   "source": [
    "class Robot(Interval):\n",
    "    radius = 30\n",
    "    bot_color = 'b'\n",
    "    color = 'blue'\n",
    "    Δt = 1\n",
    "    obstacles = None\n",
    "    path = None\n",
    "    Nr = 5\n",
    "    Ntheta = 5\n",
    "    \n",
    "    def __init__(self,x_bot,y_bot,yaw,vi,vj,wi,wj):\n",
    "        \n",
    "        self.x_bot = x_bot\n",
    "        self.y_bot = y_bot\n",
    "        self.yaw = yaw\n",
    "        self.vi = vi\n",
    "        self.vj = vj\n",
    "        self.wi = wi\n",
    "        self.wj = wj\n",
    "        self.theta1 = yaw\n",
    "        self.theta2 = yaw + (wi - wj)*self.Δt\n",
    "        self.origin = (x_bot+self.radius*(np.cos(self.theta1)+np.cos(self.theta2))/(1e-6 + np.sin(self.theta1-self.theta2)),\n",
    "                       y_bot+self.radius*(np.sin(self.theta1)+np.sin(self.theta2))/(1e-6 + np.sin(self.theta1-self.theta2)))\n",
    "        self.r1 = 0\n",
    "        self.r2 = (vi-vj)*self.Δt\n",
    "        n = self.radius/np.sin(1e-6+(self.theta2-self.theta1)/2)\n",
    "        self.nu1 = n - self.radius\n",
    "        self.nu2 = n + self.radius + self.r2\n",
    "        super(Robot,self).__init__(self.nu1,self.nu2,self.theta1,self.theta2,self.origin)\n",
    "    \n",
    "    def collision_detection(self):\n",
    "        Js = []\n",
    "        #### maybe multiprocessing here\n",
    "#         with concurrent.futures.ProcessPoolExecutor() as executor:\n",
    "#             Js = [executor.submit(super(Robot,self).interval_analysis,obstacle,5,5)for obstacle in self.obstacles]\n",
    "            \n",
    "#         for f in concurrent.futures.as_completed(Js):\n",
    "#             print(f)\n",
    "        for obstacle in self.obstacles:\n",
    "            Js.append(super(Robot,self).interval_analysis(obstacle,5,5))\n",
    "        return Js\n",
    "    \n",
    "    def collision_avoidance(self,v,w,Js):\n",
    "        \"\"\"\n",
    "        gives good v,w given bad v,w from the tracker\n",
    "        \"\"\"\n",
    "        \n",
    "        r,theta = v*self.Δt,w*self.Δt #bad r,theta\n",
    "        p = Point(tuple(np.array(self.origin) + np.array([r*np.cos(theta),r*np.sin(theta)])))\n",
    "        for J in Js:\n",
    "            if p in J:\n",
    "                break\n",
    "        else:\n",
    "            return v,w\n",
    "        return self.collision_avoidance(v,J.theta1/self.Δt)    \n",
    "            \n",
    "        \n",
    "    \n",
    "#     def __iter__(self):\n",
    "#         return self\n",
    "    \n",
    "#     def __next__(self):\n",
    "#         pose = [self.x_bot,self.y_bot,self.yaw]\n",
    "#         x_bot_new = self.x_bot + (self.vi-self.vj)*np.cos(self.yaw)*self.Δt\n",
    "#         y_bot_new = self.y_bot + (self.vi-self.vj)*np.sin(self.yaw)*self.Δt\n",
    "#         yaw_new = self.yaw + (self.wi-self.wj)*self.Δt\n",
    "#         collision,J = collision_detection(self)\n",
    "#         if not collision:\n",
    "#             self.x_bot = x_bot_new\n",
    "#             self.y_bot = y_bot_new\n",
    "#             self.yaw = yaw_new\n",
    "            \n",
    "#         else:\n",
    "#             pass\n",
    "#             #cook something that creates new v,w which do not crash into the obstacles \n",
    "        \n",
    "#         return Robot(*pose,self.vi,self.vj,self.wi,self.wj)\n",
    "            \n",
    "        \n",
    "        \n",
    "    def plot(self,ax):\n",
    "        bot_circle = plt.Circle( (self.x_bot, self.y_bot),self.radius,color=self.bot_color)\n",
    "        arrow = ax.arrow(self.x_bot,self.y_bot,self.radius*np.cos(self.yaw),self.radius*np.sin(self.yaw))\n",
    "        patch = ax.add_patch(bot_circle)\n",
    "        return [bot_circle,arrow]\n",
    "                           \n",
    "    def plot_interval(self,ax):\n",
    "        return super(Robot,self).draw(ax,self.color)\n",
    "    \n",
    "    @classmethod\n",
    "    def set_environment(cls,obstacles):\n",
    "        cls.obstacles = obstacles\n",
    "    @classmethod\n",
    "    def set_path(cls,path):\n",
    "        cls.path = path    "
   ]
  },
  {
   "cell_type": "code",
   "execution_count": 4,
   "metadata": {},
   "outputs": [
    {
     "data": {
      "text/plain": [
       "<matplotlib.image.AxesImage at 0x8afb0d0>"
      ]
     },
     "execution_count": 4,
     "metadata": {},
     "output_type": "execute_result"
    },
    {
     "data": {
      "image/png": "[encoded data removed]",
      "text/plain": [
       "<Figure size 360x360 with 1 Axes>"
      ]
     },
     "metadata": {
      "needs_background": "light"
     },
     "output_type": "display_data"
    }
   ],
   "source": [
    "arena = cv2.imread(\"arena1.png\")\n",
    "arena = (1-cv2.cvtColor(arena,cv2.COLOR_RGB2GRAY)/255).astype('int')\n",
    "fig,ax = plt.subplots(figsize=(5,5))\n",
    "ax.imshow(arena,cmap = plt.cm.gray_r)"
   ]
  },
  {
   "cell_type": "code",
   "execution_count": 4,
   "metadata": {},
   "outputs": [
    {
     "ename": "NameError",
     "evalue": "name 'Robot' is not defined",
     "output_type": "error",
     "traceback": [
      "\u001b[1;31m---------------------------------------------------------------------------\u001b[0m",
      "\u001b[1;31mNameError\u001b[0m                                 Traceback (most recent call last)",
      "\u001b[1;32m<ipython-input-4-0524a4e4c8f9>\u001b[0m in \u001b[0;36m<module>\u001b[1;34m\u001b[0m\n\u001b[1;32m----> 1\u001b[1;33m \u001b[0mrobot\u001b[0m \u001b[1;33m=\u001b[0m \u001b[0mRobot\u001b[0m\u001b[1;33m(\u001b[0m\u001b[1;36m500\u001b[0m\u001b[1;33m,\u001b[0m\u001b[1;36m500\u001b[0m\u001b[1;33m,\u001b[0m\u001b[1;36m0\u001b[0m\u001b[1;33m,\u001b[0m\u001b[1;36m100\u001b[0m\u001b[1;33m,\u001b[0m\u001b[1;36m0\u001b[0m\u001b[1;33m,\u001b[0m\u001b[1;36m0.5235\u001b[0m\u001b[1;33m,\u001b[0m\u001b[1;36m0\u001b[0m\u001b[1;33m)\u001b[0m\u001b[1;33m\u001b[0m\u001b[1;33m\u001b[0m\u001b[0m\n\u001b[0m\u001b[0;32m      2\u001b[0m \u001b[0mfig\u001b[0m\u001b[1;33m,\u001b[0m\u001b[0max\u001b[0m \u001b[1;33m=\u001b[0m \u001b[0mplt\u001b[0m\u001b[1;33m.\u001b[0m\u001b[0msubplots\u001b[0m\u001b[1;33m(\u001b[0m\u001b[0mfigsize\u001b[0m\u001b[1;33m=\u001b[0m\u001b[1;33m(\u001b[0m\u001b[1;36m8\u001b[0m\u001b[1;33m,\u001b[0m\u001b[1;36m8\u001b[0m\u001b[1;33m)\u001b[0m\u001b[1;33m)\u001b[0m\u001b[1;33m\u001b[0m\u001b[1;33m\u001b[0m\u001b[0m\n\u001b[0;32m      3\u001b[0m \u001b[0max\u001b[0m\u001b[1;33m.\u001b[0m\u001b[0mimshow\u001b[0m\u001b[1;33m(\u001b[0m\u001b[0marena\u001b[0m\u001b[1;33m,\u001b[0m\u001b[0mcmap\u001b[0m \u001b[1;33m=\u001b[0m \u001b[0mplt\u001b[0m\u001b[1;33m.\u001b[0m\u001b[0mcm\u001b[0m\u001b[1;33m.\u001b[0m\u001b[0mgray_r\u001b[0m\u001b[1;33m,\u001b[0m\u001b[0morigin\u001b[0m \u001b[1;33m=\u001b[0m \u001b[1;34m'lower'\u001b[0m\u001b[1;33m)\u001b[0m\u001b[1;33m\u001b[0m\u001b[1;33m\u001b[0m\u001b[0m\n\u001b[0;32m      4\u001b[0m \u001b[0mi\u001b[0m \u001b[1;33m=\u001b[0m \u001b[1;36m0\u001b[0m\u001b[1;33m\u001b[0m\u001b[1;33m\u001b[0m\u001b[0m\n\u001b[0;32m      5\u001b[0m \u001b[1;32mfor\u001b[0m \u001b[0mpose\u001b[0m \u001b[1;32min\u001b[0m \u001b[0mrobot\u001b[0m\u001b[1;33m:\u001b[0m\u001b[1;33m\u001b[0m\u001b[1;33m\u001b[0m\u001b[0m\n",
      "\u001b[1;31mNameError\u001b[0m: name 'Robot' is not defined"
     ]
    }
   ],
   "source": [
    "robot = Robot(500,500,0,100,0,0.5235,0)\n",
    "fig,ax = plt.subplots(figsize=(8,8))\n",
    "ax.imshow(arena,cmap = plt.cm.gray_r,origin = 'lower')\n",
    "i = 0\n",
    "for pose in robot:\n",
    "    i+=1\n",
    "    pose.plot(ax)\n",
    "    pose.plot_interval(ax)\n",
    "    del pose\n",
    "    if i == 15:\n",
    "        break"
   ]
  },
  {
   "cell_type": "code",
   "execution_count": 35,
   "metadata": {},
   "outputs": [
    {
     "data": {
      "image/png": "[encoded data removed]",
      "text/plain": [
       "<Figure size 576x576 with 1 Axes>"
      ]
     },
     "metadata": {
      "needs_background": "light"
     },
     "output_type": "display_data"
    }
   ],
   "source": [
    "\n",
    "    \n",
    "robot = Robot(700,600,0,50,0,0.78,0)\n",
    "fig,ax = plt.subplots(figsize=(8,8))\n",
    "ax.imshow(arena,cmap = plt.cm.gray_r,origin = 'lower')\n",
    "for obstacle in obstacles:\n",
    "    obstacle.draw(ax,'red')\n",
    "robot.plot(ax)\n",
    "robot.plot_interval(ax)\n",
    "robot.set_environment(obstacles)\n",
    "Js = robot.collision_detection()\n",
    "for J in Js:\n",
    "    J.draw(ax,'green')\n"
   ]
  },
  {
   "cell_type": "code",
   "execution_count": 37,
   "metadata": {
    "scrolled": true
   },
   "outputs": [
    {
     "data": {
      "image/png": "[encoded data removed]",
      "text/plain": [
       "<Figure size 576x576 with 1 Axes>"
      ]
     },
     "metadata": {
      "needs_background": "light"
     },
     "output_type": "display_data"
    }
   ],
   "source": [
    "comps = robot.complement_intervals(Js)\n",
    "\n",
    "fig,ax = plt.subplots(figsize=(8,8))\n",
    "ax.imshow(arena,cmap = plt.cm.gray_r,origin = 'lower')\n",
    "for comp in comps:\n",
    "    comp.draw(ax,'green')"
   ]
  },
  {
   "cell_type": "code",
   "execution_count": 28,
   "metadata": {},
   "outputs": [
    {
     "data": {
      "image/png": "[encoded data removed]",
      "text/plain": [
       "<Figure size 576x576 with 1 Axes>"
      ]
     },
     "metadata": {
      "needs_background": "light"
     },
     "output_type": "display_data"
    }
   ],
   "source": [
    "robot = Robot(700,600,0,50,0,0.78,0)\n",
    "fig,ax = plt.subplots(figsize=(8,8))\n",
    "ax.imshow(arena,cmap = plt.cm.gray_r,origin = 'lower')\n",
    "for J in Js:\n",
    "    J.draw(ax,'yellow')"
   ]
  },
  {
   "cell_type": "code",
   "execution_count": 23,
   "metadata": {},
   "outputs": [
    {
     "data": {
      "text/plain": [
       "[<Interval.Interval at 0x8d930f0>,\n",
       " <Interval.Interval at 0x79fdd30>,\n",
       " <Interval.Interval at 0x7b88850>,\n",
       " <Interval.Interval at 0x8e6ef10>,\n",
       " <Interval.Interval at 0x8d931f0>,\n",
       " <Interval.Interval at 0x8d93110>,\n",
       " <Interval.Interval at 0x8d93190>,\n",
       " <Interval.Interval at 0x8d93b50>,\n",
       " <Interval.Interval at 0x8e77b90>]"
      ]
     },
     "execution_count": 23,
     "metadata": {},
     "output_type": "execute_result"
    }
   ],
   "source": [
    "robot.obstacles"
   ]
  },
  {
   "cell_type": "code",
   "execution_count": 5,
   "metadata": {},
   "outputs": [
    {
     "data": {
      "text/latex": [
       "$\\displaystyle 2$"
      ],
      "text/plain": [
       "2"
      ]
     },
     "execution_count": 5,
     "metadata": {},
     "output_type": "execute_result"
    }
   ],
   "source": [
    "p = Point(2,3.5)\n",
    "#np.array(p)\n",
    "p[0]"
   ]
  }
 ],
 "metadata": {
  "kernelspec": {
   "display_name": "Python 3",
   "language": "python",
   "name": "python3"
  },
  "language_info": {
   "codemirror_mode": {
    "name": "ipython",
    "version": 3
   },
   "file_extension": ".py",
   "mimetype": "text/x-python",
   "name": "python",
   "nbconvert_exporter": "python",
   "pygments_lexer": "ipython3",
   "version": "3.7.6"
  }
 },
 "nbformat": 4,
 "nbformat_minor": 4
}
