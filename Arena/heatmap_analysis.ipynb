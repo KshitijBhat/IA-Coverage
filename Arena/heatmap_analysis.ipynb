{
 "cells": [
  {
   "cell_type": "code",
   "execution_count": 1,
   "metadata": {},
   "outputs": [],
   "source": [
    "import cv2\n",
    "import json\n",
    "import numpy as np\n",
    "from sympy.geometry import Point,Circle,Segment,intersection,Line\n",
    "import matplotlib.pyplot as plt\n",
    "from matplotlib.patches import Arc as Arc_patch\n",
    "from matplotlib import collections  as mc\n",
    "from IPython.display import clear_output"
   ]
  },
  {
   "cell_type": "code",
   "execution_count": 2,
   "metadata": {},
   "outputs": [],
   "source": [
    "class Arc:\n",
    "    def __init__(self,r,theta1,theta2,origin = (0,0)):\n",
    "        x,y = origin\n",
    "        self.x = x\n",
    "        self.y = y\n",
    "        self.r = r\n",
    "        self.origin = origin\n",
    "        self.theta1 = theta1\n",
    "        self.theta2 = theta2\n",
    "        self.circle = Circle(Point(x,y),r)        \n",
    "        self.endpoints = [Point(self.x+r*np.cos(theta1),self.y+r*np.sin(theta1)),Point(self.x+r*np.cos(theta2),self.y+r*np.sin(theta2))]\n",
    "    \n",
    "    def __contains__(self,point):\n",
    "        xp,yp = float(point.x)-self.x,float(point.y)-self.y\n",
    "        rot = np.array([[np.cos(self.theta1),-1*np.sin(self.theta1)],\n",
    "                        [np.sin(self.theta1),np.cos(self.theta1)]])\n",
    "        xp,yp = np.array([xp,yp]) @ rot\n",
    "        theta = np.arctan2(yp,xp) if (yp>=0 or (self.theta1<=0 and self.theta2>=0) or (self.theta2<=0 and self.theta1>=0)) else 2*np.pi + np.arctan2(yp,xp)\n",
    "        return (theta>=0 and theta<=self.theta2-self.theta1) or (theta>=self.theta2-self.theta1 and theta<=0)\n",
    "\n",
    "    def draw(self,ax,color):\n",
    "        ax.add_patch(Arc_patch((self.x, self.y), 2*self.r,2*self.r, theta1=np.rad2deg(self.theta1), theta2=np.rad2deg(self.theta2), linewidth=1, color=color))       \n",
    "\n",
    "#intersections\n",
    "def arc_arc(gamma2,gamma2prime):\n",
    "    eta,etaprime = gamma2.circle,gamma2prime.circle\n",
    "    intersect = intersection(eta,etaprime)\n",
    "    pts = []\n",
    "    if len(intersect) > 0:\n",
    "        if intersect[0] in gamma2 and intersect[0] in gamma2prime:\n",
    "            pts.append(intersect[0])\n",
    "    if len(intersect) > 1:\n",
    "        if intersect[1] in gamma2 and intersect[1] in gamma2prime:\n",
    "            pts.append(intersect[1])    \n",
    "        \n",
    "    return pts\n",
    "\n",
    "def line_line(l1,l2):\n",
    "    return intersection(l1,l2)\n",
    "\n",
    "def line_arc(l1prime,gamma2):\n",
    "    intersect = intersection(l1prime,gamma2.circle)\n",
    "    pts = []\n",
    "    if len(intersect)>0:\n",
    "        if intersect[0] in gamma2:\n",
    "            pts.append(intersect[0])\n",
    "    if len(intersect)>1:\n",
    "        if intersect[1] in gamma2:\n",
    "            pts.append(intersect[1]) \n",
    "    return pts        \n",
    "       \n",
    "    \n",
    "\n",
    "class Interval:\n",
    "    \"\"\"\n",
    "    Defined by r1,r2,theta1,theta2 and the origin.\n",
    "    r1<r2 and theta1<theta2\n",
    "    \"\"\"\n",
    "    def __init__(self,r1,r2,theta1,theta2,origin=(0,0)):\n",
    "\n",
    "        not_zero = lambda x: x if x != 0.0 else 1e-6    \n",
    "        r1,r2,theta1,theta2 =  list(map(not_zero,[r1,r2,theta1,theta2])) \n",
    "        delta = abs(theta2-theta1)\n",
    "        theta2 = max(theta1,theta2)\n",
    "        theta2 = theta2%(2*np.pi)\n",
    "        theta1 = theta2 - delta   \n",
    "         \n",
    "        \n",
    "        self.r1 = r1\n",
    "        self.r2 = r2  \n",
    "        self.theta1 = theta1\n",
    "        self.theta2 = theta2\n",
    "        #print(\"self.theta2 = \",self.theta2)\n",
    "        x,y = origin\n",
    "        self.origin = origin\n",
    "        self.x = x\n",
    "        self.y = y\n",
    "        self.gamma1 = Arc(r1,theta1,theta2,origin=origin)\n",
    "        self.gamma2 = Arc(r2,theta1,theta2,origin=origin)\n",
    "        self.l1 = Segment((x+r1*np.cos(theta1),y+r1*np.sin(theta1)),(x+r2*np.cos(theta1),y+r2*np.sin(theta1)))\n",
    "        self.l2 = Segment((x+r1*np.cos(theta2),y+r1*np.sin(theta2)),(x+r2*np.cos(theta2),y+r2*np.sin(theta2)))\n",
    "        self.l = [self.l1,self.l2]\n",
    "        self.gamma = [self.gamma1,self.gamma2]    \n",
    "\n",
    "    def __contains__(self,point):\n",
    "        r = np.linalg.norm(np.array([float(point.x),float(point.y)])-np.array(self.origin))\n",
    "        return (r<=self.r2 and r>=self.r1) and (point in self.gamma1)    \n",
    "    \n",
    "    def __repr__(self):\n",
    "        return f\"Interval({self.r1},{self.r2},{self.theta1},{self.theta2},{self.origin})\"\n",
    "    \n",
    "    def draw(self,ax,color):\n",
    "        try:\n",
    "            l11, l12 = tuple(self.l1.points[0]),tuple(self.l1.points[1])\n",
    "            l21, l22 = tuple(self.l2.points[0]),tuple(self.l2.points[1])\n",
    "            lc = mc.LineCollection([[l11,l12],[l21,l22]], colors = color, linewidths=1)\n",
    "            self.gamma1.draw(ax,color)\n",
    "            self.gamma2.draw(ax,color)\n",
    "            ax.add_collection(lc) \n",
    "            \n",
    "        except AttributeError:\n",
    "            self.gamma1.draw(ax,color)\n",
    "            self.gamma2.draw(ax,color)\n",
    "    \n",
    "    def fast_analysis(self,Iprime):\n",
    "        I = self\n",
    "        test_pts = []\n",
    "        O = Point(I.origin)\n",
    "        D = np.linalg.norm(np.array(I.origin)-np.array(Iprime.origin))\n",
    "        if D>I.r2 + Iprime.r2:\n",
    "            return Interval(0,0,0,0,I.origin)\n",
    "\n",
    "\n",
    "\n",
    "        for gmp in Iprime.gamma:\n",
    "            for gmi in I.gamma:\n",
    "                pts = arc_arc(gmi,gmp)\n",
    "                test_pts += pts    \n",
    "            for li in I.l:\n",
    "                pts = line_arc(li,gmp)\n",
    "                test_pts += pts \n",
    "            if D<=I.r2 + Iprime.r2:\n",
    "                normal_line = Line(I.origin,Iprime.origin)\n",
    "                normal_points = gmp.circle.intersection(normal_line)\n",
    "                for foot_normal in normal_points:\n",
    "                    if foot_normal in gmp:\n",
    "                        if foot_normal in I:\n",
    "                            test_pts += [foot_normal]\n",
    "            if D**2<=I.r2**2 + Iprime.r2**2:\n",
    "                try:\n",
    "                    for line in gmp.circle.tangent_lines(O):\n",
    "                        if len(line.points)>1:\n",
    "                            tangent_pt = line.points[1]\n",
    "                            if tangent_pt in gmp:\n",
    "                                if tangent_pt in I:\n",
    "                                    test_pts += [tangent_pt]\n",
    "                except IndexError:\n",
    "                    pass\n",
    "        for lp in Iprime.l:\n",
    "            for gmi in I.gamma:\n",
    "                pts = line_arc(lp,gmi)\n",
    "                test_pts += pts    \n",
    "            for li in I.l:\n",
    "                test_pts += line_line(li,lp) \n",
    "            base_perpendicular = lp.perpendicular_segment(O).points[1]\n",
    "            if lp.contains(base_perpendicular):\n",
    "                if base_perpendicular in I:\n",
    "                    test_pts += [base_perpendicular]    \n",
    "\n",
    "\n",
    "        for point in Iprime.gamma2.endpoints+Iprime.gamma1.endpoints:\n",
    "            if point in I:\n",
    "                test_pts+= [point]\n",
    "        if not test_pts:\n",
    "            return Interval(0,0,0,0,I.origin)\n",
    "        def cart2pol(pt):\n",
    "            x,y = float(pt.x),float(pt.y)\n",
    "            xi,yi = np.array([x,y])-np.array(I.origin)\n",
    "            rho = np.linalg.norm(np.array([xi,yi]))\n",
    "            phi = np.arctan2(yi,xi) if (yi>=0 or (I.theta1*I.theta2<=0)) else 2*np.pi + np.arctan2(yi,xi)\n",
    "            return [rho, phi]\n",
    "        rad_pts = np.array(list(map(cart2pol,test_pts)))\n",
    "        R = rad_pts[:,0]\n",
    "        THETA = rad_pts[:,1]\n",
    "        rmax,rmin = max(R),min(R)\n",
    "        thetamax,thetamin = max(THETA),min(THETA)\n",
    "        return Interval(rmin,rmax,thetamin,thetamax,I.origin)\n",
    "\n",
    " \n",
    "    def complement(self,J):\n",
    "        if J.r2 == 1e-6 and J.theta1 - J.theta2 == 0:\n",
    "            return [self]\n",
    "        Is = []\n",
    "        Jtheta2,Jtheta1 = J.theta2,J.theta1\n",
    "        if self.theta1*self.theta2<0:\n",
    "            if J.theta1>self.theta2:\n",
    "                Jtheta2,Jtheta1 = J.theta2-2*np.pi,J.theta1-2*np.pi\n",
    "        #now I.theta1<J.theta1<J.theta2<I.theta2        \n",
    "                \n",
    "        if abs(self.theta1 - Jtheta1)>1e-4 and abs(self.theta1 - Jtheta1)<np.pi-1e-4:\n",
    "            I1 = Interval(self.r1,self.r2,self.theta1,Jtheta1,self.origin)\n",
    "            Is.append(I1)\n",
    "\n",
    "            \n",
    "        if abs(Jtheta1 - Jtheta2)>1e-4:    \n",
    "            I2 = Interval(self.r1,J.r1,Jtheta1,Jtheta2,self.origin)\n",
    "            Is.append(I2)\n",
    "\n",
    "        if abs(Jtheta2 - self.theta2)>1e-4 and abs(Jtheta2 - self.theta2)<np.pi-1e-4:    \n",
    "            I3 = Interval(self.r1,self.r2,Jtheta2,self.theta2,self.origin)\n",
    "            Is.append(I3)\n",
    "\n",
    "        return Is"
   ]
  },
  {
   "cell_type": "code",
   "execution_count": 5,
   "metadata": {},
   "outputs": [
    {
     "data": {
      "image/png": "[encoded data removed]",
      "text/plain": [
       "<Figure size 360x360 with 1 Axes>"
      ]
     },
     "metadata": {
      "needs_background": "light"
     },
     "output_type": "display_data"
    }
   ],
   "source": [
    "with open('obstacles.json') as f:   \n",
    "    data = json.load(f)\n",
    "obstacles = []\n",
    "for obstacle in data['obstacles']:\n",
    "    params,center = obstacle['params'],obstacle['center']\n",
    "    obstacles.append(Interval(*params,center))\n",
    "arena = cv2.imread(\"arena1.png\")\n",
    "arena = (1-cv2.cvtColor(arena,cv2.COLOR_RGB2GRAY)/255).astype('int')\n",
    "fig,ax = plt.subplots(figsize=(5,5))\n",
    "ax.imshow(arena,cmap = plt.cm.gray_r,origin=\"lower\")\n",
    "for obstacle in obstacles:\n",
    "    obstacle.draw(ax,'red')\n",
    "plt.show()"
   ]
  },
  {
   "cell_type": "code",
   "execution_count": 6,
   "metadata": {},
   "outputs": [],
   "source": [
    "class Robot:\n",
    "    radius = 25\n",
    "    Δt = 1\n",
    "    obstacles = [] # array with Interval objects\n",
    "\n",
    "    \n",
    "    def __init__(self,x_bot,y_bot,yaw,vi,vj,wi,wj):\n",
    "        self.x_bot = x_bot\n",
    "        self.y_bot = y_bot\n",
    "        self.yaw = yaw\n",
    "        self.vi = vi\n",
    "        self.vj = vj\n",
    "        self.wi = wi\n",
    "        self.wj = wj\n",
    "        self.color = 'blue'        \n",
    "        self.trajectory = [[x_bot,y_bot,yaw]]\n",
    "        self.fellows = []\n",
    "        \n",
    "    \n",
    "\n",
    "        \n",
    "    @property\n",
    "    def interval(self):\n",
    "        theta1 = self.yaw%(2*np.pi) - (self.wi - self.wj)*self.Δt\n",
    "        theta2 = self.yaw%(2*np.pi) + (self.wi - self.wj)*self.Δt\n",
    "        origin = (self.x_bot+self.radius*(np.cos(theta1)+np.cos(theta2))/(1e-6 + np.sin(theta1-theta2)),\n",
    "                       self.y_bot+self.radius*(np.sin(theta1)+np.sin(theta2))/(1e-6 + np.sin(theta1-theta2)))\n",
    "\n",
    "        n = self.radius/(1e-6+np.sin((theta2-theta1)/2))\n",
    "        nu1 = n - self.radius\n",
    "        nu2 = n + self.radius + (self.vi-self.vj)*self.Δt\n",
    "        return Interval(nu1,nu2,theta1,theta2,origin)\n",
    "        \n",
    "    \n",
    "    \n",
    "    def __repr__(self):\n",
    "        return f\"Robot at {self.x_bot},{self.y_bot},{self.yaw}\"\n",
    "    \n",
    "    \n",
    "    def collision_detection(self):\n",
    "        Js = []       \n",
    "        I = self.interval\n",
    "        for obstacle in self.obstacles:\n",
    "            J = I.fast_analysis(obstacle)\n",
    "            if not(J.r2 == 1e-6 and J.theta1 -J.theta2 == 0) :\n",
    "                Js.append(J)\n",
    "            del J \n",
    "        for fellow in self.fellows:\n",
    "            J = I.fast_analysis(fellow.interval)\n",
    "            if not(J.r2 == 1e-6 and J.theta1 -J.theta2 == 0) :\n",
    "                Js.append(J)\n",
    "            del J     \n",
    "        return Js\n",
    "\n",
    "    \n",
    "    def generate_vw(self):\n",
    "        min_angle = np.pi/24\n",
    "        num_samples = np.ceil((abs(self.interval.theta2-self.interval.theta1)/min_angle)/2).astype('int')\n",
    "        vws = []\n",
    "        v = (self.interval.r2-self.interval.r1-2*self.radius)/self.Δt\n",
    "        \n",
    "        for i in range(1,num_samples,1):\n",
    "            w = i*min_angle*self.Δt   \n",
    "            vws.append([v,-1*w])\n",
    "        for i in range(1,num_samples,1):\n",
    "            w = i*min_angle*self.Δt\n",
    "            vws.append([v,w])    \n",
    "        return vws\n",
    "            \n",
    "    def collision_avoidance(self,Js,ax):\n",
    "        \"\"\"\n",
    "        gives good v,w based on the inclusion region\n",
    "        \n",
    "        \"\"\"\n",
    "        I = self.interval\n",
    "        vws = self.generate_vw()\n",
    "\n",
    "        min_angle = np.pi/24\n",
    "        comps = set()\n",
    "        wt = lambda vw: vw[0]+(self.vi-self.vj)*abs(vw[1]/(self.wi-self.wj))\n",
    "        \n",
    "        if not len(Js) == 0:\n",
    "            \n",
    "            \n",
    "            for J in Js:\n",
    "                if not (J.r2 < 1e-4 and abs(J.theta2-J.theta1) < 1e-6):\n",
    "                    comps.update(I.complement(J))\n",
    "     \n",
    "            for comp in comps:\n",
    "                #print(comp)\n",
    "                #comp.draw(ax,'magenta')\n",
    "                if not(comp.theta2-I.theta2 or comp.theta1-I.theta1):\n",
    "                    continue  \n",
    "                else:   \n",
    "                    for i,[v,w] in enumerate(vws):\n",
    "    \n",
    "                        if self.yaw%(2*np.pi)+w*self.Δt<= max(comp.theta1,comp.theta2)+np.arcsin(self.radius/(comp.r2-self.radius)) and \\\n",
    "                        self.yaw%(2*np.pi)+w*self.Δt>=min(comp.theta1,comp.theta2)-np.arcsin(self.radius/(comp.r2-self.radius)):\n",
    "                            #np.pi/24 is min angle\n",
    "                            vnew = ((comp.r2-comp.r1-2*self.radius)/self.Δt)\n",
    "                            vnew = vnew if vnew>0 else 0\n",
    "                            if vnew<vws[i][0] and vnew>=0: #bugfix\n",
    "                                vws[i][0] = vnew\n",
    "\n",
    "                               \n",
    "\n",
    "            vwes = np.array(vws)\n",
    "            np.random.shuffle(vwes)\n",
    "            is_collide = True\n",
    "            if max(vwes[:,0])<abs(self.vi-self.vj)*0.9:\n",
    "                v_max = 0  #vwes[np.argmin(vwes[:,0])]*0.0\n",
    "                ws = abs(self.wi-self.wj)\n",
    "                print(\"escape\")\n",
    "                \n",
    "             #vwes[np.argmax(wt(vwes-vwes[np.argmin(vwes[:,0])]).T)]  \n",
    "            else:\n",
    "                max_vw = np.array([vw for vw in vwes if vw[0] == self.vi-self.vj])\n",
    "                if not len(max_vw):\n",
    "                    v_max,ws = max_vw[np.argmax(max_vw[:,1])]\n",
    "                    print(\"ok\")\n",
    "                else: \n",
    "                    v_max = 0  \n",
    "                    ws = abs(self.wi-self.wj)\n",
    "                \n",
    "               \n",
    "                    \n",
    "            vwn = np.array([v_max,ws])\n",
    "\n",
    "        else:\n",
    "            \n",
    "            vwn = np.array([(self.vi-self.vj),0])\n",
    "            is_collide = False\n",
    "        \n",
    "        return vwn,is_collide\n",
    "\n",
    "    \n",
    "    def next_bot(self,Js,ax):\n",
    "        if not len(Js):\n",
    "            return self.next_pose(Js,ax)\n",
    "        \n",
    "        \n",
    "#         Js = self.collision_detection()\n",
    "        vw,is_collide = self.collision_avoidance(Js,ax)\n",
    "        v,w = vw\n",
    "        yaw = self.yaw + w*self.Δt\n",
    "        x_bot = self.x_bot + v*np.cos(yaw)*self.Δt\n",
    "        y_bot = self.y_bot + v*np.sin(yaw)*self.Δt\n",
    "        self.yaw = yaw\n",
    "        self.x_bot = x_bot\n",
    "        self.y_bot = y_bot\n",
    "        self.trajectory.append([x_bot,y_bot,yaw])\n",
    "        \n",
    "        return self\n",
    "    def next_pose(self,Js,ax):\n",
    "        \n",
    "        \n",
    "#         vw,is_collide = self.collision_avoidance(Js,traj_v,traj_w,ax)\n",
    "#         v,w = vw\n",
    "        v,w = (self.vi-self.vj),0\n",
    "        yaw = self.yaw + w*self.Δt\n",
    "        x_bot = self.x_bot + v*np.cos(yaw)*self.Δt\n",
    "        y_bot = self.y_bot + v*np.sin(yaw)*self.Δt\n",
    "        self.yaw = yaw\n",
    "        self.x_bot = x_bot\n",
    "        self.y_bot = y_bot\n",
    "        self.trajectory.append([x_bot,y_bot,yaw])        \n",
    "        \n",
    "        \n",
    "        return self\n",
    "    def next_bots(self,ax):\n",
    "        bots = []\n",
    "        Js = self.collision_detection()\n",
    "        vws,_ = self.collision_avoidance(Js,ax)\n",
    "        for v,w in vws:\n",
    "            \n",
    "            yaw = self.yaw + w*self.Δt\n",
    "            x_bot = self.x_bot + v*np.cos(yaw)*self.Δt\n",
    "            y_bot = self.y_bot + v*np.sin(yaw)*self.Δt\n",
    "            bots.append(Robot(x_bot,y_bot,yaw,self.vi,self.vj,self.wi,self.wj))\n",
    "\n",
    "        return bots\n",
    "     \n",
    "    def plot(self,ax):\n",
    "        bot_circle = plt.Circle( (self.x_bot, self.y_bot),self.radius,color=self.color)\n",
    "        #arrow = ax.arrow(self.x_bot,self.y_bot,self.radius*np.cos(self.yaw),self.radius*np.sin(self.yaw))\n",
    "        patch = ax.add_patch(bot_circle)\n",
    "\n",
    "        #return [bot_circle,arrow]\n",
    "                           \n",
    "    def plot_interval(self,ax):\n",
    "        self.interval.draw(ax,self.color)\n",
    "\n",
    "    \n",
    "    @classmethod\n",
    "    def set_environment(cls,obstacles):\n",
    "        cls.obstacles = obstacles\n",
    "        \n",
    "       "
   ]
  },
  {
   "cell_type": "code",
   "execution_count": 7,
   "metadata": {},
   "outputs": [
    {
     "name": "stdout",
     "output_type": "stream",
     "text": [
      "run :  1\n",
      "run :  2\n",
      "run :  3\n",
      "run :  4\n",
      "run :  5\n"
     ]
    },
    {
     "name": "stderr",
     "output_type": "stream",
     "text": [
      "C:\\Users\\Kshitij\\anaconda3\\lib\\site-packages\\ipykernel_launcher.py:97: RuntimeWarning: invalid value encountered in arcsin\n"
     ]
    },
    {
     "name": "stdout",
     "output_type": "stream",
     "text": [
      "run :  6\n",
      "run :  7\n",
      "run :  8\n",
      "escape\n",
      "run :  9\n",
      "run :  10\n",
      "run :  11\n",
      "run :  12\n",
      "run :  13\n",
      "run :  14\n",
      "run :  15\n",
      "run :  16\n",
      "run :  17\n",
      "run :  18\n",
      "run :  19\n"
     ]
    },
    {
     "name": "stderr",
     "output_type": "stream",
     "text": [
      "C:\\Users\\Kshitij\\anaconda3\\lib\\site-packages\\ipykernel_launcher.py:25: RuntimeWarning: More than 20 figures have been opened. Figures created through the pyplot interface (`matplotlib.pyplot.figure`) are retained until explicitly closed and may consume too much memory. (To control this warning, see the rcParam `figure.max_open_warning`).\n"
     ]
    },
    {
     "name": "stdout",
     "output_type": "stream",
     "text": [
      "run :  20\n",
      "run :  21\n",
      "run :  22\n",
      "run :  23\n",
      "run :  24\n",
      "run :  25\n",
      "run :  26\n",
      "run :  27\n",
      "run :  28\n",
      "escape\n",
      "run :  29\n",
      "run :  30\n",
      "run :  31\n",
      "run :  32\n",
      "run :  33\n",
      "run :  34\n",
      "run :  35\n",
      "run :  36\n",
      "run :  37\n",
      "run :  38\n",
      "run :  39\n",
      "run :  40\n",
      "run :  41\n",
      "run :  42\n",
      "run :  43\n",
      "run :  44\n",
      "run :  45\n",
      "run :  46\n",
      "run :  47\n",
      "run :  48\n",
      "run :  49\n",
      "run :  50\n",
      "run :  51\n",
      "run :  52\n",
      "run :  53\n",
      "run :  54\n",
      "run :  55\n",
      "run :  56\n",
      "run :  57\n",
      "run :  58\n",
      "run :  59\n",
      "run :  60\n",
      "run :  61\n",
      "run :  62\n",
      "run :  63\n",
      "run :  64\n",
      "run :  65\n",
      "run :  66\n",
      "run :  67\n",
      "run :  68\n",
      "run :  69\n",
      "run :  70\n",
      "run :  71\n",
      "escape\n",
      "run :  72\n",
      "escape\n",
      "run :  73\n",
      "run :  74\n",
      "run :  75\n",
      "run :  76\n",
      "run :  77\n",
      "escape\n",
      "run :  78\n",
      "run :  79\n",
      "run :  80\n",
      "run :  81\n",
      "run :  82\n",
      "escape\n",
      "run :  83\n",
      "run :  84\n",
      "run :  85\n",
      "run :  86\n",
      "run :  87\n",
      "run :  88\n",
      "run :  89\n",
      "run :  90\n",
      "run :  91\n",
      "run :  92\n",
      "run :  93\n",
      "run :  94\n",
      "run :  95\n",
      "run :  96\n",
      "run :  97\n",
      "run :  98\n",
      "run :  99\n",
      "run :  100\n"
     ]
    },
    {
     "data": {
      "text/plain": [
       "<Figure size 432x288 with 0 Axes>"
      ]
     },
     "metadata": {},
     "output_type": "display_data"
    },
    {
     "data": {
      "text/plain": [
       "<Figure size 720x720 with 0 Axes>"
      ]
     },
     "metadata": {},
     "output_type": "display_data"
    },
    {
     "data": {
      "text/plain": [
       "<Figure size 720x720 with 0 Axes>"
      ]
     },
     "metadata": {},
     "output_type": "display_data"
    },
    {
     "data": {
      "text/plain": [
       "<Figure size 720x720 with 0 Axes>"
      ]
     },
     "metadata": {},
     "output_type": "display_data"
    },
    {
     "data": {
      "text/plain": [
       "<Figure size 720x720 with 0 Axes>"
      ]
     },
     "metadata": {},
     "output_type": "display_data"
    },
    {
     "data": {
      "text/plain": [
       "<Figure size 720x720 with 0 Axes>"
      ]
     },
     "metadata": {},
     "output_type": "display_data"
    },
    {
     "data": {
      "text/plain": [
       "<Figure size 720x720 with 0 Axes>"
      ]
     },
     "metadata": {},
     "output_type": "display_data"
    },
    {
     "data": {
      "text/plain": [
       "<Figure size 720x720 with 0 Axes>"
      ]
     },
     "metadata": {},
     "output_type": "display_data"
    },
    {
     "data": {
      "text/plain": [
       "<Figure size 720x720 with 0 Axes>"
      ]
     },
     "metadata": {},
     "output_type": "display_data"
    },
    {
     "data": {
      "text/plain": [
       "<Figure size 720x720 with 0 Axes>"
      ]
     },
     "metadata": {},
     "output_type": "display_data"
    },
    {
     "data": {
      "text/plain": [
       "<Figure size 720x720 with 0 Axes>"
      ]
     },
     "metadata": {},
     "output_type": "display_data"
    },
    {
     "data": {
      "text/plain": [
       "<Figure size 720x720 with 0 Axes>"
      ]
     },
     "metadata": {},
     "output_type": "display_data"
    },
    {
     "data": {
      "text/plain": [
       "<Figure size 720x720 with 0 Axes>"
      ]
     },
     "metadata": {},
     "output_type": "display_data"
    },
    {
     "data": {
      "text/plain": [
       "<Figure size 720x720 with 0 Axes>"
      ]
     },
     "metadata": {},
     "output_type": "display_data"
    },
    {
     "data": {
      "text/plain": [
       "<Figure size 720x720 with 0 Axes>"
      ]
     },
     "metadata": {},
     "output_type": "display_data"
    },
    {
     "data": {
      "text/plain": [
       "<Figure size 720x720 with 0 Axes>"
      ]
     },
     "metadata": {},
     "output_type": "display_data"
    },
    {
     "data": {
      "text/plain": [
       "<Figure size 720x720 with 0 Axes>"
      ]
     },
     "metadata": {},
     "output_type": "display_data"
    },
    {
     "data": {
      "text/plain": [
       "<Figure size 720x720 with 0 Axes>"
      ]
     },
     "metadata": {},
     "output_type": "display_data"
    },
    {
     "data": {
      "text/plain": [
       "<Figure size 720x720 with 0 Axes>"
      ]
     },
     "metadata": {},
     "output_type": "display_data"
    },
    {
     "data": {
      "text/plain": [
       "<Figure size 720x720 with 0 Axes>"
      ]
     },
     "metadata": {},
     "output_type": "display_data"
    },
    {
     "data": {
      "text/plain": [
       "<Figure size 720x720 with 0 Axes>"
      ]
     },
     "metadata": {},
     "output_type": "display_data"
    },
    {
     "data": {
      "text/plain": [
       "<Figure size 720x720 with 0 Axes>"
      ]
     },
     "metadata": {},
     "output_type": "display_data"
    },
    {
     "data": {
      "text/plain": [
       "<Figure size 720x720 with 0 Axes>"
      ]
     },
     "metadata": {},
     "output_type": "display_data"
    },
    {
     "data": {
      "text/plain": [
       "<Figure size 720x720 with 0 Axes>"
      ]
     },
     "metadata": {},
     "output_type": "display_data"
    },
    {
     "data": {
      "text/plain": [
       "<Figure size 720x720 with 0 Axes>"
      ]
     },
     "metadata": {},
     "output_type": "display_data"
    },
    {
     "data": {
      "text/plain": [
       "<Figure size 720x720 with 0 Axes>"
      ]
     },
     "metadata": {},
     "output_type": "display_data"
    },
    {
     "data": {
      "text/plain": [
       "<Figure size 720x720 with 0 Axes>"
      ]
     },
     "metadata": {},
     "output_type": "display_data"
    },
    {
     "data": {
      "text/plain": [
       "<Figure size 720x720 with 0 Axes>"
      ]
     },
     "metadata": {},
     "output_type": "display_data"
    },
    {
     "data": {
      "text/plain": [
       "<Figure size 720x720 with 0 Axes>"
      ]
     },
     "metadata": {},
     "output_type": "display_data"
    },
    {
     "data": {
      "text/plain": [
       "<Figure size 720x720 with 0 Axes>"
      ]
     },
     "metadata": {},
     "output_type": "display_data"
    },
    {
     "data": {
      "text/plain": [
       "<Figure size 720x720 with 0 Axes>"
      ]
     },
     "metadata": {},
     "output_type": "display_data"
    },
    {
     "data": {
      "text/plain": [
       "<Figure size 720x720 with 0 Axes>"
      ]
     },
     "metadata": {},
     "output_type": "display_data"
    },
    {
     "data": {
      "text/plain": [
       "<Figure size 720x720 with 0 Axes>"
      ]
     },
     "metadata": {},
     "output_type": "display_data"
    },
    {
     "data": {
      "text/plain": [
       "<Figure size 720x720 with 0 Axes>"
      ]
     },
     "metadata": {},
     "output_type": "display_data"
    },
    {
     "data": {
      "text/plain": [
       "<Figure size 720x720 with 0 Axes>"
      ]
     },
     "metadata": {},
     "output_type": "display_data"
    },
    {
     "data": {
      "text/plain": [
       "<Figure size 720x720 with 0 Axes>"
      ]
     },
     "metadata": {},
     "output_type": "display_data"
    },
    {
     "data": {
      "text/plain": [
       "<Figure size 720x720 with 0 Axes>"
      ]
     },
     "metadata": {},
     "output_type": "display_data"
    },
    {
     "data": {
      "text/plain": [
       "<Figure size 720x720 with 0 Axes>"
      ]
     },
     "metadata": {},
     "output_type": "display_data"
    },
    {
     "data": {
      "text/plain": [
       "<Figure size 720x720 with 0 Axes>"
      ]
     },
     "metadata": {},
     "output_type": "display_data"
    },
    {
     "data": {
      "text/plain": [
       "<Figure size 720x720 with 0 Axes>"
      ]
     },
     "metadata": {},
     "output_type": "display_data"
    },
    {
     "data": {
      "text/plain": [
       "<Figure size 720x720 with 0 Axes>"
      ]
     },
     "metadata": {},
     "output_type": "display_data"
    },
    {
     "data": {
      "text/plain": [
       "<Figure size 720x720 with 0 Axes>"
      ]
     },
     "metadata": {},
     "output_type": "display_data"
    },
    {
     "data": {
      "text/plain": [
       "<Figure size 720x720 with 0 Axes>"
      ]
     },
     "metadata": {},
     "output_type": "display_data"
    },
    {
     "data": {
      "text/plain": [
       "<Figure size 720x720 with 0 Axes>"
      ]
     },
     "metadata": {},
     "output_type": "display_data"
    },
    {
     "data": {
      "text/plain": [
       "<Figure size 720x720 with 0 Axes>"
      ]
     },
     "metadata": {},
     "output_type": "display_data"
    },
    {
     "data": {
      "text/plain": [
       "<Figure size 720x720 with 0 Axes>"
      ]
     },
     "metadata": {},
     "output_type": "display_data"
    },
    {
     "data": {
      "text/plain": [
       "<Figure size 720x720 with 0 Axes>"
      ]
     },
     "metadata": {},
     "output_type": "display_data"
    },
    {
     "data": {
      "text/plain": [
       "<Figure size 720x720 with 0 Axes>"
      ]
     },
     "metadata": {},
     "output_type": "display_data"
    },
    {
     "data": {
      "text/plain": [
       "<Figure size 720x720 with 0 Axes>"
      ]
     },
     "metadata": {},
     "output_type": "display_data"
    },
    {
     "data": {
      "text/plain": [
       "<Figure size 720x720 with 0 Axes>"
      ]
     },
     "metadata": {},
     "output_type": "display_data"
    },
    {
     "data": {
      "text/plain": [
       "<Figure size 720x720 with 0 Axes>"
      ]
     },
     "metadata": {},
     "output_type": "display_data"
    },
    {
     "data": {
      "text/plain": [
       "<Figure size 720x720 with 0 Axes>"
      ]
     },
     "metadata": {},
     "output_type": "display_data"
    },
    {
     "data": {
      "text/plain": [
       "<Figure size 720x720 with 0 Axes>"
      ]
     },
     "metadata": {},
     "output_type": "display_data"
    },
    {
     "data": {
      "text/plain": [
       "<Figure size 720x720 with 0 Axes>"
      ]
     },
     "metadata": {},
     "output_type": "display_data"
    },
    {
     "data": {
      "text/plain": [
       "<Figure size 720x720 with 0 Axes>"
      ]
     },
     "metadata": {},
     "output_type": "display_data"
    },
    {
     "data": {
      "text/plain": [
       "<Figure size 720x720 with 0 Axes>"
      ]
     },
     "metadata": {},
     "output_type": "display_data"
    },
    {
     "data": {
      "text/plain": [
       "<Figure size 720x720 with 0 Axes>"
      ]
     },
     "metadata": {},
     "output_type": "display_data"
    },
    {
     "data": {
      "text/plain": [
       "<Figure size 720x720 with 0 Axes>"
      ]
     },
     "metadata": {},
     "output_type": "display_data"
    },
    {
     "data": {
      "text/plain": [
       "<Figure size 720x720 with 0 Axes>"
      ]
     },
     "metadata": {},
     "output_type": "display_data"
    },
    {
     "data": {
      "text/plain": [
       "<Figure size 720x720 with 0 Axes>"
      ]
     },
     "metadata": {},
     "output_type": "display_data"
    },
    {
     "data": {
      "text/plain": [
       "<Figure size 720x720 with 0 Axes>"
      ]
     },
     "metadata": {},
     "output_type": "display_data"
    },
    {
     "data": {
      "text/plain": [
       "<Figure size 720x720 with 0 Axes>"
      ]
     },
     "metadata": {},
     "output_type": "display_data"
    },
    {
     "data": {
      "text/plain": [
       "<Figure size 720x720 with 0 Axes>"
      ]
     },
     "metadata": {},
     "output_type": "display_data"
    },
    {
     "data": {
      "text/plain": [
       "<Figure size 720x720 with 0 Axes>"
      ]
     },
     "metadata": {},
     "output_type": "display_data"
    },
    {
     "data": {
      "text/plain": [
       "<Figure size 720x720 with 0 Axes>"
      ]
     },
     "metadata": {},
     "output_type": "display_data"
    },
    {
     "data": {
      "text/plain": [
       "<Figure size 720x720 with 0 Axes>"
      ]
     },
     "metadata": {},
     "output_type": "display_data"
    },
    {
     "data": {
      "text/plain": [
       "<Figure size 720x720 with 0 Axes>"
      ]
     },
     "metadata": {},
     "output_type": "display_data"
    },
    {
     "data": {
      "text/plain": [
       "<Figure size 720x720 with 0 Axes>"
      ]
     },
     "metadata": {},
     "output_type": "display_data"
    },
    {
     "data": {
      "text/plain": [
       "<Figure size 720x720 with 0 Axes>"
      ]
     },
     "metadata": {},
     "output_type": "display_data"
    },
    {
     "data": {
      "text/plain": [
       "<Figure size 720x720 with 0 Axes>"
      ]
     },
     "metadata": {},
     "output_type": "display_data"
    },
    {
     "data": {
      "text/plain": [
       "<Figure size 720x720 with 0 Axes>"
      ]
     },
     "metadata": {},
     "output_type": "display_data"
    },
    {
     "data": {
      "text/plain": [
       "<Figure size 720x720 with 0 Axes>"
      ]
     },
     "metadata": {},
     "output_type": "display_data"
    },
    {
     "data": {
      "text/plain": [
       "<Figure size 720x720 with 0 Axes>"
      ]
     },
     "metadata": {},
     "output_type": "display_data"
    },
    {
     "data": {
      "text/plain": [
       "<Figure size 720x720 with 0 Axes>"
      ]
     },
     "metadata": {},
     "output_type": "display_data"
    },
    {
     "data": {
      "text/plain": [
       "<Figure size 720x720 with 0 Axes>"
      ]
     },
     "metadata": {},
     "output_type": "display_data"
    },
    {
     "data": {
      "text/plain": [
       "<Figure size 720x720 with 0 Axes>"
      ]
     },
     "metadata": {},
     "output_type": "display_data"
    },
    {
     "data": {
      "text/plain": [
       "<Figure size 720x720 with 0 Axes>"
      ]
     },
     "metadata": {},
     "output_type": "display_data"
    },
    {
     "data": {
      "text/plain": [
       "<Figure size 720x720 with 0 Axes>"
      ]
     },
     "metadata": {},
     "output_type": "display_data"
    },
    {
     "data": {
      "text/plain": [
       "<Figure size 720x720 with 0 Axes>"
      ]
     },
     "metadata": {},
     "output_type": "display_data"
    },
    {
     "data": {
      "text/plain": [
       "<Figure size 720x720 with 0 Axes>"
      ]
     },
     "metadata": {},
     "output_type": "display_data"
    },
    {
     "data": {
      "text/plain": [
       "<Figure size 720x720 with 0 Axes>"
      ]
     },
     "metadata": {},
     "output_type": "display_data"
    },
    {
     "data": {
      "text/plain": [
       "<Figure size 720x720 with 0 Axes>"
      ]
     },
     "metadata": {},
     "output_type": "display_data"
    },
    {
     "data": {
      "text/plain": [
       "<Figure size 720x720 with 0 Axes>"
      ]
     },
     "metadata": {},
     "output_type": "display_data"
    },
    {
     "data": {
      "text/plain": [
       "<Figure size 720x720 with 0 Axes>"
      ]
     },
     "metadata": {},
     "output_type": "display_data"
    },
    {
     "data": {
      "text/plain": [
       "<Figure size 720x720 with 0 Axes>"
      ]
     },
     "metadata": {},
     "output_type": "display_data"
    },
    {
     "data": {
      "text/plain": [
       "<Figure size 720x720 with 0 Axes>"
      ]
     },
     "metadata": {},
     "output_type": "display_data"
    },
    {
     "data": {
      "text/plain": [
       "<Figure size 720x720 with 0 Axes>"
      ]
     },
     "metadata": {},
     "output_type": "display_data"
    },
    {
     "data": {
      "text/plain": [
       "<Figure size 720x720 with 0 Axes>"
      ]
     },
     "metadata": {},
     "output_type": "display_data"
    },
    {
     "data": {
      "text/plain": [
       "<Figure size 720x720 with 0 Axes>"
      ]
     },
     "metadata": {},
     "output_type": "display_data"
    },
    {
     "data": {
      "text/plain": [
       "<Figure size 720x720 with 0 Axes>"
      ]
     },
     "metadata": {},
     "output_type": "display_data"
    },
    {
     "data": {
      "text/plain": [
       "<Figure size 720x720 with 0 Axes>"
      ]
     },
     "metadata": {},
     "output_type": "display_data"
    },
    {
     "data": {
      "text/plain": [
       "<Figure size 720x720 with 0 Axes>"
      ]
     },
     "metadata": {},
     "output_type": "display_data"
    },
    {
     "data": {
      "text/plain": [
       "<Figure size 720x720 with 0 Axes>"
      ]
     },
     "metadata": {},
     "output_type": "display_data"
    },
    {
     "data": {
      "text/plain": [
       "<Figure size 720x720 with 0 Axes>"
      ]
     },
     "metadata": {},
     "output_type": "display_data"
    },
    {
     "data": {
      "text/plain": [
       "<Figure size 720x720 with 0 Axes>"
      ]
     },
     "metadata": {},
     "output_type": "display_data"
    },
    {
     "data": {
      "text/plain": [
       "<Figure size 720x720 with 0 Axes>"
      ]
     },
     "metadata": {},
     "output_type": "display_data"
    },
    {
     "data": {
      "text/plain": [
       "<Figure size 720x720 with 0 Axes>"
      ]
     },
     "metadata": {},
     "output_type": "display_data"
    },
    {
     "data": {
      "text/plain": [
       "<Figure size 720x720 with 0 Axes>"
      ]
     },
     "metadata": {},
     "output_type": "display_data"
    },
    {
     "data": {
      "text/plain": [
       "<Figure size 720x720 with 0 Axes>"
      ]
     },
     "metadata": {},
     "output_type": "display_data"
    },
    {
     "data": {
      "text/plain": [
       "<Figure size 720x720 with 0 Axes>"
      ]
     },
     "metadata": {},
     "output_type": "display_data"
    },
    {
     "data": {
      "image/png": "[encoded data removed]",
      "text/plain": [
       "<Figure size 720x720 with 1 Axes>"
      ]
     },
     "metadata": {
      "needs_background": "light"
     },
     "output_type": "display_data"
    }
   ],
   "source": [
    "\n",
    "robot1 = Robot(800,900,-np.pi/2,35,0,1.13,0)\n",
    "#robot = Robot(800,770,4.5,80,0,1,0)\n",
    "#robot = Robot(400,400,0,100,0,1,0)\n",
    "robot1.set_environment(obstacles)\n",
    "robot2 = Robot(100,900, 0,35,0,1.13,0)\n",
    "robot3 = Robot(300,300, 0.5,35,0,1.13,0)\n",
    "robot4 = Robot(900,200, np.pi/2,35,0,1.13,0)\n",
    "\n",
    "robot1.fellows = [robot2,robot3,robot4]\n",
    "robot2.fellows = [robot1,robot3,robot4]\n",
    "robot3.fellows = [robot1,robot2,robot4]\n",
    "robot4.fellows = [robot1,robot2,robot3]\n",
    "\n",
    "# fig,ax = plt.subplots(figsize=(8,8))\n",
    "# ax. set_aspect('equal')\n",
    "# ax.set_xlim([0, 1024])\n",
    "# ax.set_ylim([0, 1024])\n",
    "# ax.imshow(arena,cmap = plt.cm.gray_r,origin = 'lower')\n",
    "# robot.plot(ax)\n",
    "# robot.plot_interval(ax)\n",
    "for i in range(100):\n",
    "    try:\n",
    "        #clear_output(wait = True)\n",
    "        plt.clf()\n",
    "        fig,ax = plt.subplots(figsize=(10,10))\n",
    "        ax. set_aspect('equal')\n",
    "        ax.set_xlim([0, 1024])\n",
    "        ax.set_ylim([0, 1024])\n",
    "        ax.imshow(arena,cmap = plt.cm.gray_r,origin = 'lower')\n",
    "        #ax.imshow(arena,cmap = plt.cm.gray_r,origin = 'lower')\n",
    "        \n",
    "        robot1.plot(ax)\n",
    "        robot2.plot(ax)\n",
    "        robot3.plot(ax)        \n",
    "        robot4.plot(ax)\n",
    "\n",
    "        \n",
    "        \n",
    "        \n",
    " \n",
    "        Js1 = robot1.collision_detection() \n",
    "        Js2 = robot2.collision_detection() \n",
    "        Js3 = robot3.collision_detection()        \n",
    "        Js4 = robot4.collision_detection() \n",
    " \n",
    "        \n",
    "        robot1 = robot1.next_bot(Js1,ax) \n",
    "        robot2 = robot2.next_bot(Js2,ax) \n",
    "        robot3 = robot3.next_bot(Js3,ax)        \n",
    "        robot4 = robot4.next_bot(Js4,ax) \n",
    " \n",
    "        \n",
    "        \n",
    "#         robot1 = robot1.next_pose(Js1,1,ax) \n",
    "#         robot2 = robot2.next_pose(Js2,0,ax) \n",
    "#         robot3 = robot3.next_pose(Js3,0,ax)\n",
    "\n",
    "        #plt.show()\n",
    "        plt.axis(\"off\")\n",
    "        plt.savefig(f'captures4/fig{i}.png',bbox_inches='tight',dpi=133)\n",
    "        print(\"run : \",i+1)   \n",
    "    except KeyboardInterrupt:\n",
    "        try:\n",
    "            break\n",
    "        except GeometryError:\n",
    "            break\n",
    "trajectories = {}\n",
    "trajectories[\"robot1\"] = robot1.trajectory\n",
    "trajectories[\"robot2\"] = robot2.trajectory\n",
    "trajectories[\"robot3\"] = robot3.trajectory\n",
    "trajectories[\"robot4\"] = robot4.trajectory\n",
    "\n",
    "with open('trajectories4r.json', 'w') as outfile:\n",
    "    json.dump(trajectories,outfile,indent=4)"
   ]
  },
  {
   "cell_type": "code",
   "execution_count": 9,
   "metadata": {},
   "outputs": [
    {
     "name": "stdout",
     "output_type": "stream",
     "text": [
      "run :  1\n",
      "run :  2\n",
      "run :  3\n",
      "escape\n",
      "run :  4\n"
     ]
    },
    {
     "name": "stderr",
     "output_type": "stream",
     "text": [
      "C:\\Users\\Kshitij\\anaconda3\\lib\\site-packages\\ipykernel_launcher.py:97: RuntimeWarning: invalid value encountered in arcsin\n"
     ]
    },
    {
     "name": "stdout",
     "output_type": "stream",
     "text": [
      "run :  5\n",
      "run :  6\n",
      "run :  7\n",
      "run :  8\n",
      "run :  9\n",
      "run :  10\n",
      "run :  11\n",
      "escape\n",
      "run :  12\n",
      "run :  13\n",
      "run :  14\n",
      "run :  15\n",
      "run :  16\n",
      "run :  17\n",
      "run :  18\n",
      "run :  19\n"
     ]
    },
    {
     "name": "stderr",
     "output_type": "stream",
     "text": [
      "C:\\Users\\Kshitij\\anaconda3\\lib\\site-packages\\ipykernel_launcher.py:5: RuntimeWarning: More than 20 figures have been opened. Figures created through the pyplot interface (`matplotlib.pyplot.figure`) are retained until explicitly closed and may consume too much memory. (To control this warning, see the rcParam `figure.max_open_warning`).\n",
      "  \"\"\"\n"
     ]
    },
    {
     "name": "stdout",
     "output_type": "stream",
     "text": [
      "escape\n",
      "run :  20\n",
      "run :  21\n",
      "run :  22\n",
      "run :  23\n",
      "run :  24\n",
      "run :  25\n",
      "run :  26\n",
      "run :  27\n",
      "run :  28\n",
      "run :  29\n",
      "run :  30\n",
      "run :  31\n",
      "run :  32\n",
      "run :  33\n",
      "run :  34\n",
      "run :  35\n",
      "run :  36\n",
      "run :  37\n",
      "run :  38\n",
      "run :  39\n",
      "run :  40\n",
      "run :  41\n",
      "run :  42\n",
      "run :  43\n",
      "run :  44\n",
      "run :  45\n",
      "run :  46\n",
      "run :  47\n",
      "run :  48\n",
      "run :  49\n",
      "run :  50\n",
      "run :  51\n",
      "escape\n",
      "run :  52\n",
      "run :  53\n",
      "run :  54\n",
      "run :  55\n",
      "run :  56\n",
      "run :  57\n",
      "run :  58\n",
      "run :  59\n",
      "run :  60\n",
      "run :  61\n",
      "escape\n",
      "run :  62\n",
      "escape\n",
      "escape\n",
      "run :  63\n",
      "run :  64\n",
      "run :  65\n",
      "run :  66\n",
      "run :  67\n",
      "run :  68\n",
      "run :  69\n",
      "run :  70\n",
      "run :  71\n",
      "run :  72\n",
      "run :  73\n",
      "run :  74\n",
      "run :  75\n",
      "run :  76\n",
      "run :  77\n",
      "run :  78\n",
      "escape\n",
      "run :  79\n",
      "run :  80\n",
      "run :  81\n",
      "run :  82\n",
      "run :  83\n",
      "run :  84\n",
      "run :  85\n",
      "run :  86\n",
      "escape\n",
      "run :  87\n",
      "run :  88\n",
      "run :  89\n",
      "run :  90\n",
      "run :  91\n",
      "run :  92\n",
      "run :  93\n",
      "run :  94\n",
      "run :  95\n",
      "run :  96\n",
      "run :  97\n",
      "run :  98\n",
      "escape\n",
      "run :  99\n",
      "run :  100\n"
     ]
    },
    {
     "data": {
      "text/plain": [
       "<Figure size 432x288 with 0 Axes>"
      ]
     },
     "metadata": {},
     "output_type": "display_data"
    },
    {
     "data": {
      "text/plain": [
       "<Figure size 720x720 with 0 Axes>"
      ]
     },
     "metadata": {},
     "output_type": "display_data"
    },
    {
     "data": {
      "text/plain": [
       "<Figure size 720x720 with 0 Axes>"
      ]
     },
     "metadata": {},
     "output_type": "display_data"
    },
    {
     "data": {
      "text/plain": [
       "<Figure size 720x720 with 0 Axes>"
      ]
     },
     "metadata": {},
     "output_type": "display_data"
    },
    {
     "data": {
      "text/plain": [
       "<Figure size 720x720 with 0 Axes>"
      ]
     },
     "metadata": {},
     "output_type": "display_data"
    },
    {
     "data": {
      "text/plain": [
       "<Figure size 720x720 with 0 Axes>"
      ]
     },
     "metadata": {},
     "output_type": "display_data"
    },
    {
     "data": {
      "text/plain": [
       "<Figure size 720x720 with 0 Axes>"
      ]
     },
     "metadata": {},
     "output_type": "display_data"
    },
    {
     "data": {
      "text/plain": [
       "<Figure size 720x720 with 0 Axes>"
      ]
     },
     "metadata": {},
     "output_type": "display_data"
    },
    {
     "data": {
      "text/plain": [
       "<Figure size 720x720 with 0 Axes>"
      ]
     },
     "metadata": {},
     "output_type": "display_data"
    },
    {
     "data": {
      "text/plain": [
       "<Figure size 720x720 with 0 Axes>"
      ]
     },
     "metadata": {},
     "output_type": "display_data"
    },
    {
     "data": {
      "text/plain": [
       "<Figure size 720x720 with 0 Axes>"
      ]
     },
     "metadata": {},
     "output_type": "display_data"
    },
    {
     "data": {
      "text/plain": [
       "<Figure size 720x720 with 0 Axes>"
      ]
     },
     "metadata": {},
     "output_type": "display_data"
    },
    {
     "data": {
      "text/plain": [
       "<Figure size 720x720 with 0 Axes>"
      ]
     },
     "metadata": {},
     "output_type": "display_data"
    },
    {
     "data": {
      "text/plain": [
       "<Figure size 720x720 with 0 Axes>"
      ]
     },
     "metadata": {},
     "output_type": "display_data"
    },
    {
     "data": {
      "text/plain": [
       "<Figure size 720x720 with 0 Axes>"
      ]
     },
     "metadata": {},
     "output_type": "display_data"
    },
    {
     "data": {
      "text/plain": [
       "<Figure size 720x720 with 0 Axes>"
      ]
     },
     "metadata": {},
     "output_type": "display_data"
    },
    {
     "data": {
      "text/plain": [
       "<Figure size 720x720 with 0 Axes>"
      ]
     },
     "metadata": {},
     "output_type": "display_data"
    },
    {
     "data": {
      "text/plain": [
       "<Figure size 720x720 with 0 Axes>"
      ]
     },
     "metadata": {},
     "output_type": "display_data"
    },
    {
     "data": {
      "text/plain": [
       "<Figure size 720x720 with 0 Axes>"
      ]
     },
     "metadata": {},
     "output_type": "display_data"
    },
    {
     "data": {
      "text/plain": [
       "<Figure size 720x720 with 0 Axes>"
      ]
     },
     "metadata": {},
     "output_type": "display_data"
    },
    {
     "data": {
      "text/plain": [
       "<Figure size 720x720 with 0 Axes>"
      ]
     },
     "metadata": {},
     "output_type": "display_data"
    },
    {
     "data": {
      "text/plain": [
       "<Figure size 720x720 with 0 Axes>"
      ]
     },
     "metadata": {},
     "output_type": "display_data"
    },
    {
     "data": {
      "text/plain": [
       "<Figure size 720x720 with 0 Axes>"
      ]
     },
     "metadata": {},
     "output_type": "display_data"
    },
    {
     "data": {
      "text/plain": [
       "<Figure size 720x720 with 0 Axes>"
      ]
     },
     "metadata": {},
     "output_type": "display_data"
    },
    {
     "data": {
      "text/plain": [
       "<Figure size 720x720 with 0 Axes>"
      ]
     },
     "metadata": {},
     "output_type": "display_data"
    },
    {
     "data": {
      "text/plain": [
       "<Figure size 720x720 with 0 Axes>"
      ]
     },
     "metadata": {},
     "output_type": "display_data"
    },
    {
     "data": {
      "text/plain": [
       "<Figure size 720x720 with 0 Axes>"
      ]
     },
     "metadata": {},
     "output_type": "display_data"
    },
    {
     "data": {
      "text/plain": [
       "<Figure size 720x720 with 0 Axes>"
      ]
     },
     "metadata": {},
     "output_type": "display_data"
    },
    {
     "data": {
      "text/plain": [
       "<Figure size 720x720 with 0 Axes>"
      ]
     },
     "metadata": {},
     "output_type": "display_data"
    },
    {
     "data": {
      "text/plain": [
       "<Figure size 720x720 with 0 Axes>"
      ]
     },
     "metadata": {},
     "output_type": "display_data"
    },
    {
     "data": {
      "text/plain": [
       "<Figure size 720x720 with 0 Axes>"
      ]
     },
     "metadata": {},
     "output_type": "display_data"
    },
    {
     "data": {
      "text/plain": [
       "<Figure size 720x720 with 0 Axes>"
      ]
     },
     "metadata": {},
     "output_type": "display_data"
    },
    {
     "data": {
      "text/plain": [
       "<Figure size 720x720 with 0 Axes>"
      ]
     },
     "metadata": {},
     "output_type": "display_data"
    },
    {
     "data": {
      "text/plain": [
       "<Figure size 720x720 with 0 Axes>"
      ]
     },
     "metadata": {},
     "output_type": "display_data"
    },
    {
     "data": {
      "text/plain": [
       "<Figure size 720x720 with 0 Axes>"
      ]
     },
     "metadata": {},
     "output_type": "display_data"
    },
    {
     "data": {
      "text/plain": [
       "<Figure size 720x720 with 0 Axes>"
      ]
     },
     "metadata": {},
     "output_type": "display_data"
    },
    {
     "data": {
      "text/plain": [
       "<Figure size 720x720 with 0 Axes>"
      ]
     },
     "metadata": {},
     "output_type": "display_data"
    },
    {
     "data": {
      "text/plain": [
       "<Figure size 720x720 with 0 Axes>"
      ]
     },
     "metadata": {},
     "output_type": "display_data"
    },
    {
     "data": {
      "text/plain": [
       "<Figure size 720x720 with 0 Axes>"
      ]
     },
     "metadata": {},
     "output_type": "display_data"
    },
    {
     "data": {
      "text/plain": [
       "<Figure size 720x720 with 0 Axes>"
      ]
     },
     "metadata": {},
     "output_type": "display_data"
    },
    {
     "data": {
      "text/plain": [
       "<Figure size 720x720 with 0 Axes>"
      ]
     },
     "metadata": {},
     "output_type": "display_data"
    },
    {
     "data": {
      "text/plain": [
       "<Figure size 720x720 with 0 Axes>"
      ]
     },
     "metadata": {},
     "output_type": "display_data"
    },
    {
     "data": {
      "text/plain": [
       "<Figure size 720x720 with 0 Axes>"
      ]
     },
     "metadata": {},
     "output_type": "display_data"
    },
    {
     "data": {
      "text/plain": [
       "<Figure size 720x720 with 0 Axes>"
      ]
     },
     "metadata": {},
     "output_type": "display_data"
    },
    {
     "data": {
      "text/plain": [
       "<Figure size 720x720 with 0 Axes>"
      ]
     },
     "metadata": {},
     "output_type": "display_data"
    },
    {
     "data": {
      "text/plain": [
       "<Figure size 720x720 with 0 Axes>"
      ]
     },
     "metadata": {},
     "output_type": "display_data"
    },
    {
     "data": {
      "text/plain": [
       "<Figure size 720x720 with 0 Axes>"
      ]
     },
     "metadata": {},
     "output_type": "display_data"
    },
    {
     "data": {
      "text/plain": [
       "<Figure size 720x720 with 0 Axes>"
      ]
     },
     "metadata": {},
     "output_type": "display_data"
    },
    {
     "data": {
      "text/plain": [
       "<Figure size 720x720 with 0 Axes>"
      ]
     },
     "metadata": {},
     "output_type": "display_data"
    },
    {
     "data": {
      "text/plain": [
       "<Figure size 720x720 with 0 Axes>"
      ]
     },
     "metadata": {},
     "output_type": "display_data"
    },
    {
     "data": {
      "text/plain": [
       "<Figure size 720x720 with 0 Axes>"
      ]
     },
     "metadata": {},
     "output_type": "display_data"
    },
    {
     "data": {
      "text/plain": [
       "<Figure size 720x720 with 0 Axes>"
      ]
     },
     "metadata": {},
     "output_type": "display_data"
    },
    {
     "data": {
      "text/plain": [
       "<Figure size 720x720 with 0 Axes>"
      ]
     },
     "metadata": {},
     "output_type": "display_data"
    },
    {
     "data": {
      "text/plain": [
       "<Figure size 720x720 with 0 Axes>"
      ]
     },
     "metadata": {},
     "output_type": "display_data"
    },
    {
     "data": {
      "text/plain": [
       "<Figure size 720x720 with 0 Axes>"
      ]
     },
     "metadata": {},
     "output_type": "display_data"
    },
    {
     "data": {
      "text/plain": [
       "<Figure size 720x720 with 0 Axes>"
      ]
     },
     "metadata": {},
     "output_type": "display_data"
    },
    {
     "data": {
      "text/plain": [
       "<Figure size 720x720 with 0 Axes>"
      ]
     },
     "metadata": {},
     "output_type": "display_data"
    },
    {
     "data": {
      "text/plain": [
       "<Figure size 720x720 with 0 Axes>"
      ]
     },
     "metadata": {},
     "output_type": "display_data"
    },
    {
     "data": {
      "text/plain": [
       "<Figure size 720x720 with 0 Axes>"
      ]
     },
     "metadata": {},
     "output_type": "display_data"
    },
    {
     "data": {
      "text/plain": [
       "<Figure size 720x720 with 0 Axes>"
      ]
     },
     "metadata": {},
     "output_type": "display_data"
    },
    {
     "data": {
      "text/plain": [
       "<Figure size 720x720 with 0 Axes>"
      ]
     },
     "metadata": {},
     "output_type": "display_data"
    },
    {
     "data": {
      "text/plain": [
       "<Figure size 720x720 with 0 Axes>"
      ]
     },
     "metadata": {},
     "output_type": "display_data"
    },
    {
     "data": {
      "text/plain": [
       "<Figure size 720x720 with 0 Axes>"
      ]
     },
     "metadata": {},
     "output_type": "display_data"
    },
    {
     "data": {
      "text/plain": [
       "<Figure size 720x720 with 0 Axes>"
      ]
     },
     "metadata": {},
     "output_type": "display_data"
    },
    {
     "data": {
      "text/plain": [
       "<Figure size 720x720 with 0 Axes>"
      ]
     },
     "metadata": {},
     "output_type": "display_data"
    },
    {
     "data": {
      "text/plain": [
       "<Figure size 720x720 with 0 Axes>"
      ]
     },
     "metadata": {},
     "output_type": "display_data"
    },
    {
     "data": {
      "text/plain": [
       "<Figure size 720x720 with 0 Axes>"
      ]
     },
     "metadata": {},
     "output_type": "display_data"
    },
    {
     "data": {
      "text/plain": [
       "<Figure size 720x720 with 0 Axes>"
      ]
     },
     "metadata": {},
     "output_type": "display_data"
    },
    {
     "data": {
      "text/plain": [
       "<Figure size 720x720 with 0 Axes>"
      ]
     },
     "metadata": {},
     "output_type": "display_data"
    },
    {
     "data": {
      "text/plain": [
       "<Figure size 720x720 with 0 Axes>"
      ]
     },
     "metadata": {},
     "output_type": "display_data"
    },
    {
     "data": {
      "text/plain": [
       "<Figure size 720x720 with 0 Axes>"
      ]
     },
     "metadata": {},
     "output_type": "display_data"
    },
    {
     "data": {
      "text/plain": [
       "<Figure size 720x720 with 0 Axes>"
      ]
     },
     "metadata": {},
     "output_type": "display_data"
    },
    {
     "data": {
      "text/plain": [
       "<Figure size 720x720 with 0 Axes>"
      ]
     },
     "metadata": {},
     "output_type": "display_data"
    },
    {
     "data": {
      "text/plain": [
       "<Figure size 720x720 with 0 Axes>"
      ]
     },
     "metadata": {},
     "output_type": "display_data"
    },
    {
     "data": {
      "text/plain": [
       "<Figure size 720x720 with 0 Axes>"
      ]
     },
     "metadata": {},
     "output_type": "display_data"
    },
    {
     "data": {
      "text/plain": [
       "<Figure size 720x720 with 0 Axes>"
      ]
     },
     "metadata": {},
     "output_type": "display_data"
    },
    {
     "data": {
      "text/plain": [
       "<Figure size 720x720 with 0 Axes>"
      ]
     },
     "metadata": {},
     "output_type": "display_data"
    },
    {
     "data": {
      "text/plain": [
       "<Figure size 720x720 with 0 Axes>"
      ]
     },
     "metadata": {},
     "output_type": "display_data"
    },
    {
     "data": {
      "text/plain": [
       "<Figure size 720x720 with 0 Axes>"
      ]
     },
     "metadata": {},
     "output_type": "display_data"
    },
    {
     "data": {
      "text/plain": [
       "<Figure size 720x720 with 0 Axes>"
      ]
     },
     "metadata": {},
     "output_type": "display_data"
    },
    {
     "data": {
      "text/plain": [
       "<Figure size 720x720 with 0 Axes>"
      ]
     },
     "metadata": {},
     "output_type": "display_data"
    },
    {
     "data": {
      "text/plain": [
       "<Figure size 720x720 with 0 Axes>"
      ]
     },
     "metadata": {},
     "output_type": "display_data"
    },
    {
     "data": {
      "text/plain": [
       "<Figure size 720x720 with 0 Axes>"
      ]
     },
     "metadata": {},
     "output_type": "display_data"
    },
    {
     "data": {
      "text/plain": [
       "<Figure size 720x720 with 0 Axes>"
      ]
     },
     "metadata": {},
     "output_type": "display_data"
    },
    {
     "data": {
      "text/plain": [
       "<Figure size 720x720 with 0 Axes>"
      ]
     },
     "metadata": {},
     "output_type": "display_data"
    },
    {
     "data": {
      "text/plain": [
       "<Figure size 720x720 with 0 Axes>"
      ]
     },
     "metadata": {},
     "output_type": "display_data"
    },
    {
     "data": {
      "text/plain": [
       "<Figure size 720x720 with 0 Axes>"
      ]
     },
     "metadata": {},
     "output_type": "display_data"
    },
    {
     "data": {
      "text/plain": [
       "<Figure size 720x720 with 0 Axes>"
      ]
     },
     "metadata": {},
     "output_type": "display_data"
    },
    {
     "data": {
      "text/plain": [
       "<Figure size 720x720 with 0 Axes>"
      ]
     },
     "metadata": {},
     "output_type": "display_data"
    },
    {
     "data": {
      "text/plain": [
       "<Figure size 720x720 with 0 Axes>"
      ]
     },
     "metadata": {},
     "output_type": "display_data"
    },
    {
     "data": {
      "text/plain": [
       "<Figure size 720x720 with 0 Axes>"
      ]
     },
     "metadata": {},
     "output_type": "display_data"
    },
    {
     "data": {
      "text/plain": [
       "<Figure size 720x720 with 0 Axes>"
      ]
     },
     "metadata": {},
     "output_type": "display_data"
    },
    {
     "data": {
      "text/plain": [
       "<Figure size 720x720 with 0 Axes>"
      ]
     },
     "metadata": {},
     "output_type": "display_data"
    },
    {
     "data": {
      "text/plain": [
       "<Figure size 720x720 with 0 Axes>"
      ]
     },
     "metadata": {},
     "output_type": "display_data"
    },
    {
     "data": {
      "text/plain": [
       "<Figure size 720x720 with 0 Axes>"
      ]
     },
     "metadata": {},
     "output_type": "display_data"
    },
    {
     "data": {
      "text/plain": [
       "<Figure size 720x720 with 0 Axes>"
      ]
     },
     "metadata": {},
     "output_type": "display_data"
    },
    {
     "data": {
      "text/plain": [
       "<Figure size 720x720 with 0 Axes>"
      ]
     },
     "metadata": {},
     "output_type": "display_data"
    },
    {
     "data": {
      "text/plain": [
       "<Figure size 720x720 with 0 Axes>"
      ]
     },
     "metadata": {},
     "output_type": "display_data"
    },
    {
     "data": {
      "text/plain": [
       "<Figure size 720x720 with 0 Axes>"
      ]
     },
     "metadata": {},
     "output_type": "display_data"
    },
    {
     "data": {
      "text/plain": [
       "<Figure size 720x720 with 0 Axes>"
      ]
     },
     "metadata": {},
     "output_type": "display_data"
    },
    {
     "data": {
      "image/png": "[encoded data removed]",
      "text/plain": [
       "<Figure size 720x720 with 1 Axes>"
      ]
     },
     "metadata": {
      "needs_background": "light"
     },
     "output_type": "display_data"
    }
   ],
   "source": [
    "for i in range(100):\n",
    "    try:\n",
    "        #clear_output(wait = True)\n",
    "        plt.clf()\n",
    "        fig,ax = plt.subplots(figsize=(10,10))\n",
    "        ax. set_aspect('equal')\n",
    "        ax.set_xlim([0, 1024])\n",
    "        ax.set_ylim([0, 1024])\n",
    "        ax.imshow(arena,cmap = plt.cm.gray_r,origin = 'lower')\n",
    "        #ax.imshow(arena,cmap = plt.cm.gray_r,origin = 'lower')\n",
    "        \n",
    "        robot1.plot(ax)\n",
    "        robot2.plot(ax)\n",
    "        robot3.plot(ax)\n",
    "        robot4.plot(ax)\n",
    "\n",
    "        \n",
    "        \n",
    "        \n",
    " \n",
    "        Js1 = robot1.collision_detection() \n",
    "        Js2 = robot2.collision_detection() \n",
    "        Js3 = robot3.collision_detection()\n",
    "        Js4 = robot4.collision_detection() \n",
    " \n",
    "        \n",
    "        robot1 = robot1.next_bot(Js1,ax) \n",
    "        robot2 = robot2.next_bot(Js2,ax) \n",
    "        robot3 = robot3.next_bot(Js3,ax)\n",
    "        robot4 = robot4.next_bot(Js4,ax) \n",
    " \n",
    "        \n",
    "        \n",
    "#         robot1 = robot1.next_pose(Js1,1,ax) \n",
    "#         robot2 = robot2.next_pose(Js2,0,ax) \n",
    "#         robot3 = robot3.next_pose(Js3,0,ax)\n",
    "\n",
    "        #plt.show()\n",
    "        plt.axis(\"off\")\n",
    "        plt.savefig(f'captures4/fig{100+i}.png',bbox_inches='tight',dpi=133)\n",
    "        print(\"run : \",i+1)   \n",
    "    except KeyboardInterrupt:\n",
    "        try:\n",
    "            break\n",
    "        except GeometryError:\n",
    "            break\n",
    "trajectories = {}\n",
    "trajectories[\"robot1\"] = robot1.trajectory\n",
    "trajectories[\"robot2\"] = robot2.trajectory\n",
    "trajectories[\"robot3\"] = robot3.trajectory\n",
    "trajectories[\"robot4\"] = robot4.trajectory\n",
    "\n",
    "with open('trajectories4rx.json', 'w') as outfile:\n",
    "    json.dump(trajectories,outfile,indent=4)"
   ]
  },
  {
   "cell_type": "code",
   "execution_count": 18,
   "metadata": {},
   "outputs": [],
   "source": [
    "heat_map = np.zeros((50,50))\n",
    "with open('trajectories1.json') as f:   \n",
    "    data = json.load(f)\n",
    "\n",
    "tot = data['robot1']+data['robot2']+data['robot3']\n",
    "\n",
    "dots = np.array(tot)[:,0:2]\n",
    "for dot in dots:\n",
    "\n",
    "    j = int(dot[0]/20.6)\n",
    "    i = int(dot[1]/20.6)\n",
    "    \n",
    "    heat_map[i,j]+=0.01\n",
    "\n"
   ]
  },
  {
   "cell_type": "code",
   "execution_count": 20,
   "metadata": {},
   "outputs": [
    {
     "data": {
      "image/png": "[encoded data removed]",
      "text/plain": [
       "<Figure size 720x720 with 1 Axes>"
      ]
     },
     "metadata": {
      "needs_background": "light"
     },
     "output_type": "display_data"
    }
   ],
   "source": [
    "fig,ax = plt.subplots(figsize=(10,10))\n",
    "ax.imshow(heat_map,cmap = \"jet\",origin=\"lower\")\n",
    "plt.savefig(\"grid100run.png\",bbox_inches='tight')"
   ]
  },
  {
   "cell_type": "code",
   "execution_count": 8,
   "metadata": {},
   "outputs": [
    {
     "name": "stdout",
     "output_type": "stream",
     "text": [
      "image : 0\n",
      "image : 1\n",
      "image : 2\n",
      "image : 3\n",
      "image : 4\n",
      "image : 5\n",
      "image : 6\n",
      "image : 7\n",
      "image : 8\n",
      "image : 9\n",
      "image : 10\n",
      "image : 11\n",
      "image : 12\n",
      "image : 13\n",
      "image : 14\n",
      "image : 15\n",
      "image : 16\n",
      "image : 17\n",
      "image : 18\n",
      "image : 19\n",
      "image : 20\n",
      "image : 21\n",
      "image : 22\n",
      "image : 23\n",
      "image : 24\n",
      "image : 25\n",
      "image : 26\n",
      "image : 27\n",
      "image : 28\n",
      "image : 29\n",
      "image : 30\n",
      "image : 31\n",
      "image : 32\n",
      "image : 33\n",
      "image : 34\n",
      "image : 35\n",
      "image : 36\n",
      "image : 37\n",
      "image : 38\n",
      "image : 39\n",
      "image : 40\n",
      "image : 41\n",
      "image : 42\n",
      "image : 43\n",
      "image : 44\n",
      "image : 45\n",
      "image : 46\n",
      "image : 47\n",
      "image : 48\n",
      "image : 49\n",
      "image : 50\n",
      "image : 51\n",
      "image : 52\n",
      "image : 53\n",
      "image : 54\n",
      "image : 55\n",
      "image : 56\n",
      "image : 57\n",
      "image : 58\n",
      "image : 59\n",
      "image : 60\n",
      "image : 61\n",
      "image : 62\n",
      "image : 63\n",
      "image : 64\n",
      "image : 65\n",
      "image : 66\n",
      "image : 67\n",
      "image : 68\n",
      "image : 69\n",
      "image : 70\n",
      "image : 71\n",
      "image : 72\n",
      "image : 73\n",
      "image : 74\n",
      "image : 75\n",
      "image : 76\n",
      "image : 77\n",
      "image : 78\n",
      "image : 79\n",
      "image : 80\n",
      "image : 81\n",
      "image : 82\n",
      "image : 83\n",
      "image : 84\n",
      "image : 85\n",
      "image : 86\n",
      "image : 87\n",
      "image : 88\n",
      "image : 89\n",
      "image : 90\n",
      "image : 91\n",
      "image : 92\n",
      "image : 93\n",
      "image : 94\n",
      "image : 95\n",
      "image : 96\n",
      "image : 97\n",
      "image : 98\n",
      "image : 99\n"
     ]
    },
    {
     "data": {
      "text/plain": [
       "<matplotlib.image.AxesImage at 0x3b492b70>"
      ]
     },
     "execution_count": 8,
     "metadata": {},
     "output_type": "execute_result"
    },
    {
     "data": {
      "image/png": "[encoded data removed]",
      "text/plain": [
       "<Figure size 720x720 with 1 Axes>"
      ]
     },
     "metadata": {
      "needs_background": "light"
     },
     "output_type": "display_data"
    }
   ],
   "source": [
    "hm_highres = np.zeros((1030,1030))\n",
    "\n",
    "for num in range(100):\n",
    "    img = cv2.imread(f\"captures4/fig{num}.png\")\n",
    "    for i in range(1030):\n",
    "        for j in range(1030):\n",
    "            r,g,b = img[i,j] \n",
    "    \n",
    "            if r==255 and g==0 and b==0:\n",
    "                hm_highres[j,i]+=0.01\n",
    "                \n",
    "    print(\"image :\",num)\n",
    "    \n",
    "fig,ax = plt.subplots(figsize=(10,10))\n",
    "ax.imshow(hm_highres,cmap='jet',origin='lower')    \n"
   ]
  },
  {
   "cell_type": "code",
   "execution_count": 10,
   "metadata": {},
   "outputs": [
    {
     "data": {
      "image/png": "[encoded data removed]",
      "text/plain": [
       "<Figure size 720x720 with 1 Axes>"
      ]
     },
     "metadata": {
      "needs_background": "light"
     },
     "output_type": "display_data"
    }
   ],
   "source": [
    "fig,ax = plt.subplots(figsize=(10,10))\n",
    "ax.imshow(hm_highres.T,cmap='jet')  \n",
    "#plt.axis(\"off\")\n",
    "plt.savefig(\"first2c.png\",bbox_inches='tight')"
   ]
  },
  {
   "cell_type": "code",
   "execution_count": 116,
   "metadata": {},
   "outputs": [],
   "source": [
    "img = cv2.imread(f\"captures1/fig{0}.png\")\n",
    "#img = cv2.cvtColor(img,cv2.COLOR_BGR2GRAY)"
   ]
  },
  {
   "cell_type": "code",
   "execution_count": 125,
   "metadata": {},
   "outputs": [
    {
     "data": {
      "text/plain": [
       "<matplotlib.image.AxesImage at 0x7f2298d2b208>"
      ]
     },
     "execution_count": 125,
     "metadata": {},
     "output_type": "execute_result"
    },
    {
     "data": {
      "image/png": "[encoded data removed]",
      "text/plain": [
       "<matplotlib.figure.Figure at 0x7f2298d320f0>"
      ]
     },
     "metadata": {
      "needs_background": "light"
     },
     "output_type": "display_data"
    }
   ],
   "source": [
    "fig,ax = plt.subplots(figsize=(10,10))\n",
    "ax.imshow(img)"
   ]
  },
  {
   "cell_type": "code",
   "execution_count": 5,
   "metadata": {},
   "outputs": [],
   "source": [
    "import imageio\n",
    "images = []\n",
    "for i in range(100):\n",
    "    filename = f'captures3/fig{i}.png'\n",
    "    #filename1 = f'captures2/fig{i}a.png'\n",
    "    #print(filename)\n",
    "    images.append(imageio.imread(filename))\n",
    "    images.append(imageio.imread(filename))\n",
    "imageio.mimsave('heat_map_test.gif', images)"
   ]
  }
 ],
 "metadata": {
  "kernelspec": {
   "display_name": "Python 3",
   "language": "python",
   "name": "python3"
  },
  "language_info": {
   "codemirror_mode": {
    "name": "ipython",
    "version": 3
   },
   "file_extension": ".py",
   "mimetype": "text/x-python",
   "name": "python",
   "nbconvert_exporter": "python",
   "pygments_lexer": "ipython3",
   "version": "3.7.6"
  }
 },
 "nbformat": 4,
 "nbformat_minor": 5
}
