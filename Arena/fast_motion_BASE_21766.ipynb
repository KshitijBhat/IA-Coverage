{
 "cells": [
  {
   "cell_type": "code",
   "execution_count": null,
   "metadata": {},
   "outputs": [],
   "source": [
    "from Interval_v3 import *\n",
    "import cv2\n",
    "import json\n",
    "import concurrent.futures\n",
    "from itertools import repeat"
   ]
  },
  {
   "cell_type": "code",
   "execution_count": 3,
   "metadata": {},
   "outputs": [
    {
     "data": {
      "image/png": "[encoded data removed]",
      "text/plain": [
       "<matplotlib.figure.Figure at 0x7f471a58da58>"
      ]
     },
     "metadata": {
      "needs_background": "light"
     },
     "output_type": "display_data"
    }
   ],
   "source": [
    "with open('obstacles.json') as f:   \n",
    "    data = json.load(f)\n",
    "obstacles = []\n",
    "for obstacle in data['obstacles']:\n",
    "    params,center = obstacle['params'],obstacle['center']\n",
    "    obstacles.append(Interval(*params,center))\n",
    "arena = cv2.imread(\"arena1.png\")\n",
    "arena = (1-cv2.cvtColor(arena,cv2.COLOR_RGB2GRAY)/255).astype('int')\n",
    "fig,ax = plt.subplots(figsize=(5,5))\n",
    "ax.imshow(arena,cmap = plt.cm.gray_r)\n",
    "plt.show()\n",
    "    "
   ]
  },
  {
   "cell_type": "code",
   "execution_count": 63,
   "metadata": {},
   "outputs": [],
   "source": [
    "### no inheritance\n",
    "class Robot:\n",
    "    radius = 30\n",
    "    bot_color = 'b'\n",
    "    color = 'blue'\n",
    "    Δt = 1\n",
    "    obstacles = None\n",
    "    Nr = 5\n",
    "    Ntheta = 5\n",
    "    Is = []\n",
    "    \n",
    "    def __init__(self,x_bot,y_bot,yaw,vi,vj,wi,wj):\n",
    "        \n",
    "        self.x_bot = x_bot\n",
    "        self.y_bot = y_bot\n",
    "        self.yaw = yaw\n",
    "        self.vi = vi\n",
    "        self.vj = vj\n",
    "        self.wi = wi\n",
    "        self.wj = wj\n",
    "        \n",
    "    @property\n",
    "    def interval(self):\n",
    "        theta1 = self.yaw - (self.wi - self.wj)*self.Δt\n",
    "        theta2 = self.yaw + (self.wi - self.wj)*self.Δt\n",
    "        origin = (self.x_bot+self.radius*(np.cos(theta1)+np.cos(theta2))/(1e-6 + np.sin(theta1-theta2)),\n",
    "                       self.y_bot+self.radius*(np.sin(theta1)+np.sin(theta2))/(1e-6 + np.sin(theta1-theta2)))\n",
    "\n",
    "        n = self.radius/np.sin(1e-6+(theta2-theta1)/2)\n",
    "        nu1 = n - self.radius\n",
    "        nu2 = n + self.radius + (self.vi-self.vj)*self.Δt\n",
    "        return Interval(nu1,nu2,theta1,theta2,origin)\n",
    "    \n",
    "    def __repr__(self):\n",
    "        return f\"Robot at {self.x_bot},{self.y_bot},{self.yaw}\"\n",
    "    \n",
    "    def set_path(self,path):\n",
    "        self.path = path\n",
    "    \n",
    "    def collision_detection(self):\n",
    "        Js = []\n",
    "        #### maybe multiprocessing here\n",
    "#         with concurrent.futures.ProcessPoolExecutor() as executor:\n",
    "#             Js = [executor.submit(super(Robot,self).interval_analysis,obstacle,5,5)for obstacle in self.obstacles]\n",
    "            \n",
    "#         for f in concurrent.futures.as_completed(Js):\n",
    "#             print(f)\n",
    "        \n",
    "        for obstacle in self.obstacles:\n",
    "            I = self.interval\n",
    "            #print('obstacle', obstacle)\n",
    "            J = I.fast_analysis(obstacle)\n",
    "            #print(\"det\", J)\n",
    "            if not(J.r2 == 1e-6 and J.theta1 -J.theta2 == 0) :\n",
    "                Js.append(J)\n",
    "            del J       \n",
    "        #print(\"obs\", Js)\n",
    "        return Js\n",
    "\n",
    "    \n",
    "    def generate_vw(self):\n",
    "        min_angle = np.pi/24\n",
    "        num_samples = np.ceil(((self.interval.theta2-self.interval.theta1)/min_angle)/2).astype('int')\n",
    "        vws = []\n",
    "        v = (self.interval.r2-self.interval.r1-2*self.radius)/self.Δt\n",
    "        \n",
    "        for i in range(num_samples):\n",
    "            w = i*min_angle*self.Δt ### sus I.theta1+   \n",
    "            vws.append([v,-1*w])\n",
    "        for i in range(num_samples):\n",
    "            w = i*min_angle*self.Δt ### sus I.theta1+\n",
    "            vws.append([v,w])    \n",
    "        return vws\n",
    "            \n",
    "    def collision_avoidance(self,Js,traj_v,traj_w,ax):\n",
    "        \"\"\"\n",
    "        gives good v,w given bad v,w from the tracker\n",
    "        \"\"\"\n",
    "#         w = w*np.random.uniform(-1,1)\n",
    "        I = self.interval\n",
    "        vws = self.generate_vw()\n",
    "        comps = set([])\n",
    "        if not len(Js) == 0:\n",
    "            \n",
    "            for J in Js:\n",
    "                comps.update(complement(I,J))    \n",
    "            for comp in comps:\n",
    "                comp.draw(ax,'magenta')\n",
    "                if comp.r2 == I.r2:\n",
    "                    continue\n",
    "                else:    \n",
    "                    for i,[v,w] in enumerate(vws):\n",
    "                        if self.yaw+w*self.Δt<= comp.theta2+np.arcsin(self.radius/(I.r2-self.radius))+2*np.pi/24 and self.yaw+w*self.Δt>=comp.theta1-np.arcsin(self.radius/(I.r2-self.radius))-2*np.pi/24:\n",
    "                            #np.pi/24 is min angle\n",
    "                            vnew = ((comp.r2-comp.r1-2*self.radius)/self.Δt)\n",
    "                            if v>vnew and vnew>0:\n",
    "                                vws[i][0] = vnew\n",
    "            vwes = np.array(vws)  #[::-1]\n",
    "            #idr = np.random.choice(range(len(vwes)))\n",
    "            ws = vwes[:,1]\n",
    "            traj_ws = traj_w*np.ones_like(ws)\n",
    "            diff = (ws-traj_ws-np.pi/3)**2\n",
    "    # #         print(vws)\n",
    "            print(diff)\n",
    "            vwn = vwes[np.argmin(diff)]\n",
    "            #vwn = vwes[np.argmax(vwes[:,0])]\n",
    "    #         print(\"vwn = \",vwn)\n",
    "\n",
    "            #return vwes[idr] \n",
    "    #         print(vwes)\n",
    "        else:\n",
    "            print(\"no collision\")\n",
    "            vwn = np.array([traj_v,traj_w])\n",
    "        return vwn\n",
    "            \n",
    "        \n",
    "    \n",
    "#     def __iter__(self):\n",
    "#         return self\n",
    "    \n",
    "#     def __next__(self):\n",
    "#         pose = [self.x_bot,self.y_bot,self.yaw]\n",
    "#         Js = self.collision_detection()\n",
    "#         v,w = self.collision_avoidance(Js)\n",
    "#         self.x_bot += v*np.cos(self.yaw)*self.Δt\n",
    "#         self.y_bot += v*np.sin(self.yaw)*self.Δt\n",
    "#         self.yaw += w*self.Δt\n",
    "# #         self.vj = v\n",
    "# #         self.wj = w\n",
    "#         super(Robot,self).__init__(*self.params)\n",
    "        \n",
    "        \n",
    "#             #cook something that creates new v,w which do not crash into the obstacles \n",
    "#         #Robot(*pose,self.vi,self.vj,self.wi,self.wj)\n",
    "#         return self\n",
    "    def next_bot(self,traj_v,traj_w,ax):\n",
    "        Js = self.collision_detection()\n",
    "        v,w = self.collision_avoidance(Js,traj_v,traj_w,ax)\n",
    "#         for J in Js:\n",
    "#             J.draw(ax,'magenta')\n",
    "        yaw = self.yaw + w*self.Δt\n",
    "        x_bot = self.x_bot + v*np.cos(yaw)*self.Δt\n",
    "        y_bot = self.y_bot + v*np.sin(yaw)*self.Δt\n",
    "        self.yaw = yaw\n",
    "        self.x_bot = x_bot\n",
    "        self.y_bot = y_bot\n",
    "        \n",
    "        \n",
    "#         vi = self.vi\n",
    "#         vj = self.vj\n",
    "#         wi = self.wi\n",
    "#         wj = self.wj\n",
    "        return self\n",
    "    def next_bots(self,ax):\n",
    "        bots = []\n",
    "        Js = self.collision_detection()\n",
    "        for [v,w] in self.collision_avoidance(Js,ax):\n",
    "            yaw = self.yaw + w*self.Δt\n",
    "            x_bot = self.x_bot + v*np.cos(yaw)*self.Δt\n",
    "            y_bot = self.y_bot + v*np.sin(yaw)*self.Δt\n",
    "            bots.append(Robot(x_bot,y_bot,yaw,self.vi,self.vj,self.wi,self.wj))\n",
    "            \n",
    "#         v,w = self.collision_avoidance(Js,ax)\n",
    "#         for J in Js:\n",
    "#             J.draw(ax,'magenta')\n",
    "        \n",
    "#         self.yaw = yaw\n",
    "#         self.x_bot = x_bot\n",
    "#         self.y_bot = y_bot\n",
    "        \n",
    "        \n",
    "#         vi = self.vi\n",
    "#         vj = self.vj\n",
    "#         wi = self.wi\n",
    "#         wj = self.wj\n",
    "        return bots\n",
    "    def next_pose(self,v,w):\n",
    "        yaw = self.yaw + w*self.Δt\n",
    "        x_bot = self.x_bot + v*np.cos(yaw)*self.Δt\n",
    "        y_bot = self.y_bot + v*np.sin(yaw)*self.Δt\n",
    "        self.yaw = yaw\n",
    "        self.x_bot = x_bot\n",
    "        self.y_bot = y_bot\n",
    "        return self\n",
    "            \n",
    "        \n",
    "        \n",
    "    def plot(self,ax):\n",
    "        bot_circle = plt.Circle( (self.x_bot, self.y_bot),self.radius,color=self.bot_color)\n",
    "        arrow = ax.arrow(self.x_bot,self.y_bot,self.radius*np.cos(self.yaw),self.radius*np.sin(self.yaw))\n",
    "        patch = ax.add_patch(bot_circle)\n",
    "        return [bot_circle,arrow]\n",
    "                           \n",
    "    def plot_interval(self,ax):\n",
    "#         for I in self.Is:\n",
    "#             I.draw(ax,'green')\n",
    "        self.interval.draw(ax,self.color)\n",
    "        \n",
    "    \n",
    "    @classmethod\n",
    "    def set_environment(cls,obstacles):\n",
    "        cls.obstacles = obstacles\n",
    "        \n",
    "def correction(thetas):\n",
    "    tuts = []\n",
    "    for theta in thetas:\n",
    "        if theta>=0 and theta<= np.pi/2:\n",
    "            tuts.append(0)\n",
    "        if theta>=3*np.pi/2 and theta<= 2*np.pi:\n",
    "            tuts.append(1)\n",
    "\n",
    "    if any(tuts) and not all(tuts):\n",
    "        return [(theta-2*np.pi if theta>=3*np.pi/2 else theta) for theta in thetas]\n",
    "    else:\n",
    "        return thetas        \n",
    "        \n",
    "    \n",
    "def complement(I,J):\n",
    "    if J.r2 == 1e-6 and J.theta1 - J.theta2 == 0:\n",
    "        return [I]\n",
    "    I1 = Interval(I.r1,I.r2,*correction([I.theta1,J.theta1]),I.origin)\n",
    "    I2 = Interval(I.r1,J.r1,*correction([J.theta1,J.theta2]),I.origin)\n",
    "    I3 = Interval(I.r1,I.r2,*correction([J.theta2,I.theta2]),I.origin)\n",
    "    return [I1,I2,I3]       "
   ]
  },
  {
   "cell_type": "code",
   "execution_count": 170,
   "metadata": {},
   "outputs": [
    {
     "data": {
      "text/plain": [
       "array([4, 3, 6])"
      ]
     },
     "execution_count": 170,
     "metadata": {},
     "output_type": "execute_result"
    }
   ],
   "source": [
    "aa = np.array([[4,4],[2,3],[44,6]])\n",
    "aa[:,1]"
   ]
  },
  {
   "cell_type": "code",
   "execution_count": 5,
   "metadata": {
    "scrolled": false
   },
   "outputs": [
    {
     "data": {
      "image/png": "[encoded data removed]",
      "text/plain": [
       "<matplotlib.figure.Figure at 0x7f8c2c2c4208>"
      ]
     },
     "metadata": {
      "needs_background": "light"
     },
     "output_type": "display_data"
    }
   ],
   "source": [
    "\n",
    "#robot = Robot(680,600,0,80,0,1.57,0)\n",
    "#robot = Robot(800,800,0.5,100,0,1,0)\n",
    "robot = Robot(320,900,0,80,0,1,0)\n",
    "#robot = Robot(600,900,3.14,80,0,1,0)\n",
    "#robot = Robot(900,800,4.2,100,0,1,0)\n",
    "#robot = Robot(800,770,4.5,80,0,1,0)\n",
    "#robot = Robot(400,400,0,100,0,1,0)\n",
    "robot.set_environment(obstacles)\n",
    "\n",
    "\n",
    "fig,ax = plt.subplots(figsize=(8,8))\n",
    "ax. set_aspect('equal')\n",
    "ax.set_xlim([0, 1024])\n",
    "ax.set_ylim([0, 1024])\n",
    "ax.imshow(arena,cmap = plt.cm.gray_r,origin = 'lower')\n",
    "for obstacle in obstacles:\n",
    "#     obsa = obstacle\n",
    "#     I = robot.interval\n",
    "#     I.interval_analysis(obsa,5,5).draw(ax,\"magenta\")\n",
    "    obstacle.draw(ax,'red')\n",
    "#     del obsa\n",
    "#     del I\n",
    "robot.plot(ax)\n",
    "robot.plot_interval(ax)\n",
    "\n",
    "# print(robot.interval.gamma2.encloses(Point(obstacles[1].origin)))\n",
    "# print(\"\\n\",obstacles[1].gamma2.encloses(Point(robot.interval.gamma2.origin)))\n",
    "#robot.interval.fast_analysis(obstacles[1]).draw\n",
    "\n",
    "# inters = intersection(robot.interval.gamma2.circle,obstacles[1].gamma2.circle)\n",
    "# for inter in inters:\n",
    "#     print(robot.interval.gamma2.encloses(inter))\n",
    "#     print(obstacles[1].gamma2.encloses(inter))\n",
    "\n",
    "for i in range(1):\n",
    "\n",
    "    \n",
    "    pose = robot.next_bot(ax)\n",
    "\n",
    "    \n",
    "    pose.plot(ax)\n",
    "    pose.plot_interval(ax)\n",
    "    robot = pose\n",
    "    \n",
    "    \n",
    "#     for I in pose.Is:\n",
    "#         I.draw(ax,'green')\n",
    "    \n",
    "\n",
    "# robot.collision_detection()\n",
    "\n",
    "\n",
    "# pose1 = pose.next_bot()\n",
    "# pose1.plot(ax)\n",
    "# pose1.plot_interval(ax)\n",
    "# pose1 = pose1.next_bot()\n",
    "# pose1.plot(ax)\n",
    "# pose1.plot_interval(ax)\n",
    "\n",
    "# i = 0\n",
    "# traj = []\n",
    "# for pose in robot:\n",
    "#     i+=1\n",
    "#     for obstacle in obstacles:\n",
    "#         obstacle.draw(ax,'red')\n",
    "#     traj.append((pose.x_bot,pose.y_bot))    \n",
    "#     pose.plot(ax)\n",
    "#     pose.plot_interval(ax)\n",
    "#     del pose\n",
    "#     if i == 4:\n",
    "#         break\n",
    "\n",
    "# path = np.array(traj).T    \n",
    "# ax.plot(path[0],path[1],'y-')\n",
    "\n",
    "        "
   ]
  },
  {
   "cell_type": "code",
   "execution_count": 21,
   "metadata": {
    "scrolled": false
   },
   "outputs": [
    {
     "data": {
      "image/png": "[encoded data removed]",
      "text/plain": [
       "<matplotlib.figure.Figure at 0x7f4d6b4b8048>"
      ]
     },
     "metadata": {
      "needs_background": "light"
     },
     "output_type": "display_data"
    }
   ],
   "source": [
    "\n",
    "#robot = Robot(680,600,0,80,0,1.57,0)\n",
    "#robot = Robot(800,800,0.5,100,0,1,0)\n",
    "robot = Robot(320,900,0,80,0,1,0)\n",
    "#robot = Robot(600,900,3.14,80,0,1,0)\n",
    "#robot = Robot(900,800,4.2,100,0,1,0)\n",
    "#robot = Robot(800,770,4.5,80,0,1,0)\n",
    "#robot = Robot(400,400,0,100,0,1,0)\n",
    "robot.set_environment(obstacles)\n",
    "\n",
    "\n",
    "fig,ax = plt.subplots(figsize=(8,8))\n",
    "ax. set_aspect('equal')\n",
    "ax.set_xlim([0, 1024])\n",
    "ax.set_ylim([0, 1024])\n",
    "ax.imshow(arena,cmap = plt.cm.gray_r,origin = 'lower')\n",
    "for obstacle in obstacles:\n",
    "#     obsa = obstacle\n",
    "#     I = robot.interval\n",
    "#     I.interval_analysis(obsa,5,5).draw(ax,\"magenta\")\n",
    "    obstacle.draw(ax,'red')\n",
    "#     del obsa\n",
    "#     del I\n",
    "robot.plot(ax)\n",
    "robot.plot_interval(ax)\n",
    "\n",
    "# print(robot.interval.gamma2.encloses(Point(obstacles[1].origin)))\n",
    "# print(\"\\n\",obstacles[1].gamma2.encloses(Point(robot.interval.gamma2.origin)))\n",
    "#robot.interval.fast_analysis(obstacles[1]).draw\n",
    "\n",
    "# inters = intersection(robot.interval.gamma2.circle,obstacles[1].gamma2.circle)\n",
    "# for inter in inters:\n",
    "#     print(robot.interval.gamma2.encloses(inter))\n",
    "#     print(obstacles[1].gamma2.encloses(inter))\n",
    "\n",
    "for i in range(1):\n",
    "\n",
    "    \n",
    "    pose = robot.next_bot(1,1,ax)\n",
    "\n",
    "    \n",
    "    pose.plot(ax)\n",
    "    pose.plot_interval(ax)\n",
    "    robot = pose\n",
    "    \n",
    "    \n",
    "#     for I in pose.Is:\n",
    "#         I.draw(ax,'green')\n",
    "    \n",
    "\n",
    "# robot.collision_detection()\n",
    "\n",
    "\n",
    "# pose1 = pose.next_bot()\n",
    "# pose1.plot(ax)\n",
    "# pose1.plot_interval(ax)\n",
    "# pose1 = pose1.next_bot()\n",
    "# pose1.plot(ax)\n",
    "# pose1.plot_interval(ax)\n",
    "\n",
    "# i = 0\n",
    "# traj = []\n",
    "# for pose in robot:\n",
    "#     i+=1\n",
    "#     for obstacle in obstacles:\n",
    "#         obstacle.draw(ax,'red')\n",
    "#     traj.append((pose.x_bot,pose.y_bot))    \n",
    "#     pose.plot(ax)\n",
    "#     pose.plot_interval(ax)\n",
    "#     del pose\n",
    "#     if i == 4:\n",
    "#         break\n",
    "\n",
    "# path = np.array(traj).T    \n",
    "# ax.plot(path[0],path[1],'y-')\n",
    "\n",
    "        "
   ]
  },
  {
   "cell_type": "code",
   "execution_count": 27,
   "metadata": {
    "scrolled": false
   },
   "outputs": [
    {
     "name": "stdout",
     "output_type": "stream",
     "text": [
      "no collision\n",
      "run: 0\n",
      "run: 1\n",
      "no collision\n",
      "run: 2\n"
     ]
    },
    {
     "data": {
      "image/png": "[encoded data removed]",
      "text/plain": [
       "<matplotlib.figure.Figure at 0x7f4d69cb0d68>"
      ]
     },
     "metadata": {
      "needs_background": "light"
     },
     "output_type": "display_data"
    }
   ],
   "source": [
    "\n",
    "#robot = Robot(680,600,0,80,0,1,0)\n",
    "#robot = Robot(800,800,0.5,100,0,1,0)\n",
    "#robot = Robot(379.4084003997459, 907.8212642902986, 0.1308996938995747,80,0,1,0)\n",
    "#robot = Robot(600,900,3.14,80,0,1,0)\n",
    "#robot = Robot(900,700,5,100,0,1,0)\n",
    "robot = Robot(200,650,4.5,50,0,1,0)\n",
    "#robot = Robot(800,770,4.5,80,0,1,0)\n",
    "#robot = Robot(400,400,0,100,0,1,0)\n",
    "robot.set_environment(obstacles)\n",
    "\n",
    "\n",
    "fig,ax = plt.subplots(figsize=(8,8))\n",
    "ax. set_aspect('equal')\n",
    "ax.set_xlim([0, 1024])\n",
    "ax.set_ylim([0, 1024])\n",
    "ax.imshow(arena,cmap = plt.cm.gray_r,origin = 'lower')\n",
    "for obstacle in obstacles:\n",
    "#     obsa = obstacle\n",
    "#     I = robot.interval\n",
    "#     I.interval_analysis(obsa,5,5).draw(ax,\"magenta\")\n",
    "    obstacle.draw(ax,'red')\n",
    "#     del obsa\n",
    "#     del I\n",
    "robot.plot(ax)\n",
    "robot.plot_interval(ax)\n",
    "\n",
    "# print(robot.interval.gamma2.encloses(Point(obstacles[1].origin)))\n",
    "# print(\"\\n\",obstacles[1].gamma2.encloses(Point(robot.interval.gamma2.origin)))\n",
    "#robot.interval.fast_analysis(obstacles[1]).draw\n",
    "\n",
    "# inters = intersection(robot.interval.gamma2.circle,obstacles[1].gamma2.circle)\n",
    "# for inter in inters:\n",
    "#     print(robot.interval.gamma2.encloses(inter))\n",
    "#     print(obstacles[1].gamma2.encloses(inter))\n",
    "log = []\n",
    "for i in range(3):\n",
    "\n",
    "    \n",
    "    pose = robot.next_bot(0,0,ax)\n",
    "    \n",
    "    print(\"run:\",i)\n",
    "    log.append(f'run {i} :'+repr(pose))\n",
    "    pose.plot(ax)\n",
    "    pose.plot_interval(ax)\n",
    "    robot = pose\n",
    "    \n",
    "    \n",
    "#     for I in pose.Is:\n",
    "#         I.draw(ax,'green')\n",
    "    \n",
    "\n",
    "# robot.collision_detection()\n",
    "\n",
    "\n",
    "# pose1 = pose.next_bot()\n",
    "# pose1.plot(ax)\n",
    "# pose1.plot_interval(ax)\n",
    "# pose1 = pose1.next_bot()\n",
    "# pose1.plot(ax)\n",
    "# pose1.plot_interval(ax)\n",
    "\n",
    "# i = 0\n",
    "# traj = []\n",
    "# for pose in robot:\n",
    "#     i+=1\n",
    "#     for obstacle in obstacles:\n",
    "#         obstacle.draw(ax,'red')\n",
    "#     traj.append((pose.x_bot,pose.y_bot))    \n",
    "#     pose.plot(ax)\n",
    "#     pose.plot_interval(ax)\n",
    "#     del pose\n",
    "#     if i == 4:\n",
    "#         break\n",
    "\n",
    "# path = np.array(traj).T    \n",
    "# ax.plot(path[0],path[1],'y-')\n",
    "\n",
    "        "
   ]
  },
  {
   "cell_type": "code",
   "execution_count": 25,
   "metadata": {},
   "outputs": [
    {
     "data": {
      "text/plain": [
       "['run 0 :Robot at 875.528280271123,666.3436419610946,4.083702142702977',\n",
       " 'run 1 :Robot at 903.8944988174457,570.4512144947807,5.0',\n",
       " 'run 2 :Robot at 845.0861809162436,489.57116908411615,4.083702142702977',\n",
       " 'run 3 :Robot at 873.4523994625663,393.6787416178023,5.0',\n",
       " 'run 4 :Robot at 901.818618008889,297.78631415148845,5.0',\n",
       " 'run 5 :Robot at 843.0103001076869,216.9062687408239,4.083702142702977',\n",
       " 'run 6 :Robot at 871.3765186540096,121.01384127451004,5.0',\n",
       " 'run 7 :Robot at 928.2657448644608,99.15206983924787,5.916297857297023',\n",
       " 'run 8 :Robot at 1013.5489995023959,151.3705194366949,6.832595714594046',\n",
       " 'run 9 :Robot at 1024.0384740533357,250.81885237217043,7.7488935718910685']"
      ]
     },
     "execution_count": 25,
     "metadata": {},
     "output_type": "execute_result"
    }
   ],
   "source": [
    "log\n"
   ]
  },
  {
   "cell_type": "code",
   "execution_count": 5,
   "metadata": {
    "scrolled": false
   },
   "outputs": [
    {
     "name": "stdout",
     "output_type": "stream",
     "text": [
      "{Interval(5.651830281584495,145.6518302815845,0.6331125501174292,6.916297857297023,(894.9865438991565, 212.94082323800623)), Interval(5.651830281584495,145.6518302815845,-0.9230938962243309,4.916297857297023,(894.9865438991565, 212.94082323800623)), Interval(5.651830281584495,108.53787098884126,-0.9230938962243309,0.6331125501174292,(894.9865438991565, 212.94082323800623))}\n",
      "run: 0\n",
      "Interval(5.651830281584495,145.6518302815845,5.832595714594046,7.832595714594046,(966.0872544118359, 223.30996406342626))\n"
     ]
    },
    {
     "data": {
      "image/png": "[encoded data removed]",
      "text/plain": [
       "<matplotlib.figure.Figure at 0x7fd151fcd8d0>"
      ]
     },
     "metadata": {
      "needs_background": "light"
     },
     "output_type": "display_data"
    }
   ],
   "source": [
    "\n",
    "#robot = Robot(680,600,0,80,0,1,0)\n",
    "#robot = Robot(800,800,0.5,100,0,1,0)\n",
    "#robot = Robot(379.4084003997459, 907.8212642902986, 0.1308996938995747,80,0,1,0)\n",
    "#robot = Robot(600,900,3.14,80,0,1,0)\n",
    "robot = Robot(928.2657448644608,200.15206983924787,5.916297857297023,80,0,1,0)\n",
    "#robot = Robot(800,770,4.5,80,0,1,0)\n",
    "#robot = Robot(400,400,0,100,0,1,0)\n",
    "robot.set_environment(obstacles)\n",
    "\n",
    "\n",
    "fig,ax = plt.subplots(figsize=(8,8))\n",
    "ax. set_aspect('equal')\n",
    "ax.set_xlim([0, 1024])\n",
    "ax.set_ylim([0, 1024])\n",
    "ax.imshow(arena,cmap = plt.cm.gray_r,origin = 'lower')\n",
    "for obstacle in obstacles:\n",
    "#     obsa = obstacle\n",
    "#     I = robot.interval\n",
    "#     I.interval_analysis(obsa,5,5).draw(ax,\"magenta\")\n",
    "    obstacle.draw(ax,'red')\n",
    "#     del obsa\n",
    "#     del I\n",
    "robot.plot(ax)\n",
    "robot.plot_interval(ax)\n",
    "\n",
    "# print(robot.interval.gamma2.encloses(Point(obstacles[1].origin)))\n",
    "# print(\"\\n\",obstacles[1].gamma2.encloses(Point(robot.interval.gamma2.origin)))\n",
    "#robot.interval.fast_analysis(obstacles[1]).draw\n",
    "\n",
    "# inters = intersection(robot.interval.gamma2.circle,obstacles[1].gamma2.circle)\n",
    "# for inter in inters:\n",
    "#     print(robot.interval.gamma2.encloses(inter))\n",
    "#     print(obstacles[1].gamma2.encloses(inter))\n",
    "#log = []\n",
    "for i in range(1):\n",
    "\n",
    "    \n",
    "    pose = robot.next_bot(ax)\n",
    "    \n",
    "    print(\"run:\",i)\n",
    "    #log.append(f'run {i} :'+repr(pose.interval))\n",
    "    #pose.plot(ax)\n",
    "    pose.plot_interval(ax)\n",
    "    print(pose.interval)\n",
    "    #robot = pose\n",
    "    \n",
    "    \n",
    "#     for I in pose.Is:\n",
    "#         I.draw(ax,'green')\n",
    "    \n",
    "\n",
    "# robot.collision_detection()\n",
    "\n",
    "\n",
    "# pose1 = pose.next_bot()\n",
    "# pose1.plot(ax)\n",
    "# pose1.plot_interval(ax)\n",
    "# pose1 = pose1.next_bot()\n",
    "# pose1.plot(ax)\n",
    "# pose1.plot_interval(ax)\n",
    "\n",
    "# i = 0\n",
    "# traj = []\n",
    "# for pose in robot:\n",
    "#     i+=1\n",
    "#     for obstacle in obstacles:\n",
    "#         obstacle.draw(ax,'red')\n",
    "#     traj.append((pose.x_bot,pose.y_bot))    \n",
    "#     pose.plot(ax)\n",
    "#     pose.plot_interval(ax)\n",
    "#     del pose\n",
    "#     if i == 4:\n",
    "#         break\n",
    "\n",
    "# path = np.array(traj).T    \n",
    "# ax.plot(path[0],path[1],'y-')\n",
    "\n",
    "        ######################################################   patch up"
   ]
  },
  {
   "cell_type": "code",
   "execution_count": null,
   "metadata": {},
   "outputs": [],
   "source": []
  },
  {
   "cell_type": "code",
   "execution_count": 23,
   "metadata": {},
   "outputs": [
    {
     "name": "stdout",
     "output_type": "stream",
     "text": [
      "['run 0 :Interval(5.651830281584495,165.6518302815845,3.083702142702977,5.083702142702977,(896.4945584806408, 695.1789087090278))', 'run 1 :Interval(5.651830281584495,165.6518302815845,4.0,6.0,(893.7814051086044, 604.6386795370966))', 'run 2 :Interval(5.651830281584495,165.6518302815845,3.083702142702977,5.083702142702977,(866.0524591257614, 518.4064358320495))', 'run 3 :Interval(5.651830281584495,165.6518302815845,4.0,6.0,(863.3393057537251, 427.86620666011805))', 'run 4 :Interval(5.651830281584495,165.6518302815845,4.0,6.0,(891.7055243000477, 331.9737791938042))', 'run 5 :Interval(5.651830281584495,165.6518302815845,3.083702142702977,5.083702142702977,(863.9765783172047, 245.7415354887572))', 'run 6 :Interval(5.651830281584495,165.6518302815845,4.0,6.0,(861.2634249451684, 155.2013063168258))', 'run 7 :Interval(5.651830281584495,165.6518302815845,4.0,6.0,(889.629643491491, 59.30887885051195))', 'run 8 :Interval(5.651830281584495,165.6518302815845,4.916297857297023,6.916297857297023,(866.463536235028, 37.910167206954554))', 'run 9 :Interval(5.651830281584495,165.6518302815845,5.832595714594046,7.832595714594046,(954.6208976752945, 58.722997951864016))']\n"
     ]
    }
   ],
   "source": [
    "print(log)"
   ]
  },
  {
   "cell_type": "code",
   "execution_count": 21,
   "metadata": {},
   "outputs": [
    {
     "data": {
      "text/plain": [
       "'aaInterval(5.651830281584495,165.6518302815845,4.0,6.0,(893.7814051086044, 604.6386795370966))'"
      ]
     },
     "execution_count": 21,
     "metadata": {},
     "output_type": "execute_result"
    }
   ],
   "source": [
    "'aa' + repr(pose.interval)"
   ]
  },
  {
   "cell_type": "code",
   "execution_count": 7,
   "metadata": {},
   "outputs": [
    {
     "name": "stdout",
     "output_type": "stream",
     "text": [
      "379.4084003997459 907.8212642902986 0.1308996938995747\n"
     ]
    }
   ],
   "source": [
    "print(pose.x_bot,pose.y_bot,pose.yaw)"
   ]
  },
  {
   "cell_type": "code",
   "execution_count": 8,
   "metadata": {},
   "outputs": [
    {
     "data": {
      "text/plain": [
       "4.283185307179586"
      ]
     },
     "execution_count": 8,
     "metadata": {},
     "output_type": "execute_result"
    }
   ],
   "source": [
    "robot.interval.theta1 - robot.interval.theta2"
   ]
  },
  {
   "cell_type": "code",
   "execution_count": 11,
   "metadata": {},
   "outputs": [
    {
     "data": {
      "text/plain": [
       "[<matplotlib.lines.Line2D at 0x7efcdccfc240>]"
      ]
     },
     "execution_count": 11,
     "metadata": {},
     "output_type": "execute_result"
    },
    {
     "data": {
      "image/png": "[encoded data removed]",
      "text/plain": [
       "<matplotlib.figure.Figure at 0x7efcdce00f28>"
      ]
     },
     "metadata": {
      "needs_background": "light"
     },
     "output_type": "display_data"
    }
   ],
   "source": [
    "robot = Robot(200,600,0.5,100,0,1,0)\n",
    "\n",
    "#robot.set_environment(obstacles)\n",
    "\n",
    "\n",
    "fig,ax = plt.subplots(figsize=(8,8))\n",
    "ax. set_aspect('equal')\n",
    "ax.set_xlim([0, 1024])\n",
    "ax.set_ylim([0, 1024])\n",
    "ax.imshow(arena,cmap = plt.cm.gray_r,origin = 'lower')\n",
    "traj = []\n",
    "robot.plot(ax)\n",
    "#robot.plot_interval(ax)\n",
    "\n",
    "#log = []\n",
    "for i in range(5):\n",
    "\n",
    "    \n",
    "    pose = robot.next_pose(50,-1)\n",
    "    \n",
    "    #print(\"run:\",i)\n",
    "    #log.append(f'run {i} :'+repr(pose))\n",
    "    traj.append((pose.x_bot,pose.y_bot))\n",
    "    pose.plot(ax)\n",
    "\n",
    "    robot = pose\n",
    "path = np.array(traj).T    \n",
    "ax.plot(path[0],path[1],'y-')    "
   ]
  },
  {
   "cell_type": "code",
   "execution_count": 12,
   "metadata": {},
   "outputs": [],
   "source": [
    "class PurePursuitTracker:\n",
    "  \n",
    "    def __init__(self, x, y, v, lookahead = 3.0):\n",
    "        \"\"\"\n",
    "        Tracks the path defined by x, y at velocity v\n",
    "        x and y must be numpy arrays\n",
    "        v and lookahead are floats\n",
    "        \"\"\"\n",
    "        self.length = len(x)\n",
    "        self.ref_idx = 0 \n",
    "        self.lookahead = lookahead\n",
    "        self.x, self.y = x, y\n",
    "        self.v, self.w = v, 0\n",
    "        self.goal_threshold = 30\n",
    "\n",
    "    def update(self, xc, yc, theta):\n",
    "        \"\"\"\n",
    "        Input: xc, yc, theta - current pose of the robot\n",
    "        Update v, w based on current pose\n",
    "        Returns True if trajectory is over.\n",
    "        \"\"\"\n",
    "        if self.ref_idx >= self.length:\n",
    "            ref_x,ref_y = self.x[-1],self.y[-1]\n",
    "        else:  \n",
    "            ref_x,ref_y = self.x[self.ref_idx],self.y[self.ref_idx]\n",
    "        \n",
    "        if self.ref_idx > self.length and np.sqrt((ref_x-self.x[-1])**2+ (ref_y-self.y[-1])**2) < self.goal_threshold: \n",
    "            return True           \n",
    "        \n",
    "        if np.sqrt((ref_x-xc)**2+ (ref_y-yc)**2) < self.lookahead:\n",
    "            self.ref_idx += 1 \n",
    "        \n",
    "        anchor = np.asarray([ref_x - xc, ref_y - yc])\n",
    "\n",
    "        theta = np.pi/2 - theta\n",
    "        rot = np.asarray([[np.cos(theta), -np.sin(theta)], [np.sin(theta), np.cos(theta)]])\n",
    "        anchor = np.dot(rot, anchor)\n",
    "        \n",
    "        L = np.sqrt(anchor[0] ** 2 + anchor[1] **2) # dist to reference path\n",
    "        \n",
    "        X = anchor[0] \n",
    "        \n",
    "        self.w = -2*self.v*X/L/L\n",
    "\n",
    "        return False\n"
   ]
  },
  {
   "cell_type": "code",
   "execution_count": 76,
   "metadata": {},
   "outputs": [
    {
     "name": "stdout",
     "output_type": "stream",
     "text": [
      "ARRIVED!!\n"
     ]
    },
    {
     "data": {
      "text/plain": [
       "[<matplotlib.lines.Line2D at 0x7efcc8d88048>]"
      ]
     },
     "execution_count": 76,
     "metadata": {},
     "output_type": "execute_result"
    },
    {
     "data": {
      "image/png": "[encoded data removed]",
      "text/plain": [
       "<matplotlib.figure.Figure at 0x7efcc88d8da0>"
      ]
     },
     "metadata": {
      "needs_background": "light"
     },
     "output_type": "display_data"
    }
   ],
   "source": [
    "robot = Robot(200,800,-0.78,13,0,0,0)\n",
    "\n",
    "#robot.set_environment(obstacles)\n",
    "\n",
    "\n",
    "fig,ax = plt.subplots(figsize=(8,8))\n",
    "ax. set_aspect('equal')\n",
    "ax.set_xlim([0, 1024])\n",
    "ax.set_ylim([0, 1024])\n",
    "ax.imshow(arena,cmap = plt.cm.gray_r,origin = 'lower')\n",
    "traj = []\n",
    "path = np.array([[200,800-i*12,np.pi/2] for i in range(55)])\n",
    "x,y,t = path.T\n",
    "tracker = PurePursuitTracker(x,y,10,lookahead=80.0) \n",
    "pose = [200, 200, np.pi/2] #arbitrary initial pose\n",
    "#robot.plot(ax)\n",
    "i = 0\n",
    "while True:\n",
    "    #print(\"v = \",tracker.v,\" w = \",tracker.w)\n",
    "    next_bot = robot.next_pose(tracker.v,tracker.w)\n",
    "    pose = [next_bot.x_bot,next_bot.y_bot,next_bot.yaw]\n",
    "    #next_bot.plot(ax)\n",
    "    if tracker.update(*pose):\n",
    "        print(\"ARRIVED!!\")    \n",
    "        break\n",
    "    traj.append([*pose, tracker.w, tracker.ref_idx]) \n",
    "    robot = next_bot\n",
    "    i+=1\n",
    "    if i == 100:\n",
    "        break\n",
    "traced = np.array(traj).T    \n",
    "ax.plot(traced[0],traced[1],'b-') \n",
    "path = np.array(path).T    \n",
    "ax.plot(path[0],path[1],'y-')  "
   ]
  },
  {
   "cell_type": "code",
   "execution_count": 7,
   "metadata": {},
   "outputs": [
    {
     "data": {
      "text/plain": [
       "<matplotlib.collections.PathCollection at 0x7f471a25d588>"
      ]
     },
     "execution_count": 7,
     "metadata": {},
     "output_type": "execute_result"
    },
    {
     "data": {
      "image/png": "[encoded data removed]",
      "text/plain": [
       "<matplotlib.figure.Figure at 0x7f471a5ebb70>"
      ]
     },
     "metadata": {
      "needs_background": "light"
     },
     "output_type": "display_data"
    }
   ],
   "source": [
    "A = (200,800)\n",
    "B = (200,100)\n",
    "C = (660,200)\n",
    "D = (800,600)\n",
    "E = (400,1000)\n",
    "fig,ax = plt.subplots(figsize=(8,8))\n",
    "ax. set_aspect('equal')\n",
    "ax.set_xlim([0, 1024])\n",
    "ax.set_ylim([0, 1024])\n",
    "ax.imshow(arena,cmap = plt.cm.gray_r,origin = 'lower')\n",
    "ax.scatter(*A,marker='.',color = 'red',s=50)\n",
    "ax.scatter(*B,marker='.',color = 'red',s=50)\n",
    "ax.scatter(*C,marker='.',color = 'red',s=50)\n",
    "ax.scatter(*D,marker='.',color = 'red',s=50)\n",
    "ax.scatter(*E,marker='.',color = 'red',s=50)\n",
    " "
   ]
  },
  {
   "cell_type": "code",
   "execution_count": 94,
   "metadata": {},
   "outputs": [],
   "source": [
    "\n",
    "def get_line(start, end):\n",
    "    # Setup initial conditions\n",
    "    x1, y1 = start\n",
    "    x2, y2 = end\n",
    "    dx = x2 - x1\n",
    "    dy = y2 - y1\n",
    "    \n",
    "    # Determine how steep the line is\n",
    "    is_steep = abs(dy) > abs(dx)\n",
    "    # Rotate line\n",
    "    if is_steep:\n",
    "        x1, y1 = y1, x1\n",
    "        x2, y2 = y2, x2\n",
    "    # Swap start and end points if necessary and store swap state\n",
    "    swapped = False\n",
    "    if x1 > x2:\n",
    "        x1, x2 = x2, x1\n",
    "        y1, y2 = y2, y1\n",
    "        swapped = True\n",
    "    # Recalculate differentials\n",
    "    dx = x2 - x1\n",
    "    dy = y2 - y1\n",
    "    # Calculate error\n",
    "    error = int(dx / 2.0)\n",
    "    ystep = 1 if y1 < y2 else -1\n",
    "    # Iterate over bounding box generating points between start and end\n",
    "    y = y1\n",
    "    points = []\n",
    "    for x in range(x1, x2 + 1):\n",
    "        coord = (y, x) if is_steep else (x, y)\n",
    "        points.append(coord)\n",
    "        error -= abs(dy)\n",
    "        if error < 0:\n",
    "            y += ystep\n",
    "            error += dx\n",
    "    # Reverse the list if the coordinates were swapped\n",
    "    if swapped:\n",
    "        points.reverse()\n",
    "    pts = []    \n",
    "    for i in range(len(points)):\n",
    "        if not i%50:\n",
    "            pts.append(points[i])\n",
    "            \n",
    "    slop = Segment(start,end).slope\n",
    "    if slop is Segment((0,0),(0,1)).slope:\n",
    "        s = np.arctan(float(slop)*(end[1]-start[1]))\n",
    "    else:\n",
    "        s = np.arctan(float(slop))\n",
    "    thetas = s*np.ones((len(pts),1)) \n",
    "    poses = np.append(np.array(pts),thetas,axis=1)\n",
    "    \n",
    "    return poses"
   ]
  },
  {
   "cell_type": "code",
   "execution_count": 95,
   "metadata": {},
   "outputs": [
    {
     "data": {
      "text/plain": [
       "15"
      ]
     },
     "execution_count": 95,
     "metadata": {},
     "output_type": "execute_result"
    }
   ],
   "source": [
    "BA = get_line(B,A)\n",
    "len(BA)"
   ]
  },
  {
   "cell_type": "code",
   "execution_count": 96,
   "metadata": {},
   "outputs": [],
   "source": [
    "AB = get_line(A,B)\n",
    "BC = get_line(B,C)\n",
    "\n",
    "CD = get_line(C,D)\n",
    "DE = get_line(D,E)"
   ]
  },
  {
   "cell_type": "code",
   "execution_count": 59,
   "metadata": {},
   "outputs": [
    {
     "data": {
      "text/plain": [
       "[<matplotlib.lines.Line2D at 0x7f4d443c8a58>]"
      ]
     },
     "execution_count": 59,
     "metadata": {},
     "output_type": "execute_result"
    },
    {
     "data": {
      "image/png": "[encoded data removed]",
      "text/plain": [
       "<matplotlib.figure.Figure at 0x7f4d6473d160>"
      ]
     },
     "metadata": {
      "needs_background": "light"
     },
     "output_type": "display_data"
    }
   ],
   "source": [
    "fig,ax = plt.subplots(figsize=(8,8))\n",
    "ax. set_aspect('equal')\n",
    "ax.set_xlim([0, 1024])\n",
    "ax.set_ylim([0, 1024])\n",
    "ax.imshow(arena,cmap = plt.cm.gray_r,origin = 'lower')\n",
    "ax.scatter(*A,marker='.',color = 'red',s=50)\n",
    "ax.scatter(*B,marker='.',color = 'red',s=50)\n",
    "ax.scatter(*C,marker='.',color = 'red',s=50)\n",
    "ax.scatter(*D,marker='.',color = 'red',s=50)\n",
    "ax.scatter(*E,marker='.',color = 'red',s=50)\n",
    "\n",
    "ax.plot(AB.T[0],AB.T[1],'y-') \n",
    "ax.plot(BC.T[0],BC.T[1],'y-') \n",
    "ax.plot(CD.T[0],CD.T[1],'y-') \n",
    "ax.plot(DE.T[0],DE.T[1],'y-') "
   ]
  },
  {
   "cell_type": "code",
   "execution_count": 24,
   "metadata": {},
   "outputs": [],
   "source": [
    "AA = (200,600)\n",
    "BB = (200,300)\n",
    "AABB = get_line(AA,BB)"
   ]
  },
  {
   "cell_type": "code",
   "execution_count": 101,
   "metadata": {},
   "outputs": [
    {
     "name": "stdout",
     "output_type": "stream",
     "text": [
      "no collision\n",
      "run :  1\n",
      "no collision\n",
      "run :  2\n",
      "no collision\n",
      "run :  3\n",
      "no collision\n",
      "run :  4\n",
      "no collision\n",
      "run :  5\n",
      "no collision\n",
      "run :  6\n",
      "no collision\n",
      "run :  7\n",
      "no collision\n",
      "run :  8\n",
      "no collision\n",
      "run :  9\n",
      "no collision\n",
      "run :  10\n",
      "no collision\n",
      "run :  11\n",
      "[1.09779654 1.38923364 1.7149402  2.07491622 2.46916169 2.89767663\n",
      " 3.36046103 3.85751488 1.09779654 0.84062891 0.61773073 0.42910201\n",
      " 0.27474275 0.15465295 0.06883261 0.01728173]\n",
      "run :  12\n",
      "[3.11283085e-01 4.74482890e-01 6.71952155e-01 9.03690880e-01\n",
      " 1.16969906e+00 1.46997671e+00 1.80452381e+00 2.17334038e+00\n",
      " 3.11283085e-01 1.82352739e-01 8.76918532e-02 2.73004271e-02\n",
      " 1.17846067e-03 9.32595398e-03 5.17429070e-02 1.28429320e-01]\n",
      "run :  13\n",
      "[2.95649673e-01 4.55134356e-01 6.48888499e-01 8.76912101e-01\n",
      " 1.13920516e+00 1.43576769e+00 1.76659967e+00 2.13170111e+00\n",
      " 2.95649673e-01 1.70434450e-01 7.94886866e-02 2.28123828e-02\n",
      " 4.05538752e-04 1.22681544e-02 5.84002299e-02 1.38801765e-01]\n",
      "run :  14\n",
      "no collision\n",
      "run :  15\n",
      "no collision\n",
      "run :  16\n",
      "no collision\n",
      "run :  17\n",
      "no collision\n",
      "run :  18\n",
      "no collision\n",
      "run :  19\n",
      "no collision\n",
      "run :  20\n",
      "no collision\n",
      "run :  21\n",
      "no collision\n",
      "run :  22\n",
      "no collision\n",
      "run :  23\n",
      "no collision\n",
      "run :  24\n",
      "no collision\n",
      "run :  25\n",
      "no collision\n",
      "run :  26\n",
      "no collision\n",
      "run :  27\n",
      "no collision\n",
      "run :  28\n",
      "[5.86527322e-01 8.04161301e-01 1.05606474e+00 1.34223764e+00\n",
      " 1.66268000e+00 2.01739181e+00 2.40637309e+00 2.82962383e+00\n",
      " 5.86527322e-01 4.03162803e-01 2.54067743e-01 1.39242144e-01\n",
      " 5.86860036e-02 1.23993232e-02 3.82102624e-04 2.26343417e-02]\n",
      "run :  29\n",
      "[4.42256880e-01 6.33494479e-01 8.59001536e-01 1.11877805e+00\n",
      " 1.41282403e+00 1.74113947e+00 2.10372436e+00 2.50057872e+00\n",
      " 4.42256880e-01 2.85288742e-01 1.62590064e-01 7.41608447e-02\n",
      " 2.00010856e-02 1.10786158e-04 1.44899465e-02 6.31385665e-02]\n",
      "run :  30\n",
      "no collision\n",
      "run :  31\n",
      "no collision\n",
      "run :  32\n",
      "no collision\n",
      "run :  33\n",
      "no collision\n",
      "run :  34\n",
      "no collision\n",
      "run :  35\n",
      "no collision\n",
      "run :  36\n",
      "no collision\n",
      "run :  37\n",
      "no collision\n",
      "run :  38\n",
      "no collision\n",
      "run :  39\n",
      "no collision\n",
      "run :  40\n",
      "no collision\n",
      "run :  41\n",
      "[0.71052746 0.9483402  1.2204224  1.52677406 1.86739518 2.24228576\n",
      " 2.6514458  3.0948753  0.71052746 0.50698418 0.33771036 0.202706\n",
      " 0.1019711  0.03550565 0.00330967 0.00538315]\n",
      "run :  42\n",
      "[8.08773189e-01 1.06134887e+00 1.34819401e+00 1.66930860e+00\n",
      " 2.02469266e+00 2.41434618e+00 2.83826916e+00 3.29646160e+00\n",
      " 8.08773189e-01 5.90466970e-01 4.06430211e-01 2.56662911e-01\n",
      " 1.41165071e-01 5.99366907e-02 1.29777702e-02 2.88309438e-04]\n",
      "run :  43\n",
      "[1.1335247  1.42938969 1.75952414 2.12392805 2.52260142 2.95554425\n",
      " 3.42275654 3.92423829 1.1335247  0.87192917 0.6446031  0.45154649\n",
      " 0.29275934 0.16824164 0.07799341 0.02201464]\n",
      "run :  44\n",
      "[1.42685589 1.7567128  2.12083917 2.519235   2.95190029 3.41883504\n",
      " 3.92003924 4.45551291 1.42685589 1.13126845 0.86995046 0.64290193\n",
      " 0.45012286 0.29161325 0.1673731  0.07740241]\n",
      "run :  45\n",
      "no collision\n",
      "run :  46\n",
      "no collision\n",
      "run :  47\n",
      "no collision\n",
      "run :  48\n",
      "no collision\n",
      "run :  49\n",
      "no collision\n",
      "run :  50\n",
      "no collision\n",
      "run :  51\n",
      "no collision\n",
      "run :  52\n",
      "no collision\n",
      "run :  53\n",
      "no collision\n",
      "run :  54\n",
      "[1.5178473  1.85752135 2.23146486 2.63967783 3.08216026 3.55891215\n",
      " 4.0699335  4.6152243  1.5178473  1.2124427  0.94130757 0.7044419\n",
      " 0.50184569 0.33351894 0.19946165 0.09967381]\n",
      "run :  55\n",
      "[6.14911725e-01 8.37339867e-01 1.09403747e+00 1.38500453e+00\n",
      " 1.71024105e+00 2.06974703e+00 2.46352247e+00 2.89156737e+00\n",
      " 6.14911725e-01 4.26753042e-01 2.72863819e-01 1.53244056e-01\n",
      " 6.78937529e-02 1.68129093e-02 1.52544916e-06 1.74596013e-02]\n",
      "run :  56\n",
      "[2.86599924e-01 4.43889029e-01 6.35447595e-01 8.61275620e-01\n",
      " 1.12137311e+00 1.41574005e+00 1.74437645e+00 2.10728232e+00\n",
      " 2.86599924e-01 1.63580278e-01 7.48300913e-02 2.03493648e-02\n",
      " 1.38097887e-04 1.41962907e-02 6.25239433e-02 1.45121056e-01]\n",
      "run :  57\n",
      "no collision\n",
      "run :  58\n",
      "no collision\n",
      "run :  59\n",
      "no collision\n",
      "run :  60\n",
      "no collision\n",
      "run :  61\n",
      "[4.75789615e-01 6.73507029e-01 9.05493904e-01 1.17175024e+00\n",
      " 1.47227603e+00 1.80707129e+00 2.17613600e+00 2.57947017e+00\n",
      " 4.75789615e-01 3.12341660e-01 1.83163164e-01 8.82541288e-02\n",
      " 2.76145530e-02 1.24443688e-03 9.14378050e-03 5.13125839e-02]\n",
      "run :  62\n",
      "no collision\n",
      "run :  63\n",
      "[0.716946   0.95575325 1.22882995 1.53617612 1.87779174 2.25367683\n",
      " 2.66383137 3.10825537 0.716946   0.51240821 0.34213989 0.20614102\n",
      " 0.10441162 0.03695167 0.00376118 0.00484015]\n",
      "run :  64\n",
      "[1.10197733 1.39393625 1.72016463 2.08066247 2.47542977 2.90446652\n",
      " 3.36777274 3.86534842 1.10197733 0.84428787 0.62086787 0.43171733\n",
      " 0.27683625 0.15622463 0.06988246 0.01780976]\n",
      "run :  65\n",
      "[1.48635403 1.82266442 2.19324426 2.59809357 3.03721234 3.51060056\n",
      " 4.01825824 4.56018539 1.48635403 1.18431311 0.91654164 0.68303963\n",
      " 0.48380709 0.318844   0.18815037 0.0917262 ]\n",
      "run :  66\n",
      "[1.64438436 1.99723374 2.38435258 2.80574088 3.26139864 3.75132586\n",
      " 4.27552254 4.83398868 1.64438436 1.32580444 1.04149398 0.79145297\n",
      " 0.57568143 0.39417935 0.24694673 0.13398356]\n",
      "run :  67\n",
      "no collision\n",
      "run :  68\n",
      "no collision\n",
      "run :  69\n",
      "no collision\n",
      "run :  70\n",
      "[1.44026391 1.77158669 2.13717893 2.53704064 2.9711718  3.43957242\n",
      " 3.9422425  4.47918204 1.44026391 1.14321059 0.88042673 0.65191232\n",
      " 0.45766738 0.2976919  0.17198587 0.08054931]\n",
      "run :  71\n",
      "[5.72507918e-01 7.87731199e-01 1.03722394e+00 1.32098614e+00\n",
      " 1.63901780e+00 1.99131892e+00 2.37788950e+00 2.79872954e+00\n",
      " 5.72507918e-01 3.91554096e-01 2.44869735e-01 1.32454833e-01\n",
      " 5.43093913e-02 1.04334090e-02 8.26886472e-04 2.54898236e-02]\n",
      "run :  72\n",
      "[3.19828216e-01 4.85019288e-01 6.84479819e-01 9.18209810e-01\n",
      " 1.18620926e+00 1.48847817e+00 1.82501654e+00 2.19582437e+00\n",
      " 3.19828216e-01 1.88906604e-01 9.22544520e-02 2.98717595e-02\n",
      " 1.75852678e-03 7.91475377e-03 4.83404405e-02 1.23035587e-01]\n",
      "run :  73\n",
      "no collision\n",
      "run :  74\n",
      "no collision\n",
      "run :  75\n",
      "[5.62824125e-01 7.76364958e-01 1.02417525e+00 1.30625500e+00\n",
      " 1.62260422e+00 1.97322289e+00 2.35811102e+00 2.77726861e+00\n",
      " 5.62824125e-01 3.83552752e-01 2.38550838e-01 1.27818384e-01\n",
      " 5.13553902e-02 9.16185568e-03 1.23778093e-03 2.75831659e-02]\n",
      "run :  76\n",
      "[0.97037192 1.24539857 1.55469468 1.89826025 2.27609528 2.68819977\n",
      " 3.13457372 3.61521712 0.97037192 0.72961473 0.523127   0.35090872\n",
      " 0.21295991 0.10928056 0.03987067 0.00473024]\n",
      "run :  77\n",
      "[1.44218302 1.77371505 2.13951655 2.5395875  2.97392792 3.44253779\n",
      " 3.94541713 4.48256592 1.44218302 1.14492044 0.88192733 0.65320367\n",
      " 0.45874947 0.29856474 0.17264946 0.08100364]\n",
      "run :  78\n",
      "[1.70313167 2.0619253  2.45498839 2.88232093 3.34392294 3.83979441\n",
      " 4.36993534 4.93434573 1.70313167 1.3786075  1.08835278 0.83236753\n",
      " 0.61065174 0.42320541 0.27002854 0.15112113]\n",
      "run :  79\n",
      "[1.62643275 1.97744462 2.36272594 2.78227673 3.23609698 3.72418668\n",
      " 4.24654585 4.80317448 1.62643275 1.30969034 1.02721739 0.7790139\n",
      " 0.56507987 0.38541531 0.2400202  0.12889455]\n",
      "run :  80\n",
      "no collision\n",
      "run :  81\n",
      "no collision\n",
      "run :  82\n",
      "[1.10361156 1.39577419 1.72220628 2.08290782 2.47787883 2.90711929\n",
      " 3.37062922 3.8684086  1.10361156 0.8457184  0.62209469 0.43274044\n",
      " 0.27765565 0.15684033 0.07029446 0.01801805]\n",
      "run :  83\n",
      "[2.76508689e-01 4.31308254e-01 6.20377278e-01 8.43715763e-01\n",
      " 1.10132371e+00 1.39320111e+00 1.71934797e+00 2.07976430e+00\n",
      " 2.76508689e-01 1.55978584e-01 6.97179388e-02 1.77267532e-02\n",
      " 5.02727985e-06 1.65527611e-02 6.73699547e-02 1.52456608e-01]\n",
      "run :  84\n",
      "[2.95053022e-01 4.54393994e-01 6.48004425e-01 8.75884317e-01\n",
      " 1.13803367e+00 1.43445248e+00 1.76514075e+00 2.13009848e+00\n",
      " 2.95053022e-01 1.69981509e-01 7.91794569e-02 2.26468642e-02\n",
      " 3.83731160e-04 1.23900579e-02 5.86658443e-02 1.39211090e-01]\n",
      "run :  85\n",
      "no collision\n",
      "run :  86\n",
      "no collision\n",
      "run :  87\n",
      "no collision\n",
      "run :  88\n",
      "no collision\n",
      "run :  89\n",
      "no collision\n",
      "run :  90\n",
      "no collision\n",
      "run :  91\n",
      "no collision\n",
      "run :  92\n",
      "no collision\n",
      "run :  93\n",
      "no collision\n",
      "run :  94\n",
      "no collision\n",
      "run :  95\n",
      "no collision\n",
      "run :  96\n",
      "no collision\n",
      "run :  97\n",
      "no collision\n",
      "run :  98\n",
      "no collision\n",
      "run :  99\n",
      "no collision\n",
      "run :  100\n",
      "no collision\n",
      "run :  101\n",
      "no collision\n",
      "run :  102\n",
      "[6.29356214e-01 8.54181566e-01 1.11327638e+00 1.40664065e+00\n",
      " 1.73427438e+00 2.09617757e+00 2.49235023e+00 2.92279234e+00\n",
      " 6.29356214e-01 4.38800321e-01 2.82513887e-01 1.60496914e-01\n",
      " 7.27493999e-02 1.92713458e-02 6.27514128e-05 1.51236168e-02]\n",
      "run :  103\n",
      "[0.3279206  0.49497305 0.69629496 0.93188634 1.20174717 1.50587746\n",
      " 1.84427721 2.21694642 0.3279206  0.19513761 0.09662407 0.03238\n",
      " 0.00240539 0.00670023 0.04526454 0.1180983 ]\n",
      "run :  104\n"
     ]
    },
    {
     "name": "stdout",
     "output_type": "stream",
     "text": [
      "no collision\n",
      "run :  105\n",
      "no collision\n",
      "run :  106\n",
      "no collision\n",
      "run :  107\n",
      "no collision\n",
      "run :  108\n",
      "no collision\n",
      "run :  109\n",
      "[4.95526252e-01 6.96951063e-01 9.32645334e-01 1.20260906e+00\n",
      " 1.50684225e+00 1.84534490e+00 2.21811701e+00 2.62515858e+00\n",
      " 4.95526252e-01 3.28370901e-01 1.95485010e-01 9.68685786e-02\n",
      " 3.25216068e-02 2.44409473e-03 6.63604237e-03 4.50974497e-02]\n",
      "run :  110\n",
      "no collision\n",
      "run :  111\n",
      "no collision\n",
      "run :  112\n",
      "no collision\n",
      "run :  113\n",
      "no collision\n",
      "run :  114\n",
      "no collision\n",
      "run :  115\n",
      "no collision\n",
      "run :  116\n",
      "no collision\n",
      "run :  117\n",
      "no collision\n",
      "run :  118\n",
      "no collision\n",
      "run :  119\n",
      "no collision\n",
      "run :  120\n",
      "no collision\n",
      "run :  121\n",
      "no collision\n",
      "run :  122\n",
      "no collision\n",
      "run :  123\n",
      "[6.24057605e-01 8.48006827e-01 1.10622551e+00 1.39871365e+00\n",
      " 1.72547125e+00 2.08649831e+00 2.48179483e+00 2.91136081e+00\n",
      " 6.24057605e-01 4.34377844e-01 2.78967542e-01 1.57826699e-01\n",
      " 7.09553166e-02 1.83533938e-02 2.09306623e-05 1.59579273e-02]\n",
      "run :  124\n",
      "no collision\n",
      "run :  125\n",
      "[4.63082763e-01 6.58372460e-01 8.87931616e-01 1.15176023e+00\n",
      " 1.44985831e+00 1.78222584e+00 2.14886284e+00 2.54976929e+00\n",
      " 4.63082763e-01 3.02062526e-01 1.75311749e-01 8.28304314e-02\n",
      " 2.46185736e-02 6.76175609e-04 1.10032373e-02 5.55997588e-02]\n",
      "run :  126\n",
      "no collision\n",
      "run :  127\n",
      "[6.64471483e-01 8.95012299e-01 1.15982257e+00 1.45890231e+00\n",
      " 1.79225150e+00 2.15987016e+00 2.56175827e+00 2.99791585e+00\n",
      " 6.64471483e-01 4.68200127e-01 3.06198231e-01 1.78465795e-01\n",
      " 8.50028177e-02 2.58093007e-02 8.85243346e-04 1.02306457e-02]\n",
      "run :  128\n",
      "[1.04787057 1.33299768 1.65239425 2.00606028 2.39399577 2.81620072\n",
      " 3.27267513 3.763419   1.04787057 0.79701292 0.58042473 0.39810599\n",
      " 0.25005672 0.13627691 0.05676656 0.01152566]\n",
      "run :  129\n",
      "[1.45777465 1.79100161 2.15849804 2.56026392 2.99629926 3.46660406\n",
      " 3.97117832 4.51002204 1.45777465 1.15881715 0.89412911 0.66371052\n",
      " 0.4675614  0.30568174 0.17807153 0.08473079]\n",
      "run :  130\n",
      "[1.65328011 2.00703634 2.39506202 2.81735717 3.27392178 3.76475584\n",
      " 4.28985937 4.84923235 1.65328011 1.33379334 1.04857604 0.79762819\n",
      " 0.5809498  0.39854087 0.2504014  0.13653139]\n",
      "run :  131\n",
      "no collision\n",
      "run :  132\n",
      "no collision\n",
      "run :  133\n",
      "no collision\n",
      "run :  134\n",
      "[1.49850786 1.83612053 2.20800266 2.61415425 3.0545753  3.52926581\n",
      " 4.03822578 4.5814552  1.49850786 1.19516465 0.9260909  0.69128661\n",
      " 0.49075178 0.32448641 0.1924905  0.09476405]\n",
      "run :  135\n",
      "[6.29316243e-01 8.54135001e-01 1.11322322e+00 1.40658089e+00\n",
      " 1.73420803e+00 2.09610463e+00 2.49227068e+00 2.92270620e+00\n",
      " 6.29316243e-01 4.38766946e-01 2.82487108e-01 1.60476729e-01\n",
      " 7.27358108e-02 1.92643520e-02 6.23529230e-05 1.51298136e-02]\n",
      "run :  136\n",
      "[3.08501637e-01 4.71047400e-01 6.67862624e-01 8.98947307e-01\n",
      " 1.16430145e+00 1.46392505e+00 1.79781812e+00 2.16598064e+00\n",
      " 3.08501637e-01 1.80225332e-01 8.62184880e-02 2.64811032e-02\n",
      " 1.01317823e-03 9.81471296e-03 5.28857074e-02 1.30226162e-01]\n",
      "run :  137\n",
      "no collision\n",
      "run :  138\n"
     ]
    },
    {
     "data": {
      "text/plain": [
       "[<matplotlib.lines.Line2D at 0x7f46cfb41940>]"
      ]
     },
     "execution_count": 101,
     "metadata": {},
     "output_type": "execute_result"
    },
    {
     "data": {
      "image/png": "[encoded data removed]",
      "text/plain": [
       "<matplotlib.figure.Figure at 0x7f46e8ddb128>"
      ]
     },
     "metadata": {
      "needs_background": "light"
     },
     "output_type": "display_data"
    }
   ],
   "source": [
    "full = np.concatenate((AB,BC,CD,DE),axis=0)\n",
    "robot = Robot(*A,4.7,20,0,1,0)\n",
    "\n",
    "robot.set_environment(obstacles)\n",
    "\n",
    "\n",
    "fig,ax = plt.subplots(figsize=(8,8))\n",
    "ax. set_aspect('equal')\n",
    "ax.set_xlim([0, 1024])\n",
    "ax.set_ylim([0, 1024])\n",
    "ax.imshow(arena,cmap = plt.cm.gray_r,origin = 'lower')\n",
    "traj = []\n",
    "path = full #PQ #np.array([[200,800-i*12,np.pi/2] for i in range(55)])\n",
    "x,y,t = path.T\n",
    "tracker = PurePursuitTracker(x,y,20,lookahead=50) \n",
    "pose = [robot.x_bot,robot.y_bot,robot.yaw] #arbitrary initial pose\n",
    "# robot.plot(ax)\n",
    "robot.plot_interval(ax)\n",
    "i = 0\n",
    "while True:\n",
    "    try:\n",
    "        #print(\"v = \",tracker.v,\" w = \",tracker.w)\n",
    "\n",
    "        nex_bot = robot.next_bot(tracker.v,tracker.w,ax)\n",
    "        #nex_bot = robot.next_pose(tracker.v,tracker.w)\n",
    "        pose = [nex_bot.x_bot,nex_bot.y_bot,nex_bot.yaw]\n",
    "        #nex_bot.plot(ax)\n",
    "        #nex_bot.plot_interval(ax)\n",
    "        if tracker.update(*pose): \n",
    "            print(\"ARRIVED!!\")    \n",
    "            break\n",
    "        traj.append([*pose, tracker.w, tracker.ref_idx]) \n",
    "        robot = nex_bot\n",
    "        i+=1\n",
    "        print(\"run : \",i)\n",
    "        if i == 150:\n",
    "            break\n",
    "    except KeyboardInterrupt:\n",
    "        break\n",
    "plt.annotate(\"A\",A)\n",
    "plt.annotate(\"B\",B)        \n",
    "traced = np.array(traj).T    \n",
    "ax.plot(traced[0],traced[1],'b-') \n",
    "path = np.array(path).T    \n",
    "ax.plot(path[0],path[1],'y-')  \n"
   ]
  },
  {
   "cell_type": "code",
   "execution_count": 55,
   "metadata": {},
   "outputs": [
    {
     "data": {
      "image/png": "[encoded data removed]",
      "text/plain": [
       "<matplotlib.figure.Figure at 0x7f4d62ec6208>"
      ]
     },
     "metadata": {
      "needs_background": "light"
     },
     "output_type": "display_data"
    }
   ],
   "source": [
    "plt.annotate(\"A\",A)\n",
    "plt.annotate(\"B\",B)        \n",
    "traced = np.array(traj).T    \n",
    "ax.plot(traced[0],traced[1],'b-') \n",
    "path = np.array(path).T "
   ]
  },
  {
   "cell_type": "code",
   "execution_count": 166,
   "metadata": {},
   "outputs": [
    {
     "name": "stdout",
     "output_type": "stream",
     "text": [
      "ARRIVED!!\n"
     ]
    },
    {
     "data": {
      "text/plain": [
       "[<matplotlib.lines.Line2D at 0x7efcc949dc88>]"
      ]
     },
     "execution_count": 166,
     "metadata": {},
     "output_type": "execute_result"
    },
    {
     "data": {
      "image/png": "[encoded data removed]",
      "text/plain": [
       "<matplotlib.figure.Figure at 0x7efcc94ac4a8>"
      ]
     },
     "metadata": {
      "needs_background": "light"
     },
     "output_type": "display_data"
    }
   ],
   "source": [
    "total_path = np.concatenate((AB,BC,CD,DE),axis=0)\n",
    "robot = Robot(*A,-np.pi/2,1,0,0,0)\n",
    "\n",
    "#robot.set_environment(obstacles)\n",
    "\n",
    "\n",
    "fig,ax = plt.subplots(figsize=(8,8))\n",
    "ax. set_aspect('equal')\n",
    "ax.set_xlim([0, 1024])\n",
    "ax.set_ylim([0, 1024])\n",
    "ax.imshow(arena,cmap = plt.cm.gray_r,origin = 'lower')\n",
    "traj = []\n",
    "path = total_path #np.array([[200,800-i*12,np.pi/2] for i in range(55)])\n",
    "x,y,t = path.T\n",
    "tracker = PurePursuitTracker(x,y,10,lookahead=80.0) \n",
    "pose = [robot.x_bot,robot.y_bot,robot.yaw] #arbitrary initial pose\n",
    "#robot.plot(ax)\n",
    "i = 0\n",
    "while True:\n",
    "    #print(\"v = \",tracker.v,\" w = \",tracker.w)\n",
    "    next_bot = robot.next_pose(tracker.v,tracker.w)\n",
    "    pose = [next_bot.x_bot,next_bot.y_bot,next_bot.yaw]\n",
    "    #next_bot.plot(ax)\n",
    "    if tracker.update(*pose):\n",
    "        print(\"ARRIVED!!\")    \n",
    "        break\n",
    "    traj.append([*pose, tracker.w, tracker.ref_idx]) \n",
    "    robot = next_bot\n",
    "    i+=1\n",
    "    if i == 1000:\n",
    "        break\n",
    "plt.annotate(\"A\",A)\n",
    "plt.annotate(\"B\",B) \n",
    "plt.annotate(\"A\",C)\n",
    "plt.annotate(\"B\",D)\n",
    "plt.annotate(\"A\",E)\n",
    "\n",
    "traced = np.array(traj).T    \n",
    "ax.plot(traced[0],traced[1],'b-') \n",
    "path = np.array(path).T    \n",
    "ax.plot(path[0],path[1],'y-') "
   ]
  },
  {
   "cell_type": "code",
   "execution_count": 156,
   "metadata": {},
   "outputs": [
    {
     "data": {
      "text/plain": [
       "47"
      ]
     },
     "execution_count": 156,
     "metadata": {},
     "output_type": "execute_result"
    }
   ],
   "source": [
    "len(BC)"
   ]
  },
  {
   "cell_type": "code",
   "execution_count": 144,
   "metadata": {},
   "outputs": [
    {
     "data": {
      "text/plain": [
       "(200, 800)"
      ]
     },
     "execution_count": 144,
     "metadata": {},
     "output_type": "execute_result"
    }
   ],
   "source": [
    "A"
   ]
  },
  {
   "cell_type": "code",
   "execution_count": 128,
   "metadata": {},
   "outputs": [
    {
     "data": {
      "text/plain": [
       "461"
      ]
     },
     "execution_count": 128,
     "metadata": {},
     "output_type": "execute_result"
    }
   ],
   "source": [
    "len(BC)"
   ]
  },
  {
   "cell_type": "code",
   "execution_count": 73,
   "metadata": {},
   "outputs": [
    {
     "data": {
      "text/plain": [
       "array([[200, 800],\n",
       "       [200, 799],\n",
       "       [200, 798],\n",
       "       ...,\n",
       "       [200, 202],\n",
       "       [200, 201],\n",
       "       [200, 200]])"
      ]
     },
     "execution_count": 73,
     "metadata": {},
     "output_type": "execute_result"
    }
   ],
   "source": [
    "np.array(get_line((200,800),(200,200)))"
   ]
  },
  {
   "cell_type": "code",
   "execution_count": 26,
   "metadata": {},
   "outputs": [
    {
     "data": {
      "text/plain": [
       "[<matplotlib.lines.Line2D at 0x1aaf3650>]"
      ]
     },
     "execution_count": 26,
     "metadata": {},
     "output_type": "execute_result"
    },
    {
     "data": {
      "image/png": "[encoded data removed]",
      "text/plain": [
       "<Figure size 576x576 with 1 Axes>"
      ]
     },
     "metadata": {
      "needs_background": "light"
     },
     "output_type": "display_data"
    }
   ],
   "source": [
    "fig,ax = plt.subplots(figsize=(8,8))\n",
    "ax.imshow(arena,cmap = plt.cm.gray_r,origin = 'lower')\n",
    "tracker = PurePursuitTracker(x,y,vmax) \n",
    "p = np.array(traj).T    \n",
    "ax.plot(p[0],p[1])\n",
    "        "
   ]
  },
  {
   "cell_type": "code",
   "execution_count": null,
   "metadata": {},
   "outputs": [],
   "source": []
  },
  {
   "cell_type": "code",
   "execution_count": null,
   "metadata": {},
   "outputs": [],
   "source": [
    "x,y,t = \n",
    "tracker = PurePursuitTracker(x,y,vmax) \n",
    "pose = 0, 0, np.pi/2 #arbitrary initial pose\n",
    "x0,y0,t0 = pose # record it for plotting\n",
    "\n",
    "traj = []\n",
    "while True:\n",
    "    print(\"v = \",tracker.v,\" w = \",tracker.w)\n",
    "    pose = simulate_unicycle(pose,tracker.v,tracker.w)\n",
    "\n",
    "    if tracker.update(*pose):\n",
    "        print(\"ARRIVED!!\")    \n",
    "        break\n",
    "    traj.append([*pose, tracker.w, tracker.ref_idx]) "
   ]
  }
 ],
 "metadata": {
  "kernelspec": {
   "display_name": "Python 3",
   "language": "python",
   "name": "python3"
  },
  "language_info": {
   "codemirror_mode": {
    "name": "ipython",
    "version": 3
   },
   "file_extension": ".py",
   "mimetype": "text/x-python",
   "name": "python",
   "nbconvert_exporter": "python",
   "pygments_lexer": "ipython3",
   "version": "3.6.9"
  }
 },
 "nbformat": 4,
 "nbformat_minor": 4
}
