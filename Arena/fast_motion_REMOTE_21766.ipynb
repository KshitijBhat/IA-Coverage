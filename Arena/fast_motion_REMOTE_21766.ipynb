{
 "cells": [
  {
   "cell_type": "code",
   "execution_count": 1,
   "metadata": {},
   "outputs": [],
   "source": [
    "from Interval_v4 import *\n",
    "import cv2\n",
    "import json\n",
    "# import concurrent.futures\n",
    "# from itertools import repeat\n",
    "from IPython.display import clear_output"
   ]
  },
  {
   "cell_type": "code",
   "execution_count": 2,
   "metadata": {},
   "outputs": [
    {
     "data": {
      "image/png": "[encoded data removed]",
      "text/plain": [
       "<Figure size 360x360 with 1 Axes>"
      ]
     },
     "metadata": {
      "needs_background": "light"
     },
     "output_type": "display_data"
    }
   ],
   "source": [
    "with open('obstacles.json') as f:   \n",
    "    data = json.load(f)\n",
    "obstacles = []\n",
    "for obstacle in data['obstacles']:\n",
    "    params,center = obstacle['params'],obstacle['center']\n",
    "    obstacles.append(Interval(*params,center))\n",
    "arena = cv2.imread(\"arena1.png\")\n",
    "arena = (1-cv2.cvtColor(arena,cv2.COLOR_RGB2GRAY)/255).astype('int')\n",
    "fig,ax = plt.subplots(figsize=(5,5))\n",
    "ax.imshow(arena,cmap = plt.cm.gray_r)\n",
    "for obstacle in obstacles:\n",
    "    obstacle.draw(ax,'red')\n",
    "plt.show()\n",
    "    "
   ]
  },
  {
   "cell_type": "code",
   "execution_count": 42,
   "metadata": {},
   "outputs": [],
   "source": [
    "### no inheritance\n",
    "class Robot:\n",
    "    radius = 30\n",
    "    bot_color = 'b'\n",
    "    color = 'blue'\n",
    "    Δt = 1\n",
    "    obstacles = None\n",
    "    Nr = 5\n",
    "    Ntheta = 5\n",
    "\n",
    "    \n",
    "    def __init__(self,x_bot,y_bot,yaw,vi,vj,wi,wj):\n",
    "        \n",
    "        self.x_bot = x_bot\n",
    "        self.y_bot = y_bot\n",
    "        self.yaw = yaw\n",
    "        self.vi = vi\n",
    "        self.vj = vj\n",
    "        self.wi = wi\n",
    "        self.wj = wj\n",
    "        \n",
    "    @property\n",
    "    def interval(self):\n",
    "        theta1 = self.yaw - (self.wi - self.wj)*self.Δt\n",
    "        theta2 = self.yaw + (self.wi - self.wj)*self.Δt\n",
    "        origin = (self.x_bot+self.radius*(np.cos(theta1)+np.cos(theta2))/(1e-6 + np.sin(theta1-theta2)),\n",
    "                       self.y_bot+self.radius*(np.sin(theta1)+np.sin(theta2))/(1e-6 + np.sin(theta1-theta2)))\n",
    "\n",
    "        n = self.radius/np.sin(1e-6+(theta2-theta1)/2)\n",
    "        nu1 = n - self.radius\n",
    "        nu2 = n + self.radius + (self.vi-self.vj)*self.Δt\n",
    "        return Interval(nu1,nu2,theta1,theta2,origin)\n",
    "    \n",
    "    def __repr__(self):\n",
    "        return f\"Robot at {self.x_bot},{self.y_bot},{self.yaw}\"\n",
    "    \n",
    "    def set_path(self,path):\n",
    "        self.path = path\n",
    "    \n",
    "    def collision_detection(self):\n",
    "        Js = []\n",
    "        #### maybe multiprocessing here\n",
    "#         with concurrent.futures.ProcessPoolExecutor() as executor:\n",
    "#             Js = [executor.submit(super(Robot,self).interval_analysis,obstacle,5,5)for obstacle in self.obstacles]\n",
    "            \n",
    "#         for f in concurrent.futures.as_completed(Js):\n",
    "#             print(f)\n",
    "        \n",
    "        for obstacle in self.obstacles:\n",
    "            I = self.interval\n",
    "            #print('obstacle', obstacle)\n",
    "            J = I.fast_analysis(obstacle)\n",
    "            #print(\"det\", J)\n",
    "            if not(J.r2 == 1e-6 and J.theta1 -J.theta2 == 0) :\n",
    "                Js.append(J)\n",
    "            del J       \n",
    "        #print(\"obs\", Js)\n",
    "        return Js\n",
    "\n",
    "    \n",
    "    def generate_vw(self):\n",
    "        min_angle = np.pi/24\n",
    "        num_samples = np.ceil(((self.interval.theta2-self.interval.theta1)/min_angle)/2).astype('int')\n",
    "        vws = []\n",
    "        v = (self.interval.r2-self.interval.r1-2*self.radius)/self.Δt\n",
    "        \n",
    "        for i in range(num_samples):\n",
    "            w = i*min_angle*self.Δt ### sus I.theta1+   \n",
    "            vws.append([v,-1*w])\n",
    "        for i in range(num_samples):\n",
    "            w = i*min_angle*self.Δt ### sus I.theta1+\n",
    "            vws.append([v,w])    \n",
    "        return vws\n",
    "            \n",
    "    def collision_avoidance(self,Js,traj_v,traj_w,ax):\n",
    "        \"\"\"\n",
    "        gives good v,w given bad v,w from the tracker\n",
    "        \"\"\"\n",
    "#         w = w*np.random.uniform(-1,1)\n",
    "        I = self.interval\n",
    "        vws = self.generate_vw()\n",
    "        comps = set([])\n",
    "        if not len(Js) == 0:\n",
    "            \n",
    "            for J in Js:\n",
    "                comps.update(I.complement(J)) \n",
    "                #J.draw(ax,\"green\")\n",
    "            for comp in comps:\n",
    "                comp.draw(ax,'magenta')\n",
    "                if comp.r2 == I.r2:\n",
    "                    continue\n",
    "                else:    \n",
    "                    for i,[v,w] in enumerate(vws):\n",
    "                        if self.yaw+w*self.Δt<= comp.theta2+np.arcsin(self.radius/(I.r2-self.radius))+2*np.pi/24 and self.yaw+w*self.Δt>=comp.theta1-np.arcsin(self.radius/(I.r2-self.radius))-2*np.pi/24:\n",
    "                            #np.pi/24 is min angle\n",
    "                            vnew = ((comp.r2-comp.r1-2*self.radius)/self.Δt)\n",
    "                            if v>vnew and vnew>=0:\n",
    "                                vws[i][0] = vnew\n",
    "            vwes = np.array(vws)[::-1]\n",
    "            #idr = np.random.choice(range(len(vwes)))\n",
    "#             ws = vwes[:,1]\n",
    "#             traj_ws = traj_w*np.ones_like(ws)\n",
    "#             diff = (ws-traj_ws-np.pi/3)**2\n",
    "# #     # #         print(vws)\n",
    "# #             print(diff)\n",
    "#             vwn = vwes[np.argmin(diff)]\n",
    "            is_collide = True\n",
    "            v_max,ws = vwes[np.argmax(vwes[:,0])]\n",
    "        \n",
    "            #w_x = np.array([abs(w-traj_w) for v,w in vwes])\n",
    "            \n",
    "            vwn = np.array([v_max/2,ws])\n",
    "    #         print(\"vwn = \",vwn)\n",
    "            #return vwes[idr] \n",
    "    #         print(vwes)\n",
    "        else:\n",
    "            max_w = abs(self.wi-self.wj)\n",
    "            traj_w = traj_w if abs(traj_w)<max_w else max_w*np.sign(traj_w)\n",
    "            vwn = np.array([traj_v,traj_w])\n",
    "            is_collide = False\n",
    "            print(\"no collision \")\n",
    "            print(\"applied velocity = \", vwn)\n",
    "        \n",
    "        return vwn,is_collide\n",
    "            \n",
    "        \n",
    "    \n",
    "#     def __iter__(self):\n",
    "#         return self\n",
    "    \n",
    "#     def __next__(self):\n",
    "#         pose = [self.x_bot,self.y_bot,self.yaw]\n",
    "#         Js = self.collision_detection()\n",
    "#         v,w = self.collision_avoidance(Js)\n",
    "#         self.x_bot += v*np.cos(self.yaw)*self.Δt\n",
    "#         self.y_bot += v*np.sin(self.yaw)*self.Δt\n",
    "#         self.yaw += w*self.Δt\n",
    "# #         self.vj = v\n",
    "# #         self.wj = w\n",
    "#         super(Robot,self).__init__(*self.params)\n",
    "        \n",
    "        \n",
    "#             #cook something that creates new v,w which do not crash into the obstacles \n",
    "#         #Robot(*pose,self.vi,self.vj,self.wi,self.wj)\n",
    "#         return self\n",
    "    def next_bot(self,traj_v,traj_w,ax):\n",
    "        Js = self.collision_detection()\n",
    "        vw,is_collide = self.collision_avoidance(Js,traj_v,traj_w,ax)\n",
    "        v,w = vw\n",
    "#         for J in Js:\n",
    "#             J.draw(ax,'magenta')\n",
    "        yaw = self.yaw + w*self.Δt\n",
    "        x_bot = self.x_bot + v*np.cos(yaw)*self.Δt\n",
    "        y_bot = self.y_bot + v*np.sin(yaw)*self.Δt\n",
    "        self.yaw = yaw\n",
    "        self.x_bot = x_bot\n",
    "        self.y_bot = y_bot\n",
    "        \n",
    "        \n",
    "#         vi = self.vi\n",
    "#         vj = self.vj\n",
    "#         wi = self.wi\n",
    "#         wj = self.wj\n",
    "        return self,is_collide\n",
    "    def next_bots(self,ax):\n",
    "        bots = []\n",
    "        Js = self.collision_detection()\n",
    "        for [v,w] in self.collision_avoidance(Js,ax):\n",
    "            yaw = self.yaw + w*self.Δt\n",
    "            x_bot = self.x_bot + v*np.cos(yaw)*self.Δt\n",
    "            y_bot = self.y_bot + v*np.sin(yaw)*self.Δt\n",
    "            bots.append(Robot(x_bot,y_bot,yaw,self.vi,self.vj,self.wi,self.wj))\n",
    "            \n",
    "#         v,w = self.collision_avoidance(Js,ax)\n",
    "#         for J in Js:\n",
    "#             J.draw(ax,'magenta')\n",
    "        \n",
    "#         self.yaw = yaw\n",
    "#         self.x_bot = x_bot\n",
    "#         self.y_bot = y_bot\n",
    "        \n",
    "        \n",
    "#         vi = self.vi\n",
    "#         vj = self.vj\n",
    "#         wi = self.wi\n",
    "#         wj = self.wj\n",
    "        return bots\n",
    "    def next_pose(self,v,w):\n",
    "        yaw = self.yaw + w*self.Δt\n",
    "        x_bot = self.x_bot + v*np.cos(yaw)*self.Δt\n",
    "        y_bot = self.y_bot + v*np.sin(yaw)*self.Δt\n",
    "        self.yaw = yaw\n",
    "        self.x_bot = x_bot\n",
    "        self.y_bot = y_bot\n",
    "        return self\n",
    "            \n",
    "        \n",
    "        \n",
    "    def plot(self,ax):\n",
    "        bot_circle = plt.Circle( (self.x_bot, self.y_bot),self.radius,color=self.bot_color)\n",
    "        arrow = ax.arrow(self.x_bot,self.y_bot,self.radius*np.cos(self.yaw),self.radius*np.sin(self.yaw))\n",
    "        patch = ax.add_patch(bot_circle)\n",
    "        return [bot_circle,arrow]\n",
    "                           \n",
    "    def plot_interval(self,ax):\n",
    "#         for I in self.Is:\n",
    "#             I.draw(ax,'green')\n",
    "        self.interval.draw(ax,self.color)\n",
    "        \n",
    "    \n",
    "    @classmethod\n",
    "    def set_environment(cls,obstacles):\n",
    "        cls.obstacles = obstacles\n",
    "        \n",
    "# def correction(thetas):\n",
    "#     tuts = []\n",
    "#     tuts1 = []\n",
    "#     for theta in thetas:\n",
    "#         if theta>=0 and theta<= np.pi/2:\n",
    "#             tuts.append(0)\n",
    "#         if theta>=3*np.pi/2 and theta<= 2*np.pi:\n",
    "#             tuts.append(1)\n",
    "#         if theta>=np.pi/2 and theta<= np.pi:\n",
    "#             tuts1.append(0)\n",
    "#         if theta<=-1*np.pi/2 and theta>= -1*np.pi:\n",
    "#             tuts1.append(1)    \n",
    "            \n",
    "\n",
    "#     if any(tuts) and not all(tuts):\n",
    "#         return [(theta-2*np.pi if theta>=3*np.pi/2 else theta) for theta in thetas]\n",
    "#     elif any(tuts1) and not all(tuts1):\n",
    "#         return [(theta+2*np.pi if theta<=-1*np.pi/2 else theta) for theta in thetas]\n",
    "#     else:\n",
    "#         return thetas        \n",
    "        \n",
    "    \n",
    "# def complement(I,J):\n",
    "#     if J.r2 == 1e-6 and J.theta1 - J.theta2 == 0:\n",
    "#         return [I]\n",
    "#     Is = []\n",
    "#     if I.theta1 != J.theta1:\n",
    "#         I1 = Interval(I.r1,I.r2,*correction([I.theta1,J.theta1]),I.origin)\n",
    "#         Is.append(I1)\n",
    "#         print(\"I1 = \",I1)\n",
    "#     if J.theta1 != J.theta2:    \n",
    "#         I2 = Interval(I.r1,J.r1,*correction([J.theta1,J.theta2]),I.origin)\n",
    "#         Is.append(I2)\n",
    "#         print(\"I2 = \",I2)\n",
    "#     if J.theta2 != I.theta2:    \n",
    "#         I3 = Interval(I.r1,I.r2,*correction([J.theta2,I.theta2]),I.origin)\n",
    "#         Is.append(I3)\n",
    "#         print(\"I2 = \",I2)\n",
    "#     return Is       "
   ]
  },
  {
   "cell_type": "code",
   "execution_count": 6,
   "metadata": {},
   "outputs": [
    {
     "data": {
      "text/plain": [
       "array([[ 3,  3],\n",
       "       [ 1,  2],\n",
       "       [43,  5]])"
      ]
     },
     "execution_count": 6,
     "metadata": {},
     "output_type": "execute_result"
    }
   ],
   "source": [
    "aa = np.array([[4,4],[2,3],[44,6]]) - np.array([1,1]) # np.array([[0,4],[0,3],[44,0]])\n",
    "aa"
   ]
  },
  {
   "cell_type": "code",
   "execution_count": 5,
   "metadata": {
    "scrolled": false
   },
   "outputs": [
    {
     "data": {
      "image/png": "[encoded data removed]",
      "text/plain": [
       "<matplotlib.figure.Figure at 0x7f8c2c2c4208>"
      ]
     },
     "metadata": {
      "needs_background": "light"
     },
     "output_type": "display_data"
    }
   ],
   "source": [
    "\n",
    "#robot = Robot(680,600,0,80,0,1.57,0)\n",
    "#robot = Robot(800,800,0.5,100,0,1,0)\n",
    "robot = Robot(320,900,0,80,0,1,0)\n",
    "#robot = Robot(600,900,3.14,80,0,1,0)\n",
    "#robot = Robot(900,800,4.2,100,0,1,0)\n",
    "#robot = Robot(800,770,4.5,80,0,1,0)\n",
    "#robot = Robot(400,400,0,100,0,1,0)\n",
    "robot.set_environment(obstacles)\n",
    "\n",
    "\n",
    "fig,ax = plt.subplots(figsize=(8,8))\n",
    "ax. set_aspect('equal')\n",
    "ax.set_xlim([0, 1024])\n",
    "ax.set_ylim([0, 1024])\n",
    "ax.imshow(arena,cmap = plt.cm.gray_r,origin = 'lower')\n",
    "for obstacle in obstacles:\n",
    "#     obsa = obstacle\n",
    "#     I = robot.interval\n",
    "#     I.interval_analysis(obsa,5,5).draw(ax,\"magenta\")\n",
    "    obstacle.draw(ax,'red')\n",
    "#     del obsa\n",
    "#     del I\n",
    "robot.plot(ax)\n",
    "robot.plot_interval(ax)\n",
    "\n",
    "# print(robot.interval.gamma2.encloses(Point(obstacles[1].origin)))\n",
    "# print(\"\\n\",obstacles[1].gamma2.encloses(Point(robot.interval.gamma2.origin)))\n",
    "#robot.interval.fast_analysis(obstacles[1]).draw\n",
    "\n",
    "# inters = intersection(robot.interval.gamma2.circle,obstacles[1].gamma2.circle)\n",
    "# for inter in inters:\n",
    "#     print(robot.interval.gamma2.encloses(inter))\n",
    "#     print(obstacles[1].gamma2.encloses(inter))\n",
    "\n",
    "for i in range(1):\n",
    "\n",
    "    \n",
    "    pose = robot.next_bot(ax)\n",
    "\n",
    "    \n",
    "    pose.plot(ax)\n",
    "    pose.plot_interval(ax)\n",
    "    robot = pose\n",
    "    \n",
    "    \n",
    "#     for I in pose.Is:\n",
    "#         I.draw(ax,'green')\n",
    "    \n",
    "\n",
    "# robot.collision_detection()\n",
    "\n",
    "\n",
    "# pose1 = pose.next_bot()\n",
    "# pose1.plot(ax)\n",
    "# pose1.plot_interval(ax)\n",
    "# pose1 = pose1.next_bot()\n",
    "# pose1.plot(ax)\n",
    "# pose1.plot_interval(ax)\n",
    "\n",
    "# i = 0\n",
    "# traj = []\n",
    "# for pose in robot:\n",
    "#     i+=1\n",
    "#     for obstacle in obstacles:\n",
    "#         obstacle.draw(ax,'red')\n",
    "#     traj.append((pose.x_bot,pose.y_bot))    \n",
    "#     pose.plot(ax)\n",
    "#     pose.plot_interval(ax)\n",
    "#     del pose\n",
    "#     if i == 4:\n",
    "#         break\n",
    "\n",
    "# path = np.array(traj).T    \n",
    "# ax.plot(path[0],path[1],'y-')\n",
    "\n",
    "        "
   ]
  },
  {
   "cell_type": "code",
   "execution_count": 21,
   "metadata": {
    "scrolled": false
   },
   "outputs": [
    {
     "data": {
      "image/png": "[encoded data removed]",
      "text/plain": [
       "<matplotlib.figure.Figure at 0x7f4d6b4b8048>"
      ]
     },
     "metadata": {
      "needs_background": "light"
     },
     "output_type": "display_data"
    }
   ],
   "source": [
    "\n",
    "#robot = Robot(680,600,0,80,0,1.57,0)\n",
    "#robot = Robot(800,800,0.5,100,0,1,0)\n",
    "robot = Robot(320,900,0,80,0,1,0)\n",
    "#robot = Robot(600,900,3.14,80,0,1,0)\n",
    "#robot = Robot(900,800,4.2,100,0,1,0)\n",
    "#robot = Robot(800,770,4.5,80,0,1,0)\n",
    "#robot = Robot(400,400,0,100,0,1,0)\n",
    "robot.set_environment(obstacles)\n",
    "\n",
    "\n",
    "fig,ax = plt.subplots(figsize=(8,8))\n",
    "ax. set_aspect('equal')\n",
    "ax.set_xlim([0, 1024])\n",
    "ax.set_ylim([0, 1024])\n",
    "ax.imshow(arena,cmap = plt.cm.gray_r,origin = 'lower')\n",
    "for obstacle in obstacles:\n",
    "#     obsa = obstacle\n",
    "#     I = robot.interval\n",
    "#     I.interval_analysis(obsa,5,5).draw(ax,\"magenta\")\n",
    "    obstacle.draw(ax,'red')\n",
    "#     del obsa\n",
    "#     del I\n",
    "robot.plot(ax)\n",
    "robot.plot_interval(ax)\n",
    "\n",
    "# print(robot.interval.gamma2.encloses(Point(obstacles[1].origin)))\n",
    "# print(\"\\n\",obstacles[1].gamma2.encloses(Point(robot.interval.gamma2.origin)))\n",
    "#robot.interval.fast_analysis(obstacles[1]).draw\n",
    "\n",
    "# inters = intersection(robot.interval.gamma2.circle,obstacles[1].gamma2.circle)\n",
    "# for inter in inters:\n",
    "#     print(robot.interval.gamma2.encloses(inter))\n",
    "#     print(obstacles[1].gamma2.encloses(inter))\n",
    "\n",
    "for i in range(1):\n",
    "\n",
    "    \n",
    "    pose = robot.next_bot(1,1,ax)\n",
    "\n",
    "    \n",
    "    pose.plot(ax)\n",
    "    pose.plot_interval(ax)\n",
    "    robot = pose\n",
    "    \n",
    "    \n",
    "#     for I in pose.Is:\n",
    "#         I.draw(ax,'green')\n",
    "    \n",
    "\n",
    "# robot.collision_detection()\n",
    "\n",
    "\n",
    "# pose1 = pose.next_bot()\n",
    "# pose1.plot(ax)\n",
    "# pose1.plot_interval(ax)\n",
    "# pose1 = pose1.next_bot()\n",
    "# pose1.plot(ax)\n",
    "# pose1.plot_interval(ax)\n",
    "\n",
    "# i = 0\n",
    "# traj = []\n",
    "# for pose in robot:\n",
    "#     i+=1\n",
    "#     for obstacle in obstacles:\n",
    "#         obstacle.draw(ax,'red')\n",
    "#     traj.append((pose.x_bot,pose.y_bot))    \n",
    "#     pose.plot(ax)\n",
    "#     pose.plot_interval(ax)\n",
    "#     del pose\n",
    "#     if i == 4:\n",
    "#         break\n",
    "\n",
    "# path = np.array(traj).T    \n",
    "# ax.plot(path[0],path[1],'y-')\n",
    "\n",
    "        "
   ]
  },
  {
   "cell_type": "code",
   "execution_count": 4,
   "metadata": {
    "scrolled": false
   },
   "outputs": [
    {
     "data": {
      "image/png": "[encoded data removed]",
      "text/plain": [
       "<Figure size 576x576 with 1 Axes>"
      ]
     },
     "metadata": {
      "needs_background": "light"
     },
     "output_type": "display_data"
    }
   ],
   "source": [
    "\n",
    "#robot = Robot(680,600,0,80,0,1.57,0)\n",
    "#robot = Robot(800,800,0.5,100,0,1,0)\n",
    "robot = Robot(300,500,-1.57,40,0,1,0)\n",
    "#robot = Robot(600,900,3.14,80,0,1,0)\n",
    "#robot = Robot(900,800,4.2,100,0,1,0)\n",
    "#robot = Robot(800,770,4.5,80,0,1,0)\n",
    "#robot = Robot(400,400,0,100,0,1,0)\n",
    "robot.set_environment(obstacles)\n",
    "\n",
    "\n",
    "fig,ax = plt.subplots(figsize=(8,8))\n",
    "ax. set_aspect('equal')\n",
    "ax.set_xlim([0, 1024])\n",
    "ax.set_ylim([0, 1024])\n",
    "ax.imshow(arena,cmap = plt.cm.gray_r,origin = 'lower')\n",
    "for obstacle in obstacles:\n",
    "#     obsa = obstacle\n",
    "#     I = robot.interval\n",
    "#     I.interval_analysis(obsa,5,5).draw(ax,\"magenta\")\n",
    "    obstacle.draw(ax,'red')\n",
    "#     del obsa\n",
    "#     del I\n",
    "robot.plot(ax)\n",
    "robot.plot_interval(ax)\n",
    "\n",
    "# print(robot.interval.gamma2.encloses(Point(obstacles[1].origin)))\n",
    "# print(\"\\n\",obstacles[1].gamma2.encloses(Point(robot.interval.gamma2.origin)))\n",
    "#robot.interval.fast_analysis(obstacles[1]).draw\n",
    "\n",
    "# inters = intersection(robot.interval.gamma2.circle,obstacles[1].gamma2.circle)\n",
    "# for inter in inters:\n",
    "#     print(robot.interval.gamma2.encloses(inter))\n",
    "#     print(obstacles[1].gamma2.encloses(inter))\n",
    "\n",
    "for i in range(1):\n",
    "\n",
    "    \n",
    "    pose,is_collide = robot.next_bot(1,1,ax)\n",
    "\n",
    "    \n",
    "    pose.plot(ax)\n",
    "    pose.plot_interval(ax)\n",
    "    robot = pose\n",
    "    \n",
    "    \n",
    "#     for I in pose.Is:\n",
    "#         I.draw(ax,'green')\n",
    "    \n",
    "\n",
    "# robot.collision_detection()\n",
    "\n",
    "\n",
    "# pose1 = pose.next_bot()\n",
    "# pose1.plot(ax)\n",
    "# pose1.plot_interval(ax)\n",
    "# pose1 = pose1.next_bot()\n",
    "# pose1.plot(ax)\n",
    "# pose1.plot_interval(ax)\n",
    "\n",
    "# i = 0\n",
    "# traj = []\n",
    "# for pose in robot:\n",
    "#     i+=1\n",
    "#     for obstacle in obstacles:\n",
    "#         obstacle.draw(ax,'red')\n",
    "#     traj.append((pose.x_bot,pose.y_bot))    \n",
    "#     pose.plot(ax)\n",
    "#     pose.plot_interval(ax)\n",
    "#     del pose\n",
    "#     if i == 4:\n",
    "#         break\n",
    "\n",
    "# path = np.array(traj).T    \n",
    "# ax.plot(path[0],path[1],'y-')\n",
    "\n",
    "        "
   ]
  },
  {
   "cell_type": "code",
   "execution_count": 6,
   "metadata": {
    "scrolled": false
   },
   "outputs": [
    {
     "data": {
      "image/png": "[encoded data removed]",
      "text/plain": [
       "<Figure size 576x576 with 1 Axes>"
      ]
     },
     "metadata": {
      "needs_background": "light"
     },
     "output_type": "display_data"
    }
   ],
   "source": [
    "\n",
    "#robot = Robot(680,600,0,80,0,1.57,0)\n",
    "#robot = Robot(800,800,0.5,100,0,1,0)\n",
    "robot = Robot(300,500,-1.57,40,0,1,0)\n",
    "#robot = Robot(600,900,3.14,80,0,1,0)\n",
    "#robot = Robot(900,800,4.2,100,0,1,0)\n",
    "#robot = Robot(800,770,4.5,80,0,1,0)\n",
    "#robot = Robot(400,400,0,100,0,1,0)\n",
    "robot.set_environment(obstacles)\n",
    "\n",
    "\n",
    "fig,ax = plt.subplots(figsize=(8,8))\n",
    "ax. set_aspect('equal')\n",
    "ax.set_xlim([0, 1024])\n",
    "ax.set_ylim([0, 1024])\n",
    "ax.imshow(arena,cmap = plt.cm.gray_r,origin = 'lower')\n",
    "for obstacle in obstacles:\n",
    "#     obsa = obstacle\n",
    "#     I = robot.interval\n",
    "#     I.interval_analysis(obsa,5,5).draw(ax,\"magenta\")\n",
    "    obstacle.draw(ax,'red')\n",
    "#     del obsa\n",
    "#     del I\n",
    "#robot.plot(ax)\n",
    "robot.plot_interval(ax)\n",
    "\n",
    "# print(robot.interval.gamma2.encloses(Point(obstacles[1].origin)))\n",
    "# print(\"\\n\",obstacles[1].gamma2.encloses(Point(robot.interval.gamma2.origin)))\n",
    "#robot.interval.fast_analysis(obstacles[1]).draw\n",
    "\n",
    "# inters = intersection(robot.interval.gamma2.circle,obstacles[1].gamma2.circle)\n",
    "# for inter in inters:\n",
    "#     print(robot.interval.gamma2.encloses(inter))\n",
    "#     print(obstacles[1].gamma2.encloses(inter))\n",
    "\n",
    "for i in range(1):\n",
    "\n",
    "    \n",
    "    pose,is_collide = robot.next_bot(1,1,ax)\n",
    "\n",
    "    \n",
    "    #pose.plot(ax)\n",
    "    pose.plot_interval(ax)\n",
    "    robot = pose\n",
    "    \n",
    "    \n",
    "#     for I in pose.Is:\n",
    "#         I.draw(ax,'green')\n",
    "    \n",
    "\n",
    "# robot.collision_detection()\n",
    "\n",
    "\n",
    "# pose1 = pose.next_bot()\n",
    "# pose1.plot(ax)\n",
    "# pose1.plot_interval(ax)\n",
    "# pose1 = pose1.next_bot()\n",
    "# pose1.plot(ax)\n",
    "# pose1.plot_interval(ax)\n",
    "\n",
    "# i = 0\n",
    "# traj = []\n",
    "# for pose in robot:\n",
    "#     i+=1\n",
    "#     for obstacle in obstacles:\n",
    "#         obstacle.draw(ax,'red')\n",
    "#     traj.append((pose.x_bot,pose.y_bot))    \n",
    "#     pose.plot(ax)\n",
    "#     pose.plot_interval(ax)\n",
    "#     del pose\n",
    "#     if i == 4:\n",
    "#         break\n",
    "\n",
    "# path = np.array(traj).T    \n",
    "# ax.plot(path[0],path[1],'y-')\n",
    "\n",
    "        "
   ]
  },
  {
   "cell_type": "code",
   "execution_count": null,
   "metadata": {},
   "outputs": [],
   "source": []
  },
  {
   "cell_type": "code",
   "execution_count": 48,
   "metadata": {
    "scrolled": false
   },
   "outputs": [
    {
     "name": "stdout",
     "output_type": "stream",
     "text": [
      "run: 0\n"
     ]
    },
    {
     "data": {
      "image/png": "[encoded data removed]",
      "text/plain": [
       "<Figure size 576x576 with 1 Axes>"
      ]
     },
     "metadata": {
      "needs_background": "light"
     },
     "output_type": "display_data"
    }
   ],
   "source": [
    "\n",
    "#robot = Robot(680,600,0,80,0,1,0)\n",
    "#robot = Robot(800,800,0.5,100,0,1,0)\n",
    "#robot = Robot(379.4084003997459, 907.8212642902986, 0.1308996938995747,80,0,1,0)\n",
    "#robot = Robot(600,900,3.14,80,0,1,0)\n",
    "#robot = Robot(900,700,5,100,0,1,0)\n",
    "robot = Robot(600,200,6.284,50,0,1,0)\n",
    "#robot = Robot(800,770,4.5,80,0,1,0)\n",
    "#robot = Robot(400,400,0,100,0,1,0)\n",
    "robot.set_environment(obstacles)\n",
    "\n",
    "\n",
    "fig,ax = plt.subplots(figsize=(8,8))\n",
    "ax. set_aspect('equal')\n",
    "ax.set_xlim([0, 1024])\n",
    "ax.set_ylim([0, 1024])\n",
    "ax.imshow(arena,cmap = plt.cm.gray_r,origin = 'lower')\n",
    "for obstacle in obstacles:\n",
    "#     obsa = obstacle\n",
    "#     I = robot.interval\n",
    "#     I.interval_analysis(obsa,5,5).draw(ax,\"magenta\")\n",
    "    obstacle.draw(ax,'red')\n",
    "#     del obsa\n",
    "#     del I\n",
    "robot.plot(ax)\n",
    "robot.plot_interval(ax)\n",
    "\n",
    "# print(robot.interval.gamma2.encloses(Point(obstacles[1].origin)))\n",
    "# print(\"\\n\",obstacles[1].gamma2.encloses(Point(robot.interval.gamma2.origin)))\n",
    "#robot.interval.fast_analysis(obstacles[1]).draw\n",
    "\n",
    "# inters = intersection(robot.interval.gamma2.circle,obstacles[1].gamma2.circle)\n",
    "# for inter in inters:\n",
    "#     print(robot.interval.gamma2.encloses(inter))\n",
    "#     print(obstacles[1].gamma2.encloses(inter))\n",
    "log = []\n",
    "for i in range(1):\n",
    "\n",
    "    \n",
    "    pose,is_c = robot.next_bot(0,0,ax)\n",
    "    \n",
    "    print(\"run:\",i)\n",
    "    log.append(f'run {i} :'+repr(pose))\n",
    "    pose.plot(ax)\n",
    "    pose.plot_interval(ax)\n",
    "    robot = pose\n",
    "    \n",
    "    \n",
    "#     for I in pose.Is:\n",
    "#         I.draw(ax,'green')\n",
    "    \n",
    "\n",
    "# robot.collision_detection()\n",
    "\n",
    "\n",
    "# pose1 = pose.next_bot()\n",
    "# pose1.plot(ax)\n",
    "# pose1.plot_interval(ax)\n",
    "# pose1 = pose1.next_bot()\n",
    "# pose1.plot(ax)\n",
    "# pose1.plot_interval(ax)\n",
    "\n",
    "# i = 0\n",
    "# traj = []\n",
    "# for pose in robot:\n",
    "#     i+=1\n",
    "#     for obstacle in obstacles:\n",
    "#         obstacle.draw(ax,'red')\n",
    "#     traj.append((pose.x_bot,pose.y_bot))    \n",
    "#     pose.plot(ax)\n",
    "#     pose.plot_interval(ax)\n",
    "#     del pose\n",
    "#     if i == 4:\n",
    "#         break\n",
    "\n",
    "# path = np.array(traj).T    \n",
    "# ax.plot(path[0],path[1],'y-')\n",
    "\n",
    "        "
   ]
  },
  {
   "cell_type": "code",
   "execution_count": 25,
   "metadata": {},
   "outputs": [
    {
     "data": {
      "text/plain": [
       "['run 0 :Robot at 875.528280271123,666.3436419610946,4.083702142702977',\n",
       " 'run 1 :Robot at 903.8944988174457,570.4512144947807,5.0',\n",
       " 'run 2 :Robot at 845.0861809162436,489.57116908411615,4.083702142702977',\n",
       " 'run 3 :Robot at 873.4523994625663,393.6787416178023,5.0',\n",
       " 'run 4 :Robot at 901.818618008889,297.78631415148845,5.0',\n",
       " 'run 5 :Robot at 843.0103001076869,216.9062687408239,4.083702142702977',\n",
       " 'run 6 :Robot at 871.3765186540096,121.01384127451004,5.0',\n",
       " 'run 7 :Robot at 928.2657448644608,99.15206983924787,5.916297857297023',\n",
       " 'run 8 :Robot at 1013.5489995023959,151.3705194366949,6.832595714594046',\n",
       " 'run 9 :Robot at 1024.0384740533357,250.81885237217043,7.7488935718910685']"
      ]
     },
     "execution_count": 25,
     "metadata": {},
     "output_type": "execute_result"
    }
   ],
   "source": [
    "log\n"
   ]
  },
  {
   "cell_type": "code",
   "execution_count": 4,
   "metadata": {
    "scrolled": false
   },
   "outputs": [
    {
     "name": "stdout",
     "output_type": "stream",
     "text": [
      "comp =  Interval(5.651830281584495,87.63642450078733,-0.9230938962243309,0.6331125501174292,(894.9865438991565, 212.94082323800623))\n",
      "comp =  Interval(5.651830281584495,145.6518302815845,4.916297857297023,5.360091410955255,(894.9865438991565, 212.94082323800623))\n",
      "run: 0\n",
      "Interval(5.651830281584495,145.6518302815845,4.0,6.0,(940.8456259926776, 157.62559290851254))\n"
     ]
    },
    {
     "data": {
      "image/png": "[encoded data removed]",
      "text/plain": [
       "<Figure size 576x576 with 1 Axes>"
      ]
     },
     "metadata": {
      "needs_background": "light"
     },
     "output_type": "display_data"
    }
   ],
   "source": [
    "\n",
    "#robot = Robot(680,600,0,80,0,1,0)\n",
    "#robot = Robot(800,800,0.5,100,0,1,0)\n",
    "#robot = Robot(379.4084003997459, 907.8212642902986, 0.1308996938995747,80,0,1,0)\n",
    "#robot = Robot(600,900,3.14,80,0,1,0)\n",
    "robot = Robot(928.2657448644608,200.15206983924787,5.916297857297023,80,0,1,0)\n",
    "#robot = Robot(800,770,4.5,80,0,1,0)\n",
    "#robot = Robot(400,400,0,100,0,1,0)\n",
    "robot.set_environment(obstacles)\n",
    "\n",
    "\n",
    "fig,ax = plt.subplots(figsize=(8,8))\n",
    "ax. set_aspect('equal')\n",
    "ax.set_xlim([0, 1024])\n",
    "ax.set_ylim([0, 1024])\n",
    "ax.imshow(arena,cmap = plt.cm.gray_r,origin = 'lower')\n",
    "for obstacle in obstacles:\n",
    "#     obsa = obstacle\n",
    "#     I = robot.interval\n",
    "#     I.interval_analysis(obsa,5,5).draw(ax,\"magenta\")\n",
    "    obstacle.draw(ax,'red')\n",
    "#     del obsa\n",
    "#     del I\n",
    "robot.plot(ax)\n",
    "robot.plot_interval(ax)\n",
    "\n",
    "# print(robot.interval.gamma2.encloses(Point(obstacles[1].origin)))\n",
    "# print(\"\\n\",obstacles[1].gamma2.encloses(Point(robot.interval.gamma2.origin)))\n",
    "#robot.interval.fast_analysis(obstacles[1]).draw\n",
    "\n",
    "# inters = intersection(robot.interval.gamma2.circle,obstacles[1].gamma2.circle)\n",
    "# for inter in inters:\n",
    "#     print(robot.interval.gamma2.encloses(inter))\n",
    "#     print(obstacles[1].gamma2.encloses(inter))\n",
    "#log = []\n",
    "for i in range(1):\n",
    "\n",
    "    \n",
    "    pose,_ = robot.next_bot(1,1,ax)\n",
    "    \n",
    "    print(\"run:\",i)\n",
    "    #log.append(f'run {i} :'+repr(pose.interval))\n",
    "    #pose.plot(ax)\n",
    "    pose.plot_interval(ax)\n",
    "    print(pose.interval)\n",
    "    #robot = pose\n",
    "    \n",
    "    \n",
    "#     for I in pose.Is:\n",
    "#         I.draw(ax,'green')\n",
    "    \n",
    "\n",
    "# robot.collision_detection()\n",
    "\n",
    "\n",
    "# pose1 = pose.next_bot()\n",
    "# pose1.plot(ax)\n",
    "# pose1.plot_interval(ax)\n",
    "# pose1 = pose1.next_bot()\n",
    "# pose1.plot(ax)\n",
    "# pose1.plot_interval(ax)\n",
    "\n",
    "# i = 0\n",
    "# traj = []\n",
    "# for pose in robot:\n",
    "#     i+=1\n",
    "#     for obstacle in obstacles:\n",
    "#         obstacle.draw(ax,'red')\n",
    "#     traj.append((pose.x_bot,pose.y_bot))    \n",
    "#     pose.plot(ax)\n",
    "#     pose.plot_interval(ax)\n",
    "#     del pose\n",
    "#     if i == 4:\n",
    "#         break\n",
    "\n",
    "# path = np.array(traj).T    \n",
    "# ax.plot(path[0],path[1],'y-')\n",
    "\n",
    "        ######################################################   patch up"
   ]
  },
  {
   "cell_type": "code",
   "execution_count": null,
   "metadata": {},
   "outputs": [],
   "source": []
  },
  {
   "cell_type": "code",
   "execution_count": 23,
   "metadata": {},
   "outputs": [
    {
     "name": "stdout",
     "output_type": "stream",
     "text": [
      "['run 0 :Interval(5.651830281584495,165.6518302815845,3.083702142702977,5.083702142702977,(896.4945584806408, 695.1789087090278))', 'run 1 :Interval(5.651830281584495,165.6518302815845,4.0,6.0,(893.7814051086044, 604.6386795370966))', 'run 2 :Interval(5.651830281584495,165.6518302815845,3.083702142702977,5.083702142702977,(866.0524591257614, 518.4064358320495))', 'run 3 :Interval(5.651830281584495,165.6518302815845,4.0,6.0,(863.3393057537251, 427.86620666011805))', 'run 4 :Interval(5.651830281584495,165.6518302815845,4.0,6.0,(891.7055243000477, 331.9737791938042))', 'run 5 :Interval(5.651830281584495,165.6518302815845,3.083702142702977,5.083702142702977,(863.9765783172047, 245.7415354887572))', 'run 6 :Interval(5.651830281584495,165.6518302815845,4.0,6.0,(861.2634249451684, 155.2013063168258))', 'run 7 :Interval(5.651830281584495,165.6518302815845,4.0,6.0,(889.629643491491, 59.30887885051195))', 'run 8 :Interval(5.651830281584495,165.6518302815845,4.916297857297023,6.916297857297023,(866.463536235028, 37.910167206954554))', 'run 9 :Interval(5.651830281584495,165.6518302815845,5.832595714594046,7.832595714594046,(954.6208976752945, 58.722997951864016))']\n"
     ]
    }
   ],
   "source": [
    "print(log)"
   ]
  },
  {
   "cell_type": "code",
   "execution_count": 21,
   "metadata": {},
   "outputs": [
    {
     "data": {
      "text/plain": [
       "'aaInterval(5.651830281584495,165.6518302815845,4.0,6.0,(893.7814051086044, 604.6386795370966))'"
      ]
     },
     "execution_count": 21,
     "metadata": {},
     "output_type": "execute_result"
    }
   ],
   "source": [
    "'aa' + repr(pose.interval)"
   ]
  },
  {
   "cell_type": "code",
   "execution_count": 7,
   "metadata": {},
   "outputs": [
    {
     "name": "stdout",
     "output_type": "stream",
     "text": [
      "379.4084003997459 907.8212642902986 0.1308996938995747\n"
     ]
    }
   ],
   "source": [
    "print(pose.x_bot,pose.y_bot,pose.yaw)"
   ]
  },
  {
   "cell_type": "code",
   "execution_count": 8,
   "metadata": {},
   "outputs": [
    {
     "data": {
      "text/plain": [
       "4.283185307179586"
      ]
     },
     "execution_count": 8,
     "metadata": {},
     "output_type": "execute_result"
    }
   ],
   "source": [
    "robot.interval.theta1 - robot.interval.theta2"
   ]
  },
  {
   "cell_type": "code",
   "execution_count": 11,
   "metadata": {},
   "outputs": [
    {
     "data": {
      "text/plain": [
       "[<matplotlib.lines.Line2D at 0x7efcdccfc240>]"
      ]
     },
     "execution_count": 11,
     "metadata": {},
     "output_type": "execute_result"
    },
    {
     "data": {
      "image/png": "[encoded data removed]",
      "text/plain": [
       "<matplotlib.figure.Figure at 0x7efcdce00f28>"
      ]
     },
     "metadata": {
      "needs_background": "light"
     },
     "output_type": "display_data"
    }
   ],
   "source": [
    "robot = Robot(200,600,0.5,100,0,1,0)\n",
    "\n",
    "#robot.set_environment(obstacles)\n",
    "\n",
    "\n",
    "fig,ax = plt.subplots(figsize=(8,8))\n",
    "ax. set_aspect('equal')\n",
    "ax.set_xlim([0, 1024])\n",
    "ax.set_ylim([0, 1024])\n",
    "ax.imshow(arena,cmap = plt.cm.gray_r,origin = 'lower')\n",
    "traj = []\n",
    "robot.plot(ax)\n",
    "#robot.plot_interval(ax)\n",
    "\n",
    "#log = []\n",
    "for i in range(5):\n",
    "\n",
    "    \n",
    "    pose = robot.next_pose(50,-1)\n",
    "    \n",
    "    #print(\"run:\",i)\n",
    "    #log.append(f'run {i} :'+repr(pose))\n",
    "    traj.append((pose.x_bot,pose.y_bot))\n",
    "    pose.plot(ax)\n",
    "\n",
    "    robot = pose\n",
    "path = np.array(traj).T    \n",
    "ax.plot(path[0],path[1],'y-')    "
   ]
  },
  {
   "cell_type": "code",
   "execution_count": 16,
   "metadata": {},
   "outputs": [],
   "source": [
    "class PurePursuitTracker:\n",
    "  \n",
    "    def __init__(self, x, y, v, lookahead = 3.0):\n",
    "        \"\"\"\n",
    "        Tracks the path defined by x, y at velocity v\n",
    "        x and y must be numpy arrays\n",
    "        v and lookahead are floats\n",
    "        \"\"\"\n",
    "        self.length = len(x)\n",
    "        self.ref_idx = 0 \n",
    "        self.lookahead = lookahead\n",
    "        self.x, self.y = x, y\n",
    "        self.v, self.w = v, 0\n",
    "        self.goal_threshold = 30\n",
    "\n",
    "    def update(self, xc, yc, theta):\n",
    "        \"\"\"\n",
    "        Input: xc, yc, theta - current pose of the robot\n",
    "        Update v, w based on current pose\n",
    "        Returns True if trajectory is over.\n",
    "        \"\"\"\n",
    "        if self.ref_idx >= self.length:\n",
    "            ref_x,ref_y = self.x[-1],self.y[-1]\n",
    "        else:  \n",
    "            ref_x,ref_y = self.x[self.ref_idx],self.y[self.ref_idx]\n",
    "        \n",
    "        if self.ref_idx > self.length and np.sqrt((ref_x-self.x[-1])**2+ (ref_y-self.y[-1])**2) < self.goal_threshold: \n",
    "            return True           \n",
    "        \n",
    "        if np.sqrt((ref_x-xc)**2+ (ref_y-yc)**2) < self.lookahead:\n",
    "            self.ref_idx += 1 \n",
    "        \n",
    "        anchor = np.asarray([ref_x - xc, ref_y - yc])\n",
    "\n",
    "        theta = np.pi/2 - theta\n",
    "        rot = np.asarray([[np.cos(theta), -np.sin(theta)], [np.sin(theta), np.cos(theta)]])\n",
    "        anchor = np.dot(rot, anchor)\n",
    "        \n",
    "        L = np.sqrt(anchor[0] ** 2 + anchor[1] **2) # dist to reference path\n",
    "        \n",
    "        X = anchor[0] \n",
    "        \n",
    "        self.w = -2*self.v*X/L/L\n",
    "\n",
    "        return False\n",
    "    def revamp(self, xc, yc):\n",
    "        tracker_xy = np.column_stack((self.x,self.y))\n",
    "        curr_xy = np.array([xc,yc])\n",
    "        mina = 0\n",
    "        mind = np.inf\n",
    "        veclis = tracker_xy-curr_xy\n",
    "        for i in range(len(veclis)):\n",
    "            d = np.linalg.norm(veclis[i])\n",
    "            if d<mind:\n",
    "                mind = d    \n",
    "                mina = i\n",
    "                \n",
    "        self.x = self.x[mina:]\n",
    "        self.y = self.y[mina:]\n",
    "        print(self.x,self.y)\n",
    "        self.ref_idx = 0\n",
    "        self.length = len(self.x)\n",
    "            \n",
    "            \n",
    "        \n",
    "        \n",
    "        "
   ]
  },
  {
   "cell_type": "code",
   "execution_count": 10,
   "metadata": {},
   "outputs": [
    {
     "data": {
      "text/plain": [
       "array([ 2,  3,  5,  6, 78,  8,  9])"
      ]
     },
     "execution_count": 10,
     "metadata": {},
     "output_type": "execute_result"
    }
   ],
   "source": [
    "t = np.array([1,2,3,5,6,78,8,9])\n",
    "t[1:]"
   ]
  },
  {
   "cell_type": "code",
   "execution_count": 21,
   "metadata": {},
   "outputs": [
    {
     "name": "stdout",
     "output_type": "stream",
     "text": [
      "[200. 200. 200. 200. 200. 200. 200. 200. 200. 200. 200. 200. 200. 200.\n",
      " 200. 200. 200. 200. 200. 200. 200. 200. 200. 200. 200. 200. 200. 200.\n",
      " 200. 200. 200. 200. 200. 200. 200. 200. 200. 200. 200. 200. 200. 200.\n",
      " 200. 200. 200. 200.] [692. 680. 668. 656. 644. 632. 620. 608. 596. 584. 572. 560. 548. 536.\n",
      " 524. 512. 500. 488. 476. 464. 452. 440. 428. 416. 404. 392. 380. 368.\n",
      " 356. 344. 332. 320. 308. 296. 284. 272. 260. 248. 236. 224. 212. 200.\n",
      " 188. 176. 164. 152.]\n",
      "ARRIVED!!\n"
     ]
    },
    {
     "data": {
      "text/plain": [
       "[<matplotlib.lines.Line2D at 0x1219d110>]"
      ]
     },
     "execution_count": 21,
     "metadata": {},
     "output_type": "execute_result"
    },
    {
     "data": {
      "image/png": "[encoded data removed]",
      "text/plain": [
       "<Figure size 576x576 with 1 Axes>"
      ]
     },
     "metadata": {
      "needs_background": "light"
     },
     "output_type": "display_data"
    }
   ],
   "source": [
    "robot = Robot(210,700,-0.78,13,0,0,0)\n",
    "\n",
    "#robot.set_environment(obstacles)\n",
    "\n",
    "\n",
    "fig,ax = plt.subplots(figsize=(8,8))\n",
    "ax. set_aspect('equal')\n",
    "ax.set_xlim([0, 1024])\n",
    "ax.set_ylim([0, 1024])\n",
    "ax.imshow(arena,cmap = plt.cm.gray_r,origin = 'lower')\n",
    "traj = []\n",
    "path = np.array([[200,800-i*12,np.pi/2] for i in range(55)])\n",
    "x,y,t = path.T\n",
    "tracker = PurePursuitTracker(x,y,10,lookahead=80.0) \n",
    "pose = [200, 200, np.pi/2] #arbitrary initial pose\n",
    "#robot.plot(ax)\n",
    "i = 0\n",
    "while True:\n",
    "    #print(\"v = \",tracker.v,\" w = \",tracker.w)\n",
    "    next_bot = robot.next_pose(tracker.v,tracker.w)\n",
    "    pose = [next_bot.x_bot,next_bot.y_bot,next_bot.yaw]\n",
    "    if i ==0 :\n",
    "        tracker.revamp(pose[0],pose[1])\n",
    "    #next_bot.plot(ax)\n",
    "    if tracker.update(*pose):\n",
    "        print(\"ARRIVED!!\")    \n",
    "        break\n",
    "    traj.append([*pose, tracker.w, tracker.ref_idx]) \n",
    "    robot = next_bot\n",
    "    i+=1\n",
    "    if i == 100:\n",
    "        break\n",
    "traced = np.array(traj).T    \n",
    "ax.plot(traced[0],traced[1],'b-') \n",
    "path = np.array(path).T    \n",
    "ax.plot(path[0],path[1],'y-')  "
   ]
  },
  {
   "cell_type": "code",
   "execution_count": 37,
   "metadata": {},
   "outputs": [
    {
     "data": {
      "text/plain": [
       "<matplotlib.collections.PathCollection at 0x2a30fad0>"
      ]
     },
     "execution_count": 37,
     "metadata": {},
     "output_type": "execute_result"
    },
    {
     "data": {
      "image/png": "[encoded data removed]",
      "text/plain": [
       "<Figure size 576x576 with 1 Axes>"
      ]
     },
     "metadata": {
      "needs_background": "light"
     },
     "output_type": "display_data"
    }
   ],
   "source": [
    "A = (250,800)\n",
    "B = (200,100)\n",
    "C = (660,200)\n",
    "D = (800,600)\n",
    "E = (400,1000)\n",
    "fig,ax = plt.subplots(figsize=(8,8))\n",
    "ax. set_aspect('equal')\n",
    "ax.set_xlim([0, 1024])\n",
    "ax.set_ylim([0, 1024])\n",
    "ax.imshow(arena,cmap = plt.cm.gray_r,origin = 'lower')\n",
    "ax.scatter(*A,marker='.',color = 'red',s=50)\n",
    "ax.scatter(*B,marker='.',color = 'red',s=50)\n",
    "ax.scatter(*C,marker='.',color = 'red',s=50)\n",
    "ax.scatter(*D,marker='.',color = 'red',s=50)\n",
    "ax.scatter(*E,marker='.',color = 'red',s=50)\n",
    " "
   ]
  },
  {
   "cell_type": "code",
   "execution_count": 6,
   "metadata": {},
   "outputs": [],
   "source": [
    "\n",
    "def get_line(start, end):\n",
    "    # Setup initial conditions\n",
    "    x1, y1 = start\n",
    "    x2, y2 = end\n",
    "    dx = x2 - x1\n",
    "    dy = y2 - y1\n",
    "    \n",
    "    # Determine how steep the line is\n",
    "    is_steep = abs(dy) > abs(dx)\n",
    "    # Rotate line\n",
    "    if is_steep:\n",
    "        x1, y1 = y1, x1\n",
    "        x2, y2 = y2, x2\n",
    "    # Swap start and end points if necessary and store swap state\n",
    "    swapped = False\n",
    "    if x1 > x2:\n",
    "        x1, x2 = x2, x1\n",
    "        y1, y2 = y2, y1\n",
    "        swapped = True\n",
    "    # Recalculate differentials\n",
    "    dx = x2 - x1\n",
    "    dy = y2 - y1\n",
    "    # Calculate error\n",
    "    error = int(dx / 2.0)\n",
    "    ystep = 1 if y1 < y2 else -1\n",
    "    # Iterate over bounding box generating points between start and end\n",
    "    y = y1\n",
    "    points = []\n",
    "    for x in range(x1, x2 + 1):\n",
    "        coord = (y, x) if is_steep else (x, y)\n",
    "        points.append(coord)\n",
    "        error -= abs(dy)\n",
    "        if error < 0:\n",
    "            y += ystep\n",
    "            error += dx\n",
    "    # Reverse the list if the coordinates were swapped\n",
    "    if swapped:\n",
    "        points.reverse()\n",
    "    pts = []    \n",
    "    for i in range(len(points)):\n",
    "        if not i%50:\n",
    "            pts.append(points[i])\n",
    "            \n",
    "    slop = Segment(start,end).slope\n",
    "    if slop is Segment((0,0),(0,1)).slope:\n",
    "        s = np.arctan(float(slop)*(end[1]-start[1]))\n",
    "    else:\n",
    "        s = np.arctan(float(slop))\n",
    "    thetas = s*np.ones((len(pts),1)) \n",
    "    poses = np.append(np.array(pts),thetas,axis=1)\n",
    "    \n",
    "    return poses"
   ]
  },
  {
   "cell_type": "code",
   "execution_count": 95,
   "metadata": {},
   "outputs": [
    {
     "data": {
      "text/plain": [
       "15"
      ]
     },
     "execution_count": 95,
     "metadata": {},
     "output_type": "execute_result"
    }
   ],
   "source": [
    "BA = get_line(B,A)\n",
    "len(BA)"
   ]
  },
  {
   "cell_type": "code",
   "execution_count": 39,
   "metadata": {},
   "outputs": [],
   "source": [
    "AB = get_line(A,B)\n",
    "BC = get_line(B,C)\n",
    "\n",
    "CD = get_line(C,D)\n",
    "DE = get_line(D,E)"
   ]
  },
  {
   "cell_type": "code",
   "execution_count": 40,
   "metadata": {},
   "outputs": [
    {
     "data": {
      "text/plain": [
       "[<matplotlib.lines.Line2D at 0x2a36ac30>]"
      ]
     },
     "execution_count": 40,
     "metadata": {},
     "output_type": "execute_result"
    },
    {
     "data": {
      "image/png": "[encoded data removed]",
      "text/plain": [
       "<Figure size 576x576 with 1 Axes>"
      ]
     },
     "metadata": {
      "needs_background": "light"
     },
     "output_type": "display_data"
    }
   ],
   "source": [
    "fig,ax = plt.subplots(figsize=(8,8))\n",
    "ax. set_aspect('equal')\n",
    "ax.set_xlim([0, 1024])\n",
    "ax.set_ylim([0, 1024])\n",
    "ax.imshow(arena,cmap = plt.cm.gray_r,origin = 'lower')\n",
    "ax.scatter(*A,marker='.',color = 'red',s=50)\n",
    "ax.scatter(*B,marker='.',color = 'red',s=50)\n",
    "ax.scatter(*C,marker='.',color = 'red',s=50)\n",
    "ax.scatter(*D,marker='.',color = 'red',s=50)\n",
    "ax.scatter(*E,marker='.',color = 'red',s=50)\n",
    "\n",
    "ax.plot(AB.T[0],AB.T[1],'y-') \n",
    "ax.plot(BC.T[0],BC.T[1],'y-') \n",
    "ax.plot(CD.T[0],CD.T[1],'y-') \n",
    "ax.plot(DE.T[0],DE.T[1],'y-') "
   ]
  },
  {
   "cell_type": "code",
   "execution_count": 7,
   "metadata": {},
   "outputs": [],
   "source": [
    "AA = (200,600)\n",
    "BB = (200,300)\n",
    "AABB = get_line(AA,BB)"
   ]
  },
  {
   "cell_type": "code",
   "execution_count": 8,
   "metadata": {},
   "outputs": [],
   "source": [
    "from IPython.display import clear_output"
   ]
  },
  {
   "cell_type": "code",
   "execution_count": 12,
   "metadata": {},
   "outputs": [
    {
     "name": "stdout",
     "output_type": "stream",
     "text": [
      "no collision\n"
     ]
    },
    {
     "ename": "AttributeError",
     "evalue": "'tuple' object has no attribute 'x_bot'",
     "output_type": "error",
     "traceback": [
      "\u001b[1;31m---------------------------------------------------------------------------\u001b[0m",
      "\u001b[1;31mAttributeError\u001b[0m                            Traceback (most recent call last)",
      "\u001b[1;32m<ipython-input-12-e1d4ec8c30c4>\u001b[0m in \u001b[0;36m<module>\u001b[1;34m\u001b[0m\n\u001b[0;32m     24\u001b[0m         \u001b[0mnex_bot\u001b[0m \u001b[1;33m=\u001b[0m \u001b[0mrobot\u001b[0m\u001b[1;33m.\u001b[0m\u001b[0mnext_bot\u001b[0m\u001b[1;33m(\u001b[0m\u001b[0mtracker\u001b[0m\u001b[1;33m.\u001b[0m\u001b[0mv\u001b[0m\u001b[1;33m,\u001b[0m\u001b[0mtracker\u001b[0m\u001b[1;33m.\u001b[0m\u001b[0mw\u001b[0m\u001b[1;33m,\u001b[0m\u001b[0max\u001b[0m\u001b[1;33m)\u001b[0m\u001b[1;33m\u001b[0m\u001b[1;33m\u001b[0m\u001b[0m\n\u001b[0;32m     25\u001b[0m         \u001b[1;31m#nex_bot = robot.next_pose(tracker.v,tracker.w)\u001b[0m\u001b[1;33m\u001b[0m\u001b[1;33m\u001b[0m\u001b[1;33m\u001b[0m\u001b[0m\n\u001b[1;32m---> 26\u001b[1;33m         \u001b[0mpose\u001b[0m \u001b[1;33m=\u001b[0m \u001b[1;33m[\u001b[0m\u001b[0mnex_bot\u001b[0m\u001b[1;33m.\u001b[0m\u001b[0mx_bot\u001b[0m\u001b[1;33m,\u001b[0m\u001b[0mnex_bot\u001b[0m\u001b[1;33m.\u001b[0m\u001b[0my_bot\u001b[0m\u001b[1;33m,\u001b[0m\u001b[0mnex_bot\u001b[0m\u001b[1;33m.\u001b[0m\u001b[0myaw\u001b[0m\u001b[1;33m]\u001b[0m\u001b[1;33m\u001b[0m\u001b[1;33m\u001b[0m\u001b[0m\n\u001b[0m\u001b[0;32m     27\u001b[0m         \u001b[1;31m#nex_bot.plot(ax)\u001b[0m\u001b[1;33m\u001b[0m\u001b[1;33m\u001b[0m\u001b[1;33m\u001b[0m\u001b[0m\n\u001b[0;32m     28\u001b[0m         \u001b[1;31m#nex_bot.plot_interval(ax)\u001b[0m\u001b[1;33m\u001b[0m\u001b[1;33m\u001b[0m\u001b[1;33m\u001b[0m\u001b[0m\n",
      "\u001b[1;31mAttributeError\u001b[0m: 'tuple' object has no attribute 'x_bot'"
     ]
    },
    {
     "data": {
      "image/png": "[encoded data removed]",
      "text/plain": [
       "<Figure size 576x576 with 1 Axes>"
      ]
     },
     "metadata": {
      "needs_background": "light"
     },
     "output_type": "display_data"
    }
   ],
   "source": [
    "full = np.concatenate((AB,BC,CD,DE),axis=0)\n",
    "robot = Robot(*A,4.7,20,0,1,0)\n",
    "\n",
    "robot.set_environment(obstacles)\n",
    "\n",
    "\n",
    "fig,ax = plt.subplots(figsize=(8,8))\n",
    "ax. set_aspect('equal')\n",
    "ax.set_xlim([0, 1024])\n",
    "ax.set_ylim([0, 1024])\n",
    "ax.imshow(arena,cmap = plt.cm.gray_r,origin = 'lower')\n",
    "traj = []\n",
    "path = full #PQ #np.array([[200,800-i*12,np.pi/2] for i in range(55)])\n",
    "x,y,t = path.T\n",
    "tracker = PurePursuitTracker(x,y,20,lookahead=50) \n",
    "pose = [robot.x_bot,robot.y_bot,robot.yaw] #arbitrary initial pose\n",
    "# robot.plot(ax)\n",
    "robot.plot_interval(ax)\n",
    "i = 0\n",
    "while True:\n",
    "    try:\n",
    "        #print(\"v = \",tracker.v,\" w = \",tracker.w)\n",
    "\n",
    "        #nex_bot = robot.next_bot(tracker.v,tracker.w,ax)\n",
    "        #nex_bot = robot.next_pose(tracker.v,tracker.w)\n",
    "        pose = [nex_bot.x_bot,nex_bot.y_bot,nex_bot.yaw]\n",
    "        #nex_bot.plot(ax)\n",
    "        #nex_bot.plot_interval(ax)\n",
    "        if tracker.update(*pose): \n",
    "            print(\"ARRIVED!!\")    \n",
    "            break\n",
    "        traj.append([*pose, tracker.w, tracker.ref_idx]) \n",
    "        robot = nex_bot\n",
    "        i+=1\n",
    "        print(\"run : \",i)\n",
    "        if i == 150:\n",
    "            break\n",
    "    except KeyboardInterrupt:\n",
    "        break\n",
    "plt.annotate(\"A\",A)\n",
    "plt.annotate(\"B\",B)        \n",
    "traced = np.array(traj).T    \n",
    "ax.plot(traced[0],traced[1],'b-') \n",
    "path = np.array(path).T    \n",
    "ax.plot(path[0],path[1],'y-')  \n"
   ]
  },
  {
   "cell_type": "code",
   "execution_count": 44,
   "metadata": {
    "scrolled": false
   },
   "outputs": [
    {
     "data": {
      "image/png": "[encoded data removed]",
      "text/plain": [
       "<Figure size 576x576 with 1 Axes>"
      ]
     },
     "metadata": {
      "needs_background": "light"
     },
     "output_type": "display_data"
    },
    {
     "data": {
      "image/png": "[encoded data removed]",
      "text/plain": [
       "<Figure size 576x576 with 1 Axes>"
      ]
     },
     "metadata": {
      "needs_background": "light"
     },
     "output_type": "display_data"
    }
   ],
   "source": [
    "#full = np.concatenate((AB,BC,CD,DE),axis=0)\n",
    "# AA = (250,600)\n",
    "# BB = (0,600)\n",
    "# AABB = get_line(AA,BB)\n",
    "\n",
    "full = np.concatenate((AB,BC,CD,DE),axis=0)\n",
    "robot = Robot(*(200,200),4.7,20,0,1,0)\n",
    "\n",
    "#robot = Robot(*(250,600),3.14,20,0,1,0)\n",
    "\n",
    "robot.set_environment(obstacles)\n",
    "\n",
    "\n",
    "fig,ax = plt.subplots(figsize=(8,8))\n",
    "ax. set_aspect('equal')\n",
    "ax.set_xlim([0, 1024])\n",
    "ax.set_ylim([0, 1024])\n",
    "ax.imshow(arena,cmap = plt.cm.gray_r,origin = 'lower')\n",
    "traj = []\n",
    "path = full #AABB #PQ #np.array([[200,800-i*12,np.pi/2] for i in range(55)])\n",
    "x,y,t = path.T\n",
    "tracker = PurePursuitTracker(x,y,20,lookahead=80) \n",
    "pose = [robot.x_bot,robot.y_bot,robot.yaw] #arbitrary initial pose\n",
    "# robot.plot(ax)\n",
    "robot.plot_interval(ax)\n",
    "i = 0\n",
    "while True:\n",
    "    try:\n",
    "        #print(\"v = \",tracker.v,\" w = \",tracker.w)\n",
    "\n",
    "          \n",
    "#         plt.clf()\n",
    "        clear_output(wait = True)\n",
    "        fig,ax = plt.subplots(figsize=(8,8))\n",
    "        ax. set_aspect('equal')\n",
    "        ax.set_xlim([0, 1024])\n",
    "        ax.set_ylim([0, 1024])\n",
    "        ax.imshow(arena,cmap = plt.cm.gray_r,origin = 'lower')\n",
    "        \n",
    "        robot.plot(ax)\n",
    "        nex_bot,is_collide = robot.next_bot(tracker.v,tracker.w,ax)\n",
    "        pose = [nex_bot.x_bot,nex_bot.y_bot,nex_bot.yaw]\n",
    "        \n",
    "        #nex_bot = robot.next_pose(tracker.v,tracker.w)\n",
    "        #nex_bot.plot_interval(ax)\n",
    "        #print(is_collide)\n",
    "        if is_collide or i==0:\n",
    "            tracker.revamp(pose[0],pose[1])\n",
    "            \n",
    "        if tracker.update(*pose): \n",
    "            print(\"ARRIVED!!\")    \n",
    "            break\n",
    "        traj.append([*pose, tracker.w, tracker.ref_idx]) \n",
    "        robot = nex_bot\n",
    "        i+=1\n",
    "        print(\"run : \",i)\n",
    "        if i == 150:\n",
    "            break\n",
    "        plt.show()\n",
    "        #plt.pause(0.5)    \n",
    "    except KeyboardInterrupt:\n",
    "        try:\n",
    "            break\n",
    "        except GeometryError:\n",
    "            break\n",
    "        \n",
    "clear_output(wait = True)    \n",
    "fig,ax = plt.subplots(figsize=(8,8))\n",
    "ax. set_aspect('equal')\n",
    "ax.set_xlim([0, 1024])\n",
    "ax.set_ylim([0, 1024])\n",
    "ax.imshow(arena,cmap = plt.cm.gray_r,origin = 'lower')\n",
    "\n",
    "plt.annotate(\"A\",A)\n",
    "plt.annotate(\"B\",B)        \n",
    "traced = np.array(traj).T    \n",
    "ax.plot(traced[0],traced[1],'b-') \n",
    "path = np.array(path).T    \n",
    "ax.plot(path[0],path[1],'y-')\n",
    "plt.show()\n"
   ]
  },
  {
   "cell_type": "code",
   "execution_count": 55,
   "metadata": {},
   "outputs": [
    {
     "data": {
      "image/png": "[encoded data removed]",
      "text/plain": [
       "<matplotlib.figure.Figure at 0x7f4d62ec6208>"
      ]
     },
     "metadata": {
      "needs_background": "light"
     },
     "output_type": "display_data"
    }
   ],
   "source": [
    "plt.annotate(\"A\",A)\n",
    "plt.annotate(\"B\",B)        \n",
    "traced = np.array(traj).T    \n",
    "ax.plot(traced[0],traced[1],'b-') \n",
    "path = np.array(path).T "
   ]
  },
  {
   "cell_type": "code",
   "execution_count": 166,
   "metadata": {},
   "outputs": [
    {
     "name": "stdout",
     "output_type": "stream",
     "text": [
      "ARRIVED!!\n"
     ]
    },
    {
     "data": {
      "text/plain": [
       "[<matplotlib.lines.Line2D at 0x7efcc949dc88>]"
      ]
     },
     "execution_count": 166,
     "metadata": {},
     "output_type": "execute_result"
    },
    {
     "data": {
      "image/png": "[encoded data removed]",
      "text/plain": [
       "<matplotlib.figure.Figure at 0x7efcc94ac4a8>"
      ]
     },
     "metadata": {
      "needs_background": "light"
     },
     "output_type": "display_data"
    }
   ],
   "source": [
    "total_path = np.concatenate((AB,BC,CD,DE),axis=0)\n",
    "robot = Robot(*A,-np.pi/2,1,0,0,0)\n",
    "\n",
    "#robot.set_environment(obstacles)\n",
    "\n",
    "\n",
    "fig,ax = plt.subplots(figsize=(8,8))\n",
    "ax. set_aspect('equal')\n",
    "ax.set_xlim([0, 1024])\n",
    "ax.set_ylim([0, 1024])\n",
    "ax.imshow(arena,cmap = plt.cm.gray_r,origin = 'lower')\n",
    "traj = []\n",
    "path = total_path #np.array([[200,800-i*12,np.pi/2] for i in range(55)])\n",
    "x,y,t = path.T\n",
    "tracker = PurePursuitTracker(x,y,10,lookahead=80.0) \n",
    "pose = [robot.x_bot,robot.y_bot,robot.yaw] #arbitrary initial pose\n",
    "#robot.plot(ax)\n",
    "i = 0\n",
    "while True:\n",
    "    #print(\"v = \",tracker.v,\" w = \",tracker.w)\n",
    "    next_bot = robot.next_pose(tracker.v,tracker.w)\n",
    "    pose = [next_bot.x_bot,next_bot.y_bot,next_bot.yaw]\n",
    "    #next_bot.plot(ax)\n",
    "    if tracker.update(*pose):\n",
    "        print(\"ARRIVED!!\")    \n",
    "        break\n",
    "    traj.append([*pose, tracker.w, tracker.ref_idx]) \n",
    "    robot = next_bot\n",
    "    i+=1\n",
    "    if i == 1000:\n",
    "        break\n",
    "plt.annotate(\"A\",A)\n",
    "plt.annotate(\"B\",B) \n",
    "plt.annotate(\"A\",C)\n",
    "plt.annotate(\"B\",D)\n",
    "plt.annotate(\"A\",E)\n",
    "\n",
    "traced = np.array(traj).T    \n",
    "ax.plot(traced[0],traced[1],'b-') \n",
    "path = np.array(path).T    \n",
    "ax.plot(path[0],path[1],'y-') "
   ]
  },
  {
   "cell_type": "code",
   "execution_count": 156,
   "metadata": {},
   "outputs": [
    {
     "data": {
      "text/plain": [
       "47"
      ]
     },
     "execution_count": 156,
     "metadata": {},
     "output_type": "execute_result"
    }
   ],
   "source": [
    "len(BC)"
   ]
  },
  {
   "cell_type": "code",
   "execution_count": 144,
   "metadata": {},
   "outputs": [
    {
     "data": {
      "text/plain": [
       "(200, 800)"
      ]
     },
     "execution_count": 144,
     "metadata": {},
     "output_type": "execute_result"
    }
   ],
   "source": [
    "A"
   ]
  },
  {
   "cell_type": "code",
   "execution_count": 128,
   "metadata": {},
   "outputs": [
    {
     "data": {
      "text/plain": [
       "461"
      ]
     },
     "execution_count": 128,
     "metadata": {},
     "output_type": "execute_result"
    }
   ],
   "source": [
    "len(BC)"
   ]
  },
  {
   "cell_type": "code",
   "execution_count": 73,
   "metadata": {},
   "outputs": [
    {
     "data": {
      "text/plain": [
       "array([[200, 800],\n",
       "       [200, 799],\n",
       "       [200, 798],\n",
       "       ...,\n",
       "       [200, 202],\n",
       "       [200, 201],\n",
       "       [200, 200]])"
      ]
     },
     "execution_count": 73,
     "metadata": {},
     "output_type": "execute_result"
    }
   ],
   "source": [
    "np.array(get_line((200,800),(200,200)))"
   ]
  },
  {
   "cell_type": "code",
   "execution_count": 26,
   "metadata": {},
   "outputs": [
    {
     "data": {
      "text/plain": [
       "[<matplotlib.lines.Line2D at 0x1aaf3650>]"
      ]
     },
     "execution_count": 26,
     "metadata": {},
     "output_type": "execute_result"
    },
    {
     "data": {
      "image/png": "[encoded data removed]",
      "text/plain": [
       "<Figure size 576x576 with 1 Axes>"
      ]
     },
     "metadata": {
      "needs_background": "light"
     },
     "output_type": "display_data"
    }
   ],
   "source": [
    "fig,ax = plt.subplots(figsize=(8,8))\n",
    "ax.imshow(arena,cmap = plt.cm.gray_r,origin = 'lower')\n",
    "tracker = PurePursuitTracker(x,y,vmax) \n",
    "p = np.array(traj).T    \n",
    "ax.plot(p[0],p[1])\n",
    "        "
   ]
  },
  {
   "cell_type": "code",
   "execution_count": null,
   "metadata": {},
   "outputs": [],
   "source": []
  },
  {
   "cell_type": "code",
   "execution_count": null,
   "metadata": {},
   "outputs": [],
   "source": [
    "x,y,t = \n",
    "tracker = PurePursuitTracker(x,y,vmax) \n",
    "pose = 0, 0, np.pi/2 #arbitrary initial pose\n",
    "x0,y0,t0 = pose # record it for plotting\n",
    "\n",
    "traj = []\n",
    "while True:\n",
    "    print(\"v = \",tracker.v,\" w = \",tracker.w)\n",
    "    pose = simulate_unicycle(pose,tracker.v,tracker.w)\n",
    "\n",
    "    if tracker.update(*pose):\n",
    "        print(\"ARRIVED!!\")    \n",
    "        break\n",
    "    traj.append([*pose, tracker.w, tracker.ref_idx]) "
   ]
  }
 ],
 "metadata": {
  "kernelspec": {
   "display_name": "Python 3",
   "language": "python",
   "name": "python3"
  },
  "language_info": {
   "codemirror_mode": {
    "name": "ipython",
    "version": 3
   },
   "file_extension": ".py",
   "mimetype": "text/x-python",
   "name": "python",
   "nbconvert_exporter": "python",
   "pygments_lexer": "ipython3",
   "version": "3.7.6"
  }
 },
 "nbformat": 4,
 "nbformat_minor": 4
}
