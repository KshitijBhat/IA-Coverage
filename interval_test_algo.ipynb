{
 "cells": [
  {
   "cell_type": "code",
   "execution_count": 2,
   "id": "b69c3351",
   "metadata": {},
   "outputs": [],
   "source": [
    "from inclusion_tests import *\n"
   ]
  },
  {
   "cell_type": "code",
   "execution_count": 4,
   "id": "620a51ed",
   "metadata": {},
   "outputs": [],
   "source": [
    "class Interval:\n",
    "    def __init__(self,r1,r2,theta1,theta2,x=0.0,y=0.0):\n",
    "        if r1>r2:\n",
    "            r1,r2 = r2,r1\n",
    "        \n",
    "        if theta1>theta2:\n",
    "            theta1,theta2 = thata2,theta1\n",
    "            \n",
    "        self.r1 = r1\n",
    "        self.r2 = r2  \n",
    "        self.theta1 = theta1\n",
    "        self.theta2 = theta2\n",
    "        self.x = x\n",
    "        self.y = y\n",
    "        self.gamma1 = Arc(r1,theta1,theta2,x,y)\n",
    "        self.gamma2 = Arc(r2,theta1,theta2,x,y)\n",
    "        self.l1 = Segment((x+r1*np.cos(theta1),y+r1*np.sin(theta1)),(x+r2*np.cos(theta1),y+r2*np.sin(theta1)))\n",
    "        self.l2 = Segment((x+r1*np.cos(theta2),y+r1*np.sin(theta2)),(x+r2*np.cos(theta2),y+r2*np.sin(theta2)))\n",
    "        self.l = [self.l1,self.l2]\n",
    "        self.gamma = [self.gamma1,self.gamma2]\n",
    "    def bisect(self):\n",
    "        L = Interval(self.r1,(self.r1+self.r2)/2,self.theta1, (self.theta1+self.theta2)/2)\n",
    "        R = Interval((self.r1+self.r2)/2,self.r2, (self.theta1+self.theta2)/2,self.theta2)\n",
    "        return L,R"
   ]
  },
  {
   "cell_type": "code",
   "execution_count": 5,
   "id": "c6e432dd",
   "metadata": {},
   "outputs": [],
   "source": [
    "def inclusion_test(I,Iprime):\n",
    "    for i in range(2):\n",
    "        j = 1 if i == 0 else 0\n",
    "        if arc_arc(I.gamma[i],Iprime.gamma[j]):\n",
    "            return True\n",
    "        if line_arc(I.l[i],Iprime.gamma[j]):\n",
    "            return True\n",
    "        if line_line(I.l[i],Iprime.l[j]):\n",
    "            return True\n",
    "    return False"
   ]
  },
  {
   "cell_type": "code",
   "execution_count": null,
   "id": "0ef23f10",
   "metadata": {},
   "outputs": [],
   "source": [
    "def interval_analysis(I,Iprime,Nr,Ntheta):\n",
    "    if not inclusion_test(I,Iprime):\n",
    "        J = Interval(0,0,0,0)\n",
    "    else:\n",
    "        N = Nr\n",
    "        n = 0\n",
    "        for i in range(2):\n",
    "            L,R = I.bisect()\n",
    "            while n<N:\n",
    "                LL,LR = L.bisect()\n",
    "                RL,RR = R.bisect()\n",
    "                if not inclusion_test(R,Iprime):\n",
    "                    L = LL\n",
    "                    R = LR\n",
    "                elif not inclusion_test(L,Iprime):\n",
    "                    L = RL\n",
    "                    R = RR\n",
    "                else:\n",
    "                    if inclusion_test(LL,Iprime):\n",
    "                        L = LL\n",
    "                    else:\n",
    "                        L = LR\n",
    "                    if inclusion_test(RR,Iprime):\n",
    "                        R = RR\n",
    "                    else:\n",
    "                        R = RL\n",
    "                n += 1\n",
    "            J[i] = interval(Li_, Ri-) #####################need a new constructor.\n",
    "            N = Ntheta\n",
    "            n = 0\n",
    "                        \n",
    "        \n",
    "    "
   ]
  }
 ],
 "metadata": {
  "kernelspec": {
   "display_name": "Python 3",
   "language": "python",
   "name": "python3"
  },
  "language_info": {
   "codemirror_mode": {
    "name": "ipython",
    "version": 3
   },
   "file_extension": ".py",
   "mimetype": "text/x-python",
   "name": "python",
   "nbconvert_exporter": "python",
   "pygments_lexer": "ipython3",
   "version": "3.6.9"
  }
 },
 "nbformat": 4,
 "nbformat_minor": 5
}
