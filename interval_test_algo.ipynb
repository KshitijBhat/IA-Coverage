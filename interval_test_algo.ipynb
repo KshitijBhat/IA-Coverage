{
 "cells": [
  {
   "cell_type": "code",
   "execution_count": 1,
   "id": "b69c3351",
   "metadata": {},
   "outputs": [],
   "source": [
    "from inclusion_tests import Arc,arc_arc,line_arc,line_line\n",
    "import matplotlib.pyplot as plt\n",
    "from matplotlib.patches import Arc as Arc_patch\n",
    "import numpy as np\n",
    "from matplotlib import collections  as mc\n",
    "\n"
   ]
  },
  {
   "cell_type": "code",
   "execution_count": 4,
   "id": "b695403b",
   "metadata": {},
   "outputs": [],
   "source": [
    "from sympy.geometry import Segment"
   ]
  },
  {
   "cell_type": "code",
   "execution_count": 74,
   "id": "c7a845d8",
   "metadata": {},
   "outputs": [],
   "source": [
    "\n",
    "\n",
    "def draw(ax,r,theta1,theta2,x,y):\n",
    "    ax.add_patch(Arc_patch((x, y), 2*r,2*r, theta1=theta1, theta2=theta2, linewidth=1, color='red'))"
   ]
  },
  {
   "cell_type": "code",
   "execution_count": 93,
   "id": "2b363c6a",
   "metadata": {},
   "outputs": [
    {
     "data": {
      "image/png": "[encoded data removed]",
      "text/plain": [
       "<matplotlib.figure.Figure at 0x7f85796e5518>"
      ]
     },
     "metadata": {
      "needs_background": "light"
     },
     "output_type": "display_data"
    }
   ],
   "source": [
    "arc1 = Arc(2,0,1.0)\n",
    "arc2 = Arc(5,0,1.0)\n",
    "l1_x,l1_y = [arc1.endpoints[0][0],arc1.endpoints[0][1]],[arc2.endpoints[0][0],arc2.endpoints[0][1]]\n",
    "l2_x,l2_y = [arc1.endpoints[1][0],arc1.endpoints[1][1]],[arc2.endpoints[1][0],arc2.endpoints[1][1]]\n",
    "lc = mc.LineCollection([[l1_x,l1_y],[l2_x,l2_y]], colors = 'red', linewidths=1)\n",
    "fig,ax = plt.subplots() \n",
    "\n",
    "ax.add_collection(lc)\n",
    "draw(ax,arc1.r,np.rad2deg(arc1.theta1),np.rad2deg(arc1.theta2),0,0)\n",
    "\n",
    "\n",
    "draw(ax,arc2.r,np.rad2deg(arc2.theta1),np.rad2deg(arc2.theta2),0,0)\n",
    "#plt.grid()\n",
    "plt.axis('equal')\n",
    "\n",
    "plt.show()\n"
   ]
  },
  {
   "cell_type": "code",
   "execution_count": 3,
   "id": "467da6a3",
   "metadata": {},
   "outputs": [
    {
     "data": {
      "image/png": "[encoded data removed]",
      "text/plain": [
       "<matplotlib.figure.Figure at 0x7f3a90efcb00>"
      ]
     },
     "metadata": {
      "needs_background": "light"
     },
     "output_type": "display_data"
    }
   ],
   "source": [
    "arc1 = Arc(2,0,1.0)\n",
    "arc2 = Arc(5,0,1.0)\n",
    "fig,ax = plt.subplots()\n",
    "arc1.draw(ax,'red')\n",
    "arc2.draw(ax,'blue')\n",
    "plt.axis('equal')\n",
    "plt.grid()\n",
    "plt.show()"
   ]
  },
  {
   "cell_type": "code",
   "execution_count": 46,
   "id": "7131ae70",
   "metadata": {},
   "outputs": [
    {
     "data": {
      "text/latex": [
       "$\\displaystyle \\frac{710913538012277}{1000000000000000}$"
      ],
      "text/plain": [
       "710913538012277/1000000000000000"
      ]
     },
     "execution_count": 46,
     "metadata": {},
     "output_type": "execute_result"
    }
   ],
   "source": [
    "arc1.endpoints[1][0]"
   ]
  },
  {
   "cell_type": "code",
   "execution_count": 10,
   "id": "b4f39ad8",
   "metadata": {},
   "outputs": [],
   "source": [
    "%matplotlib inline"
   ]
  },
  {
   "cell_type": "code",
   "execution_count": 30,
   "id": "c6ef3648",
   "metadata": {},
   "outputs": [
    {
     "data": {
      "text/plain": [
       "<matplotlib.patches.Arc at 0x7f8579f7c5c0>"
      ]
     },
     "execution_count": 30,
     "metadata": {},
     "output_type": "execute_result"
    },
    {
     "data": {
      "image/png": "[encoded data removed]",
      "text/plain": [
       "<matplotlib.figure.Figure at 0x7f8579f7c1d0>"
      ]
     },
     "metadata": {
      "needs_background": "light"
     },
     "output_type": "display_data"
    }
   ],
   "source": [
    "\n",
    "fig,ax = plt.subplots(figsize = (5,5)) \n",
    "\n",
    "#ax.invert_xaxis() # invert direction of x-axis since arc can only be drawn anti-clockwise\n",
    "ax.add_patch(Arc_patch((0, 0), 1,1, theta1=0, theta2=90, linewidth=1, color='red')) # draw arc\n",
    "\n"
   ]
  },
  {
   "cell_type": "code",
   "execution_count": 2,
   "id": "620a51ed",
   "metadata": {},
   "outputs": [],
   "source": [
    "class Interval:\n",
    "    def __init__(self,r1,r2,theta1,theta2,origin=(0,0)):\n",
    "        if r1>r2:\n",
    "            r1,r2 = r2,r1\n",
    "        \n",
    "        if theta1>theta2:\n",
    "            theta1,theta2 = thata2,theta1\n",
    "            \n",
    "        self.r1 = r1\n",
    "        self.r2 = r2  \n",
    "        self.theta1 = theta1\n",
    "        self.theta2 = theta2\n",
    "        x,y = origin\n",
    "        self.x = x\n",
    "        self.y = y\n",
    "        self.gamma1 = Arc(r1,theta1,theta2,origin=origin)\n",
    "        self.gamma2 = Arc(r2,theta1,theta2,origin=origin)\n",
    "        self.l1 = Segment((x+r1*np.cos(theta1),y+r1*np.sin(theta1)),(x+r2*np.cos(theta1),y+r2*np.sin(theta1)))\n",
    "        self.l2 = Segment((x+r1*np.cos(theta2),y+r1*np.sin(theta2)),(x+r2*np.cos(theta2),y+r2*np.sin(theta2)))\n",
    "        self.l = [self.l1,self.l2]\n",
    "        self.gamma = [self.gamma1,self.gamma2]\n",
    "        \n",
    "    def draw(self,ax,color):\n",
    "        l11, l12 = tuple(self.l1.points[0]),tuple(self.l1.points[1])\n",
    "        l21, l22 = tuple(self.l2.points[0]),tuple(self.l2.points[1])\n",
    "        lc = mc.LineCollection([[l11,l12],[l21,l22]], colors = color, linewidths=1)\n",
    "        self.gamma1.draw(ax,color)\n",
    "        self.gamma2.draw(ax,color)\n",
    "        ax.add_collection(lc)\n",
    "        \n",
    "        \n",
    "        \n",
    "        \n",
    "        \n",
    "    def bisect(self):\n",
    "        L = Interval(self.r1,(self.r1+self.r2)/2,self.theta1, (self.theta1+self.theta2)/2)\n",
    "        R = Interval((self.r1+self.r2)/2,self.r2, (self.theta1+self.theta2)/2,self.theta2)\n",
    "        return L,R"
   ]
  },
  {
   "cell_type": "code",
   "execution_count": 14,
   "id": "7e7641cf",
   "metadata": {},
   "outputs": [
    {
     "data": {
      "image/png": "[encoded data removed]",
      "text/plain": [
       "<matplotlib.figure.Figure at 0x7fb7eb74d0f0>"
      ]
     },
     "metadata": {
      "needs_background": "light"
     },
     "output_type": "display_data"
    }
   ],
   "source": [
    "I2 = Interval(1,2,2.1,3,origin=(3,1))\n",
    "I1 = Interval(1,2,0.5,1.7,origin=(0,0))\n",
    "fig,ax = plt.subplots()\n",
    "I2.draw(ax,'red')\n",
    "I1.draw(ax,'blue')\n",
    "plt.axis('equal')\n",
    "plt.grid()\n",
    "plt.show()"
   ]
  },
  {
   "cell_type": "code",
   "execution_count": 16,
   "id": "eaad4baf",
   "metadata": {},
   "outputs": [
    {
     "data": {
      "image/png": "[encoded data removed]",
      "text/plain": [
       "<matplotlib.figure.Figure at 0x7fb7eb83d4a8>"
      ]
     },
     "metadata": {
      "needs_background": "light"
     },
     "output_type": "display_data"
    }
   ],
   "source": [
    "L,R = I1.bisect()\n",
    "fig,ax = plt.subplots()\n",
    "L.draw(ax,'green')\n",
    "R.draw(ax,'yellow')\n",
    "plt.axis('equal')\n",
    "plt.grid()\n",
    "plt.show()"
   ]
  },
  {
   "cell_type": "code",
   "execution_count": 9,
   "id": "6b4a8234",
   "metadata": {},
   "outputs": [
    {
     "data": {
      "text/plain": [
       "(0, 0)"
      ]
     },
     "execution_count": 9,
     "metadata": {},
     "output_type": "execute_result"
    }
   ],
   "source": [
    "s1 = Segment((0,0),(0,1))\n",
    "tuple(s1.points[0])"
   ]
  },
  {
   "cell_type": "code",
   "execution_count": 5,
   "id": "c6e432dd",
   "metadata": {},
   "outputs": [],
   "source": [
    "def inclusion_test(I,Iprime):\n",
    "    for i in range(2):\n",
    "        j = 1 if i == 0 else 0\n",
    "        if arc_arc(I.gamma[i],Iprime.gamma[j]):\n",
    "            return True\n",
    "        if line_arc(I.l[i],Iprime.gamma[j]):\n",
    "            return True\n",
    "        if line_line(I.l[i],Iprime.l[j]):\n",
    "            return True\n",
    "    return False"
   ]
  },
  {
   "cell_type": "code",
   "execution_count": null,
   "id": "0ef23f10",
   "metadata": {},
   "outputs": [],
   "source": [
    "def interval_analysis(I,Iprime,Nr,Ntheta):\n",
    "    if not inclusion_test(I,Iprime):\n",
    "        J = Interval(0,0,0,0)\n",
    "    else:\n",
    "        N = Nr\n",
    "        n = 0\n",
    "        for i in range(2):\n",
    "            L,R = I.bisect()\n",
    "            while n<N:\n",
    "                LL,LR = L.bisect()\n",
    "                RL,RR = R.bisect()\n",
    "                if not inclusion_test(R,Iprime):\n",
    "                    L = LL\n",
    "                    R = LR\n",
    "                elif not inclusion_test(L,Iprime):\n",
    "                    L = RL\n",
    "                    R = RR\n",
    "                else:\n",
    "                    if inclusion_test(LL,Iprime):\n",
    "                        L = LL\n",
    "                    else:\n",
    "                        L = LR\n",
    "                    if inclusion_test(RR,Iprime):\n",
    "                        R = RR\n",
    "                    else:\n",
    "                        R = RL\n",
    "                n += 1\n",
    "            if i == 0:    \n",
    "                Jr = [L.r1,R.r2]\n",
    "            else:\n",
    "                Jtheta = [L.theta1,R.theta2]\n",
    "            N = Ntheta\n",
    "            n = 0\n",
    "        J = Interval(*Jr,*Jtheta)    \n",
    "        return J\n",
    "                        \n",
    "        \n",
    "    "
   ]
  }
 ],
 "metadata": {
  "kernelspec": {
   "display_name": "Python 3",
   "language": "python",
   "name": "python3"
  },
  "language_info": {
   "codemirror_mode": {
    "name": "ipython",
    "version": 3
   },
   "file_extension": ".py",
   "mimetype": "text/x-python",
   "name": "python",
   "nbconvert_exporter": "python",
   "pygments_lexer": "ipython3",
   "version": "3.6.9"
  }
 },
 "nbformat": 4,
 "nbformat_minor": 5
}
